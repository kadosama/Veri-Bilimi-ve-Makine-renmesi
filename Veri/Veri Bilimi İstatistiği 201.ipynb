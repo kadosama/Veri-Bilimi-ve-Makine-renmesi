{
 "cells": [
  {
   "cell_type": "markdown",
   "id": "c6634620",
   "metadata": {},
   "source": [
    "# Web Sitesinde Geçirilen Sürenin Testi\n"
   ]
  },
  {
   "cell_type": "code",
   "execution_count": 1,
   "id": "3049f36f",
   "metadata": {},
   "outputs": [],
   "source": [
    "import numpy as np\n",
    "import pandas as pd"
   ]
  },
  {
   "cell_type": "code",
   "execution_count": 2,
   "id": "db11beb4",
   "metadata": {},
   "outputs": [],
   "source": [
    "olcum=np.random.randint(0,170,50)"
   ]
  },
  {
   "cell_type": "code",
   "execution_count": 3,
   "id": "50899d8e",
   "metadata": {},
   "outputs": [
    {
     "data": {
      "text/plain": [
       "array([ 70,  22, 118,  29, 135,  16, 163,  38,  49,  86,  89, 108,  17,\n",
       "       169, 102, 166,   8,  85,  15,  79,  10,  11,  80,  51,  92,   5,\n",
       "        61,  78, 162,  37,  83, 149,  91, 143, 155,  72,  76,  83,  27,\n",
       "        89, 133, 109,  13,  72,  48, 147,  86,   2,  94,  82])"
      ]
     },
     "execution_count": 3,
     "metadata": {},
     "output_type": "execute_result"
    }
   ],
   "source": [
    "olcum"
   ]
  },
  {
   "cell_type": "code",
   "execution_count": 4,
   "id": "0ef9e577",
   "metadata": {},
   "outputs": [
    {
     "data": {
      "text/plain": [
       "array([ 70,  22, 118,  29, 135,  16, 163,  38,  49,  86])"
      ]
     },
     "execution_count": 4,
     "metadata": {},
     "output_type": "execute_result"
    }
   ],
   "source": [
    "olcum[0:10]"
   ]
  },
  {
   "cell_type": "code",
   "execution_count": 5,
   "id": "b95ad8de",
   "metadata": {},
   "outputs": [],
   "source": [
    "import scipy.stats as stats"
   ]
  },
  {
   "cell_type": "code",
   "execution_count": 6,
   "id": "18c50df7",
   "metadata": {},
   "outputs": [
    {
     "data": {
      "text/plain": [
       "DescribeResult(nobs=50, minmax=(2, 169), mean=78.1, variance=2385.2755102040815, skewness=0.19678584678986344, kurtosis=-0.8950876692612191)"
      ]
     },
     "execution_count": 6,
     "metadata": {},
     "output_type": "execute_result"
    }
   ],
   "source": [
    "stats.describe(olcum)"
   ]
  },
  {
   "cell_type": "markdown",
   "id": "bf86cfc2",
   "metadata": {},
   "source": [
    "# varsayımlar\n",
    "#normallik varsayımı"
   ]
  },
  {
   "cell_type": "code",
   "execution_count": 7,
   "id": "4c36dd26",
   "metadata": {},
   "outputs": [
    {
     "data": {
      "image/png": "[encoded data removed]",
      "text/plain": [
       "<Figure size 432x288 with 1 Axes>"
      ]
     },
     "metadata": {
      "needs_background": "light"
     },
     "output_type": "display_data"
    }
   ],
   "source": [
    "#histogram\n",
    "pd.DataFrame(olcum).plot.hist();"
   ]
  },
  {
   "cell_type": "code",
   "execution_count": 8,
   "id": "b8c8dca6",
   "metadata": {},
   "outputs": [
    {
     "data": {
      "image/png": "[encoded data removed]",
      "text/plain": [
       "<Figure size 432x288 with 1 Axes>"
      ]
     },
     "metadata": {
      "needs_background": "light"
     },
     "output_type": "display_data"
    }
   ],
   "source": [
    "#qqplot\n",
    "import pylab\n",
    "stats.probplot(olcum,dist=\"norm\",plot=pylab)\n",
    "pylab.show()"
   ]
  },
  {
   "cell_type": "markdown",
   "id": "47242e12",
   "metadata": {},
   "source": [
    "\n",
    "# shapiro-wilks testi"
   ]
  },
  {
   "cell_type": "markdown",
   "id": "264b2f14",
   "metadata": {},
   "source": [
    "h0(ilk hipotez türü):ornek dagılımı ile normal teorik dagılımı ar.anlamlı fark yok\n",
    "\n",
    "\n",
    "\n",
    "h1:...var\n",
    "\n",
    "\n",
    "\n",
    "sadece p valueya bakarak işimiz görülebilir p value 0.05den küçükse h0 ı reddet"
   ]
  },
  {
   "cell_type": "code",
   "execution_count": 9,
   "id": "92bd44c1",
   "metadata": {},
   "outputs": [],
   "source": [
    "from scipy.stats import shapiro\n"
   ]
  },
  {
   "cell_type": "code",
   "execution_count": 10,
   "id": "55075478",
   "metadata": {},
   "outputs": [
    {
     "data": {
      "text/plain": [
       "ShapiroResult(statistic=0.946153461933136, pvalue=0.023764995858073235)"
      ]
     },
     "execution_count": 10,
     "metadata": {},
     "output_type": "execute_result"
    }
   ],
   "source": [
    "shapiro(olcum)"
   ]
  },
  {
   "cell_type": "markdown",
   "id": "b76ebeec",
   "metadata": {},
   "source": [
    "# hipotez testinin uygulaması"
   ]
  },
  {
   "cell_type": "markdown",
   "id": "979d62e7",
   "metadata": {},
   "source": [
    "ho:web sitemizde geçirilen süre 170\n",
    "\n",
    "\n",
    "\n",
    "\n",
    "h1:...deildir"
   ]
  },
  {
   "cell_type": "code",
   "execution_count": 11,
   "id": "f07487ea",
   "metadata": {},
   "outputs": [
    {
     "data": {
      "text/plain": [
       "Ttest_1sampResult(statistic=-13.30550121368721, pvalue=6.88323408319547e-18)"
      ]
     },
     "execution_count": 11,
     "metadata": {},
     "output_type": "execute_result"
    }
   ],
   "source": [
    "stats.ttest_1samp(olcum,popmean=170)#h0 reddetedemediğmiz zaman bu parametrik testi kullandık"
   ]
  },
  {
   "cell_type": "code",
   "execution_count": 12,
   "id": "60ae8573",
   "metadata": {},
   "outputs": [],
   "source": [
    "from statsmodels.stats.descriptivestats import sign_test#h1 reddetedemediğmiz zaman bu parametrik testi kullandık(simetrik ise örneklem)"
   ]
  },
  {
   "cell_type": "code",
   "execution_count": 13,
   "id": "de7c9be2",
   "metadata": {},
   "outputs": [
    {
     "data": {
      "text/plain": [
       "(-25.0, 1.7763568394002505e-15)"
      ]
     },
     "execution_count": 13,
     "metadata": {},
     "output_type": "execute_result"
    }
   ],
   "source": [
    "sign_test(olcum,170)"
   ]
  },
  {
   "cell_type": "markdown",
   "id": "1cb47665",
   "metadata": {},
   "source": [
    "# İş Uygulaması: Dönüşüm Oranı Testi\n",
    "# tek örneklem t testi"
   ]
  },
  {
   "cell_type": "raw",
   "id": "7d681d7e",
   "metadata": {},
   "source": [
    "h0:0.125\n",
    "h1:0.125 deil"
   ]
  },
  {
   "cell_type": "code",
   "execution_count": 14,
   "id": "aa164d93",
   "metadata": {},
   "outputs": [],
   "source": [
    "#tek örneklem oran testi\n",
    "from statsmodels.stats.proportion import proportions_ztest"
   ]
  },
  {
   "cell_type": "code",
   "execution_count": 15,
   "id": "5a7efdf7",
   "metadata": {},
   "outputs": [],
   "source": [
    "count=40\n",
    "nobs=500\n",
    "value=0.125"
   ]
  },
  {
   "cell_type": "code",
   "execution_count": 16,
   "id": "f89413b3",
   "metadata": {},
   "outputs": [
    {
     "data": {
      "text/plain": [
       "(-3.7090151628513017, 0.0002080669689845979)"
      ]
     },
     "execution_count": 16,
     "metadata": {},
     "output_type": "execute_result"
    }
   ],
   "source": [
    "proportions_ztest(count,nobs,value)"
   ]
  },
  {
   "cell_type": "markdown",
   "id": "c204e508",
   "metadata": {},
   "source": [
    "\n",
    "# Bağımsız 2 örneklem t testi "
   ]
  },
  {
   "cell_type": "markdown",
   "id": "90a1bc43",
   "metadata": {},
   "source": [
    "h0:m1=m2\n",
    "\n",
    "\n",
    "\n",
    "\n",
    "h1:m1!=m2"
   ]
  },
  {
   "cell_type": "code",
   "execution_count": 17,
   "id": "8692b841",
   "metadata": {},
   "outputs": [],
   "source": [
    "#veri tipi 1"
   ]
  },
  {
   "cell_type": "code",
   "execution_count": 18,
   "id": "bbe919c9",
   "metadata": {},
   "outputs": [],
   "source": [
    "a=np.random.randint(19,30,30)"
   ]
  },
  {
   "cell_type": "code",
   "execution_count": 19,
   "id": "9186d07a",
   "metadata": {},
   "outputs": [],
   "source": [
    "b=np.random.randint(28,39,30)"
   ]
  },
  {
   "cell_type": "code",
   "execution_count": 20,
   "id": "8dfa165d",
   "metadata": {},
   "outputs": [],
   "source": [
    "A=pd.DataFrame(a)\n",
    "B=pd.DataFrame(b)"
   ]
  },
  {
   "cell_type": "code",
   "execution_count": 21,
   "id": "a3c779db",
   "metadata": {},
   "outputs": [],
   "source": [
    "A_B=pd.concat([A,B],axis=1)\n",
    "A_B.columns=[\"A\",\"B\"]"
   ]
  },
  {
   "cell_type": "code",
   "execution_count": 22,
   "id": "b6f3fb11",
   "metadata": {},
   "outputs": [
    {
     "data": {
      "text/html": [
       "<div>\n",
       "<style scoped>\n",
       "    .dataframe tbody tr th:only-of-type {\n",
       "        vertical-align: middle;\n",
       "    }\n",
       "\n",
       "    .dataframe tbody tr th {\n",
       "        vertical-align: top;\n",
       "    }\n",
       "\n",
       "    .dataframe thead th {\n",
       "        text-align: right;\n",
       "    }\n",
       "</style>\n",
       "<table border=\"1\" class=\"dataframe\">\n",
       "  <thead>\n",
       "    <tr style=\"text-align: right;\">\n",
       "      <th></th>\n",
       "      <th>A</th>\n",
       "      <th>B</th>\n",
       "    </tr>\n",
       "  </thead>\n",
       "  <tbody>\n",
       "    <tr>\n",
       "      <th>0</th>\n",
       "      <td>28</td>\n",
       "      <td>38</td>\n",
       "    </tr>\n",
       "    <tr>\n",
       "      <th>1</th>\n",
       "      <td>22</td>\n",
       "      <td>30</td>\n",
       "    </tr>\n",
       "    <tr>\n",
       "      <th>2</th>\n",
       "      <td>20</td>\n",
       "      <td>33</td>\n",
       "    </tr>\n",
       "    <tr>\n",
       "      <th>3</th>\n",
       "      <td>23</td>\n",
       "      <td>29</td>\n",
       "    </tr>\n",
       "    <tr>\n",
       "      <th>4</th>\n",
       "      <td>19</td>\n",
       "      <td>35</td>\n",
       "    </tr>\n",
       "  </tbody>\n",
       "</table>\n",
       "</div>"
      ],
      "text/plain": [
       "    A   B\n",
       "0  28  38\n",
       "1  22  30\n",
       "2  20  33\n",
       "3  23  29\n",
       "4  19  35"
      ]
     },
     "execution_count": 22,
     "metadata": {},
     "output_type": "execute_result"
    }
   ],
   "source": [
    "A_B.head()"
   ]
  },
  {
   "cell_type": "code",
   "execution_count": 23,
   "id": "174db1e6",
   "metadata": {},
   "outputs": [],
   "source": [
    "#veri tipi 2"
   ]
  },
  {
   "cell_type": "code",
   "execution_count": 24,
   "id": "3b074b92",
   "metadata": {},
   "outputs": [
    {
     "name": "stdout",
     "output_type": "stream",
     "text": [
      "   gelir grup\n",
      "0     28    A\n",
      "1     22    A\n",
      "2     20    A\n",
      "3     23    A\n",
      "4     19    A\n",
      "    gelir grup\n",
      "25     32    B\n",
      "26     36    B\n",
      "27     33    B\n",
      "28     36    B\n",
      "29     33    B\n"
     ]
    }
   ],
   "source": [
    "#A ve A nın grubu\n",
    "GRUP_A=np.arange(len(A))\n",
    "GRUP_A=pd.DataFrame(GRUP_A)\n",
    "GRUP_A[:]=\"A\"\n",
    "A=pd.concat([A,GRUP_A],axis=1)\n",
    "\n",
    "#B ve B nın grubu\n",
    "GRUP_B=np.arange(len(B))\n",
    "GRUP_B=pd.DataFrame(GRUP_B)\n",
    "GRUP_B[:]=\"B\"\n",
    "B=pd.concat([B,GRUP_B],axis=1)\n",
    "\n",
    "#Tüm veri\n",
    "AB=pd.concat([A,B])\n",
    "AB.columns=[\"gelir\",\"grup\"]\n",
    "print(AB.head())\n",
    "print(AB.tail())"
   ]
  },
  {
   "cell_type": "code",
   "execution_count": 25,
   "id": "34834db2",
   "metadata": {},
   "outputs": [
    {
     "data": {
      "image/png": "[encoded data removed]",
      "text/plain": [
       "<Figure size 432x288 with 1 Axes>"
      ]
     },
     "metadata": {
      "needs_background": "light"
     },
     "output_type": "display_data"
    }
   ],
   "source": [
    "import seaborn as sns\n",
    "sns.boxplot(x=\"grup\",y=\"gelir\",data=AB);"
   ]
  },
  {
   "cell_type": "markdown",
   "id": "d93068be",
   "metadata": {},
   "source": [
    "# varsayım kontrolü"
   ]
  },
  {
   "cell_type": "code",
   "execution_count": 26,
   "id": "a1175380",
   "metadata": {},
   "outputs": [],
   "source": [
    "#normallik varsayımı"
   ]
  },
  {
   "cell_type": "code",
   "execution_count": 27,
   "id": "504f546d",
   "metadata": {},
   "outputs": [
    {
     "data": {
      "text/plain": [
       "ShapiroResult(statistic=0.894916296005249, pvalue=0.006321904715150595)"
      ]
     },
     "execution_count": 27,
     "metadata": {},
     "output_type": "execute_result"
    }
   ],
   "source": [
    "shapiro(A_B.A)"
   ]
  },
  {
   "cell_type": "code",
   "execution_count": 28,
   "id": "4f63011e",
   "metadata": {},
   "outputs": [
    {
     "data": {
      "text/plain": [
       "ShapiroResult(statistic=0.9459885954856873, pvalue=0.13189953565597534)"
      ]
     },
     "execution_count": 28,
     "metadata": {},
     "output_type": "execute_result"
    }
   ],
   "source": [
    "shapiro(A_B.B)"
   ]
  },
  {
   "cell_type": "code",
   "execution_count": 29,
   "id": "d8de91d1",
   "metadata": {},
   "outputs": [],
   "source": [
    "#varyans homojenliği varsayımı"
   ]
  },
  {
   "cell_type": "markdown",
   "id": "12f35d38",
   "metadata": {},
   "source": [
    "h0:varyanslar homojendir\n",
    "\n",
    "\n",
    "\n",
    "h1:..deildir"
   ]
  },
  {
   "cell_type": "code",
   "execution_count": 30,
   "id": "8a88a4a1",
   "metadata": {},
   "outputs": [
    {
     "data": {
      "text/plain": [
       "LeveneResult(statistic=1.9159956076134697, pvalue=0.17160189093282)"
      ]
     },
     "execution_count": 30,
     "metadata": {},
     "output_type": "execute_result"
    }
   ],
   "source": [
    "stats.levene(A_B.A,A_B.B)"
   ]
  },
  {
   "cell_type": "markdown",
   "id": "ea11d09e",
   "metadata": {},
   "source": [
    "# HİPOTEZ TESTİ"
   ]
  },
  {
   "cell_type": "code",
   "execution_count": 31,
   "id": "eae6f948",
   "metadata": {},
   "outputs": [
    {
     "data": {
      "text/plain": [
       "Ttest_indResult(statistic=-10.173412559212535, pvalue=1.635091067434065e-14)"
      ]
     },
     "execution_count": 31,
     "metadata": {},
     "output_type": "execute_result"
    }
   ],
   "source": [
    "stats.ttest_ind(A_B[\"A\"],A_B[\"B\"],equal_var=True)"
   ]
  },
  {
   "cell_type": "markdown",
   "id": "6f4194f6",
   "metadata": {},
   "source": [
    "# Nonparametrik Bağımsız İki Örneklem Testi"
   ]
  },
  {
   "cell_type": "code",
   "execution_count": 32,
   "id": "8e50bba9",
   "metadata": {},
   "outputs": [
    {
     "data": {
      "text/plain": [
       "MannwhitneyuResult(statistic=21.5, pvalue=1.1170057278037326e-10)"
      ]
     },
     "execution_count": 32,
     "metadata": {},
     "output_type": "execute_result"
    }
   ],
   "source": [
    "stats.mannwhitneyu(A_B[\"A\"],A_B[\"B\"])"
   ]
  },
  {
   "cell_type": "markdown",
   "id": "943290a8",
   "metadata": {},
   "source": [
    "# BAĞIMLI 2 ÖRNEKLEM T TESTİ"
   ]
  },
  {
   "cell_type": "markdown",
   "id": "6d820c5a",
   "metadata": {},
   "source": [
    "hO:oncesi=sonrası\n",
    "h1:oncesi!=sonrası"
   ]
  },
  {
   "cell_type": "code",
   "execution_count": 33,
   "id": "cc401bc1",
   "metadata": {},
   "outputs": [],
   "source": [
    "oncesi=pd.DataFrame(np.random.randint(115,124,40))\n",
    "sonrası=pd.DataFrame(np.random.randint(115,130,40))"
   ]
  },
  {
   "cell_type": "code",
   "execution_count": 34,
   "id": "5970ed8d",
   "metadata": {},
   "outputs": [
    {
     "data": {
      "text/html": [
       "<div>\n",
       "<style scoped>\n",
       "    .dataframe tbody tr th:only-of-type {\n",
       "        vertical-align: middle;\n",
       "    }\n",
       "\n",
       "    .dataframe tbody tr th {\n",
       "        vertical-align: top;\n",
       "    }\n",
       "\n",
       "    .dataframe thead th {\n",
       "        text-align: right;\n",
       "    }\n",
       "</style>\n",
       "<table border=\"1\" class=\"dataframe\">\n",
       "  <thead>\n",
       "    <tr style=\"text-align: right;\">\n",
       "      <th></th>\n",
       "      <th>0</th>\n",
       "    </tr>\n",
       "  </thead>\n",
       "  <tbody>\n",
       "    <tr>\n",
       "      <th>0</th>\n",
       "      <td>120</td>\n",
       "    </tr>\n",
       "    <tr>\n",
       "      <th>1</th>\n",
       "      <td>117</td>\n",
       "    </tr>\n",
       "    <tr>\n",
       "      <th>2</th>\n",
       "      <td>116</td>\n",
       "    </tr>\n",
       "    <tr>\n",
       "      <th>3</th>\n",
       "      <td>119</td>\n",
       "    </tr>\n",
       "    <tr>\n",
       "      <th>4</th>\n",
       "      <td>117</td>\n",
       "    </tr>\n",
       "  </tbody>\n",
       "</table>\n",
       "</div>"
      ],
      "text/plain": [
       "     0\n",
       "0  120\n",
       "1  117\n",
       "2  116\n",
       "3  119\n",
       "4  117"
      ]
     },
     "execution_count": 34,
     "metadata": {},
     "output_type": "execute_result"
    }
   ],
   "source": [
    "oncesi[0:5]"
   ]
  },
  {
   "cell_type": "code",
   "execution_count": 35,
   "id": "12ea7f1b",
   "metadata": {},
   "outputs": [
    {
     "data": {
      "text/html": [
       "<div>\n",
       "<style scoped>\n",
       "    .dataframe tbody tr th:only-of-type {\n",
       "        vertical-align: middle;\n",
       "    }\n",
       "\n",
       "    .dataframe tbody tr th {\n",
       "        vertical-align: top;\n",
       "    }\n",
       "\n",
       "    .dataframe thead th {\n",
       "        text-align: right;\n",
       "    }\n",
       "</style>\n",
       "<table border=\"1\" class=\"dataframe\">\n",
       "  <thead>\n",
       "    <tr style=\"text-align: right;\">\n",
       "      <th></th>\n",
       "      <th>0</th>\n",
       "    </tr>\n",
       "  </thead>\n",
       "  <tbody>\n",
       "    <tr>\n",
       "      <th>0</th>\n",
       "      <td>115</td>\n",
       "    </tr>\n",
       "    <tr>\n",
       "      <th>1</th>\n",
       "      <td>117</td>\n",
       "    </tr>\n",
       "    <tr>\n",
       "      <th>2</th>\n",
       "      <td>123</td>\n",
       "    </tr>\n",
       "    <tr>\n",
       "      <th>3</th>\n",
       "      <td>127</td>\n",
       "    </tr>\n",
       "    <tr>\n",
       "      <th>4</th>\n",
       "      <td>129</td>\n",
       "    </tr>\n",
       "  </tbody>\n",
       "</table>\n",
       "</div>"
      ],
      "text/plain": [
       "     0\n",
       "0  115\n",
       "1  117\n",
       "2  123\n",
       "3  127\n",
       "4  129"
      ]
     },
     "execution_count": 35,
     "metadata": {},
     "output_type": "execute_result"
    }
   ],
   "source": [
    "sonrası[0:5]"
   ]
  },
  {
   "cell_type": "markdown",
   "id": "e663e114",
   "metadata": {},
   "source": [
    "# varsayım kontrolleri"
   ]
  },
  {
   "cell_type": "code",
   "execution_count": 36,
   "id": "f8644468",
   "metadata": {},
   "outputs": [
    {
     "data": {
      "text/html": [
       "<div>\n",
       "<style scoped>\n",
       "    .dataframe tbody tr th:only-of-type {\n",
       "        vertical-align: middle;\n",
       "    }\n",
       "\n",
       "    .dataframe tbody tr th {\n",
       "        vertical-align: top;\n",
       "    }\n",
       "\n",
       "    .dataframe thead th {\n",
       "        text-align: right;\n",
       "    }\n",
       "</style>\n",
       "<table border=\"1\" class=\"dataframe\">\n",
       "  <thead>\n",
       "    <tr style=\"text-align: right;\">\n",
       "      <th></th>\n",
       "      <th>oncesı</th>\n",
       "      <th>sonrasi</th>\n",
       "    </tr>\n",
       "  </thead>\n",
       "  <tbody>\n",
       "    <tr>\n",
       "      <th>0</th>\n",
       "      <td>120</td>\n",
       "      <td>115</td>\n",
       "    </tr>\n",
       "    <tr>\n",
       "      <th>1</th>\n",
       "      <td>117</td>\n",
       "      <td>117</td>\n",
       "    </tr>\n",
       "    <tr>\n",
       "      <th>2</th>\n",
       "      <td>116</td>\n",
       "      <td>123</td>\n",
       "    </tr>\n",
       "    <tr>\n",
       "      <th>3</th>\n",
       "      <td>119</td>\n",
       "      <td>127</td>\n",
       "    </tr>\n",
       "    <tr>\n",
       "      <th>4</th>\n",
       "      <td>117</td>\n",
       "      <td>129</td>\n",
       "    </tr>\n",
       "    <tr>\n",
       "      <th>5</th>\n",
       "      <td>121</td>\n",
       "      <td>127</td>\n",
       "    </tr>\n",
       "    <tr>\n",
       "      <th>6</th>\n",
       "      <td>122</td>\n",
       "      <td>119</td>\n",
       "    </tr>\n",
       "    <tr>\n",
       "      <th>7</th>\n",
       "      <td>117</td>\n",
       "      <td>127</td>\n",
       "    </tr>\n",
       "    <tr>\n",
       "      <th>8</th>\n",
       "      <td>117</td>\n",
       "      <td>125</td>\n",
       "    </tr>\n",
       "    <tr>\n",
       "      <th>9</th>\n",
       "      <td>123</td>\n",
       "      <td>124</td>\n",
       "    </tr>\n",
       "    <tr>\n",
       "      <th>10</th>\n",
       "      <td>115</td>\n",
       "      <td>116</td>\n",
       "    </tr>\n",
       "    <tr>\n",
       "      <th>11</th>\n",
       "      <td>123</td>\n",
       "      <td>129</td>\n",
       "    </tr>\n",
       "    <tr>\n",
       "      <th>12</th>\n",
       "      <td>120</td>\n",
       "      <td>127</td>\n",
       "    </tr>\n",
       "    <tr>\n",
       "      <th>13</th>\n",
       "      <td>117</td>\n",
       "      <td>115</td>\n",
       "    </tr>\n",
       "    <tr>\n",
       "      <th>14</th>\n",
       "      <td>115</td>\n",
       "      <td>123</td>\n",
       "    </tr>\n",
       "    <tr>\n",
       "      <th>15</th>\n",
       "      <td>121</td>\n",
       "      <td>121</td>\n",
       "    </tr>\n",
       "    <tr>\n",
       "      <th>16</th>\n",
       "      <td>118</td>\n",
       "      <td>123</td>\n",
       "    </tr>\n",
       "    <tr>\n",
       "      <th>17</th>\n",
       "      <td>121</td>\n",
       "      <td>122</td>\n",
       "    </tr>\n",
       "    <tr>\n",
       "      <th>18</th>\n",
       "      <td>116</td>\n",
       "      <td>122</td>\n",
       "    </tr>\n",
       "    <tr>\n",
       "      <th>19</th>\n",
       "      <td>115</td>\n",
       "      <td>122</td>\n",
       "    </tr>\n",
       "    <tr>\n",
       "      <th>20</th>\n",
       "      <td>118</td>\n",
       "      <td>125</td>\n",
       "    </tr>\n",
       "    <tr>\n",
       "      <th>21</th>\n",
       "      <td>120</td>\n",
       "      <td>121</td>\n",
       "    </tr>\n",
       "    <tr>\n",
       "      <th>22</th>\n",
       "      <td>120</td>\n",
       "      <td>116</td>\n",
       "    </tr>\n",
       "    <tr>\n",
       "      <th>23</th>\n",
       "      <td>119</td>\n",
       "      <td>129</td>\n",
       "    </tr>\n",
       "    <tr>\n",
       "      <th>24</th>\n",
       "      <td>115</td>\n",
       "      <td>121</td>\n",
       "    </tr>\n",
       "    <tr>\n",
       "      <th>25</th>\n",
       "      <td>119</td>\n",
       "      <td>119</td>\n",
       "    </tr>\n",
       "    <tr>\n",
       "      <th>26</th>\n",
       "      <td>116</td>\n",
       "      <td>117</td>\n",
       "    </tr>\n",
       "    <tr>\n",
       "      <th>27</th>\n",
       "      <td>121</td>\n",
       "      <td>119</td>\n",
       "    </tr>\n",
       "    <tr>\n",
       "      <th>28</th>\n",
       "      <td>122</td>\n",
       "      <td>122</td>\n",
       "    </tr>\n",
       "    <tr>\n",
       "      <th>29</th>\n",
       "      <td>122</td>\n",
       "      <td>127</td>\n",
       "    </tr>\n",
       "    <tr>\n",
       "      <th>30</th>\n",
       "      <td>119</td>\n",
       "      <td>121</td>\n",
       "    </tr>\n",
       "    <tr>\n",
       "      <th>31</th>\n",
       "      <td>116</td>\n",
       "      <td>115</td>\n",
       "    </tr>\n",
       "    <tr>\n",
       "      <th>32</th>\n",
       "      <td>117</td>\n",
       "      <td>119</td>\n",
       "    </tr>\n",
       "    <tr>\n",
       "      <th>33</th>\n",
       "      <td>119</td>\n",
       "      <td>126</td>\n",
       "    </tr>\n",
       "    <tr>\n",
       "      <th>34</th>\n",
       "      <td>117</td>\n",
       "      <td>125</td>\n",
       "    </tr>\n",
       "    <tr>\n",
       "      <th>35</th>\n",
       "      <td>120</td>\n",
       "      <td>125</td>\n",
       "    </tr>\n",
       "    <tr>\n",
       "      <th>36</th>\n",
       "      <td>119</td>\n",
       "      <td>115</td>\n",
       "    </tr>\n",
       "    <tr>\n",
       "      <th>37</th>\n",
       "      <td>119</td>\n",
       "      <td>122</td>\n",
       "    </tr>\n",
       "    <tr>\n",
       "      <th>38</th>\n",
       "      <td>120</td>\n",
       "      <td>127</td>\n",
       "    </tr>\n",
       "    <tr>\n",
       "      <th>39</th>\n",
       "      <td>122</td>\n",
       "      <td>120</td>\n",
       "    </tr>\n",
       "  </tbody>\n",
       "</table>\n",
       "</div>"
      ],
      "text/plain": [
       "    oncesı  sonrasi\n",
       "0      120      115\n",
       "1      117      117\n",
       "2      116      123\n",
       "3      119      127\n",
       "4      117      129\n",
       "5      121      127\n",
       "6      122      119\n",
       "7      117      127\n",
       "8      117      125\n",
       "9      123      124\n",
       "10     115      116\n",
       "11     123      129\n",
       "12     120      127\n",
       "13     117      115\n",
       "14     115      123\n",
       "15     121      121\n",
       "16     118      123\n",
       "17     121      122\n",
       "18     116      122\n",
       "19     115      122\n",
       "20     118      125\n",
       "21     120      121\n",
       "22     120      116\n",
       "23     119      129\n",
       "24     115      121\n",
       "25     119      119\n",
       "26     116      117\n",
       "27     121      119\n",
       "28     122      122\n",
       "29     122      127\n",
       "30     119      121\n",
       "31     116      115\n",
       "32     117      119\n",
       "33     119      126\n",
       "34     117      125\n",
       "35     120      125\n",
       "36     119      115\n",
       "37     119      122\n",
       "38     120      127\n",
       "39     122      120"
      ]
     },
     "execution_count": 36,
     "metadata": {},
     "output_type": "execute_result"
    }
   ],
   "source": [
    "df=pd.concat([oncesi,sonrası],axis=1)\n",
    "df.columns=[\"oncesı\",\"sonrasi\"]\n",
    "df"
   ]
  },
  {
   "cell_type": "code",
   "execution_count": 37,
   "id": "a013d3cb",
   "metadata": {},
   "outputs": [
    {
     "data": {
      "text/plain": [
       "ShapiroResult(statistic=0.9480315446853638, pvalue=0.0648924708366394)"
      ]
     },
     "execution_count": 37,
     "metadata": {},
     "output_type": "execute_result"
    }
   ],
   "source": [
    "shapiro(df.oncesı)"
   ]
  },
  {
   "cell_type": "code",
   "execution_count": 38,
   "id": "3a6aae1b",
   "metadata": {},
   "outputs": [
    {
     "data": {
      "text/plain": [
       "ShapiroResult(statistic=0.9459423422813416, pvalue=0.05503299832344055)"
      ]
     },
     "execution_count": 38,
     "metadata": {},
     "output_type": "execute_result"
    }
   ],
   "source": [
    "shapiro(df.sonrasi)"
   ]
  },
  {
   "cell_type": "code",
   "execution_count": 39,
   "id": "9abd4eb4",
   "metadata": {},
   "outputs": [
    {
     "data": {
      "text/plain": [
       "LeveneResult(statistic=12.666103413315309, pvalue=0.0006375620023872795)"
      ]
     },
     "execution_count": 39,
     "metadata": {},
     "output_type": "execute_result"
    }
   ],
   "source": [
    "stats.levene(df.oncesı,df.sonrasi)"
   ]
  },
  {
   "cell_type": "markdown",
   "id": "d07791c5",
   "metadata": {},
   "source": [
    "# hipotez testi"
   ]
  },
  {
   "cell_type": "code",
   "execution_count": 40,
   "id": "e9a4ecac",
   "metadata": {},
   "outputs": [
    {
     "data": {
      "text/plain": [
       "Ttest_relResult(statistic=-4.783524528433911, pvalue=2.473738463881568e-05)"
      ]
     },
     "execution_count": 40,
     "metadata": {},
     "output_type": "execute_result"
    }
   ],
   "source": [
    "stats.ttest_rel(df.oncesı,df.sonrasi)"
   ]
  },
  {
   "cell_type": "markdown",
   "id": "703c178a",
   "metadata": {},
   "source": [
    "bunlarda da %95 güvenilirlik var"
   ]
  },
  {
   "cell_type": "markdown",
   "id": "b442bbb0",
   "metadata": {},
   "source": [
    "# Nonparametrik Bağımlı İki Örneklem Testi\n"
   ]
  },
  {
   "cell_type": "code",
   "execution_count": 41,
   "id": "6b523dfe",
   "metadata": {},
   "outputs": [
    {
     "data": {
      "text/plain": [
       "WilcoxonResult(statistic=89.5, pvalue=0.0001266906624176059)"
      ]
     },
     "execution_count": 41,
     "metadata": {},
     "output_type": "execute_result"
    }
   ],
   "source": [
    "stats.wilcoxon(df.oncesı,df.sonrasi)"
   ]
  },
  {
   "cell_type": "markdown",
   "id": "bd5b0a6d",
   "metadata": {},
   "source": [
    "# İki Örneklem Oran Testi"
   ]
  },
  {
   "cell_type": "code",
   "execution_count": 42,
   "id": "85906fd7",
   "metadata": {},
   "outputs": [],
   "source": [
    "basarı_sayısı=np.array([300,250])\n",
    "gozlem_sayısı=np.array([1000,1100])"
   ]
  },
  {
   "cell_type": "code",
   "execution_count": 43,
   "id": "a912bfbe",
   "metadata": {},
   "outputs": [
    {
     "data": {
      "text/plain": [
       "(3.7857863233209255, 0.0001532232957772221)"
      ]
     },
     "execution_count": 43,
     "metadata": {},
     "output_type": "execute_result"
    }
   ],
   "source": [
    "proportions_ztest(count=basarı_sayısı,nobs=gozlem_sayısı)"
   ]
  },
  {
   "cell_type": "markdown",
   "id": "c8e1febc",
   "metadata": {},
   "source": [
    "bunun varsayımı n 30 dan buyuk olması o yüzden yapmadık"
   ]
  },
  {
   "cell_type": "markdown",
   "id": "07a172e2",
   "metadata": {},
   "source": [
    "# Varyans Analizi"
   ]
  },
  {
   "cell_type": "markdown",
   "id": "82ebfb76",
   "metadata": {},
   "source": [
    "h0:m1 m2 m3 arasında grup ortamaları ar. farklılık yok\n",
    "\n",
    "\n",
    "h1:var"
   ]
  },
  {
   "cell_type": "code",
   "execution_count": 45,
   "id": "5bd90bb8",
   "metadata": {},
   "outputs": [
    {
     "data": {
      "text/html": [
       "<div>\n",
       "<style scoped>\n",
       "    .dataframe tbody tr th:only-of-type {\n",
       "        vertical-align: middle;\n",
       "    }\n",
       "\n",
       "    .dataframe tbody tr th {\n",
       "        vertical-align: top;\n",
       "    }\n",
       "\n",
       "    .dataframe thead th {\n",
       "        text-align: right;\n",
       "    }\n",
       "</style>\n",
       "<table border=\"1\" class=\"dataframe\">\n",
       "  <thead>\n",
       "    <tr style=\"text-align: right;\">\n",
       "      <th></th>\n",
       "      <th>grup_a</th>\n",
       "      <th>grup_b</th>\n",
       "      <th>grup_c</th>\n",
       "    </tr>\n",
       "  </thead>\n",
       "  <tbody>\n",
       "    <tr>\n",
       "      <th>0</th>\n",
       "      <td>31</td>\n",
       "      <td>42</td>\n",
       "      <td>42</td>\n",
       "    </tr>\n",
       "    <tr>\n",
       "      <th>1</th>\n",
       "      <td>27</td>\n",
       "      <td>40</td>\n",
       "      <td>40</td>\n",
       "    </tr>\n",
       "    <tr>\n",
       "      <th>2</th>\n",
       "      <td>26</td>\n",
       "      <td>42</td>\n",
       "      <td>42</td>\n",
       "    </tr>\n",
       "    <tr>\n",
       "      <th>3</th>\n",
       "      <td>29</td>\n",
       "      <td>40</td>\n",
       "      <td>40</td>\n",
       "    </tr>\n",
       "    <tr>\n",
       "      <th>4</th>\n",
       "      <td>27</td>\n",
       "      <td>40</td>\n",
       "      <td>40</td>\n",
       "    </tr>\n",
       "  </tbody>\n",
       "</table>\n",
       "</div>"
      ],
      "text/plain": [
       "   grup_a  grup_b  grup_c\n",
       "0      31      42      42\n",
       "1      27      40      40\n",
       "2      26      42      42\n",
       "3      29      40      40\n",
       "4      27      40      40"
      ]
     },
     "execution_count": 45,
     "metadata": {},
     "output_type": "execute_result"
    }
   ],
   "source": [
    "A=pd.DataFrame(np.random.randint(25,32,30))\n",
    "B=pd.DataFrame(np.random.randint(27,36,30))\n",
    "C=B=pd.DataFrame(np.random.randint(36,43,30))\n",
    "dfs=[A,B,C]\n",
    "ABC=pd.concat(dfs,axis=1)\n",
    "ABC.columns=[\"grup_a\",\"grup_b\",\"grup_c\"]\n",
    "ABC.head()"
   ]
  },
  {
   "cell_type": "markdown",
   "id": "972c26e5",
   "metadata": {},
   "source": [
    "# Varsayım Kontrolü"
   ]
  },
  {
   "cell_type": "code",
   "execution_count": 46,
   "id": "dfe98643",
   "metadata": {},
   "outputs": [],
   "source": [
    "#işlemler bağımssız mı yapılmış:evet"
   ]
  },
  {
   "cell_type": "code",
   "execution_count": 47,
   "id": "cdc0e97a",
   "metadata": {},
   "outputs": [
    {
     "data": {
      "text/plain": [
       "ShapiroResult(statistic=0.9028987288475037, pvalue=0.009895355440676212)"
      ]
     },
     "execution_count": 47,
     "metadata": {},
     "output_type": "execute_result"
    }
   ],
   "source": [
    "shapiro(ABC.grup_a)"
   ]
  },
  {
   "cell_type": "code",
   "execution_count": 51,
   "id": "7662df31",
   "metadata": {},
   "outputs": [
    {
     "data": {
      "text/plain": [
       "ShapiroResult(statistic=0.9028987288475037, pvalue=0.009895355440676212)"
      ]
     },
     "execution_count": 51,
     "metadata": {},
     "output_type": "execute_result"
    }
   ],
   "source": [
    "shapiro(ABC[\"grup_a\"])"
   ]
  },
  {
   "cell_type": "code",
   "execution_count": 48,
   "id": "5abe9bc5",
   "metadata": {
    "scrolled": true
   },
   "outputs": [
    {
     "data": {
      "text/plain": [
       "ShapiroResult(statistic=0.8978602290153503, pvalue=0.007448099087923765)"
      ]
     },
     "execution_count": 48,
     "metadata": {},
     "output_type": "execute_result"
    }
   ],
   "source": [
    "shapiro(ABC.grup_b)"
   ]
  },
  {
   "cell_type": "code",
   "execution_count": 52,
   "id": "6cb52a61",
   "metadata": {},
   "outputs": [
    {
     "data": {
      "text/plain": [
       "ShapiroResult(statistic=0.8978602290153503, pvalue=0.007448099087923765)"
      ]
     },
     "execution_count": 52,
     "metadata": {},
     "output_type": "execute_result"
    }
   ],
   "source": [
    "shapiro(ABC[\"grup_b\"])"
   ]
  },
  {
   "cell_type": "code",
   "execution_count": 49,
   "id": "75f065b4",
   "metadata": {},
   "outputs": [
    {
     "data": {
      "text/plain": [
       "ShapiroResult(statistic=0.8978602290153503, pvalue=0.007448099087923765)"
      ]
     },
     "execution_count": 49,
     "metadata": {},
     "output_type": "execute_result"
    }
   ],
   "source": [
    "shapiro(ABC.grup_c)"
   ]
  },
  {
   "cell_type": "code",
   "execution_count": 53,
   "id": "a2c74b60",
   "metadata": {},
   "outputs": [
    {
     "data": {
      "text/plain": [
       "ShapiroResult(statistic=0.8978602290153503, pvalue=0.007448099087923765)"
      ]
     },
     "execution_count": 53,
     "metadata": {},
     "output_type": "execute_result"
    }
   ],
   "source": [
    "shapiro(ABC[\"grup_c\"])"
   ]
  },
  {
   "cell_type": "code",
   "execution_count": 54,
   "id": "20c3aa79",
   "metadata": {},
   "outputs": [
    {
     "data": {
      "text/plain": [
       "LeveneResult(statistic=0.00975445677766572, pvalue=0.9902940465178205)"
      ]
     },
     "execution_count": 54,
     "metadata": {},
     "output_type": "execute_result"
    }
   ],
   "source": [
    "stats.levene(ABC[\"grup_a\"],ABC[\"grup_b\"],ABC[\"grup_c\"])"
   ]
  },
  {
   "cell_type": "markdown",
   "id": "89271b8d",
   "metadata": {},
   "source": [
    "# Hipotez Testi"
   ]
  },
  {
   "cell_type": "code",
   "execution_count": 56,
   "id": "0ed1d28e",
   "metadata": {},
   "outputs": [],
   "source": [
    "from scipy.stats import f_oneway"
   ]
  },
  {
   "cell_type": "code",
   "execution_count": 57,
   "id": "d4d62afc",
   "metadata": {},
   "outputs": [
    {
     "data": {
      "text/plain": [
       "F_onewayResult(statistic=249.98979841671394, pvalue=8.589873035233114e-37)"
      ]
     },
     "execution_count": 57,
     "metadata": {},
     "output_type": "execute_result"
    }
   ],
   "source": [
    "f_oneway(ABC[\"grup_a\"],ABC[\"grup_b\"],ABC[\"grup_c\"])"
   ]
  },
  {
   "cell_type": "code",
   "execution_count": 58,
   "id": "8c4cbbb5",
   "metadata": {},
   "outputs": [
    {
     "data": {
      "text/html": [
       "<div>\n",
       "<style scoped>\n",
       "    .dataframe tbody tr th:only-of-type {\n",
       "        vertical-align: middle;\n",
       "    }\n",
       "\n",
       "    .dataframe tbody tr th {\n",
       "        vertical-align: top;\n",
       "    }\n",
       "\n",
       "    .dataframe thead th {\n",
       "        text-align: right;\n",
       "    }\n",
       "</style>\n",
       "<table border=\"1\" class=\"dataframe\">\n",
       "  <thead>\n",
       "    <tr style=\"text-align: right;\">\n",
       "      <th></th>\n",
       "      <th>count</th>\n",
       "      <th>mean</th>\n",
       "      <th>std</th>\n",
       "      <th>min</th>\n",
       "      <th>25%</th>\n",
       "      <th>50%</th>\n",
       "      <th>75%</th>\n",
       "      <th>max</th>\n",
       "    </tr>\n",
       "  </thead>\n",
       "  <tbody>\n",
       "    <tr>\n",
       "      <th>grup_a</th>\n",
       "      <td>30.0</td>\n",
       "      <td>28.100000</td>\n",
       "      <td>2.139126</td>\n",
       "      <td>25.0</td>\n",
       "      <td>26.0</td>\n",
       "      <td>28.0</td>\n",
       "      <td>30.0</td>\n",
       "      <td>31.0</td>\n",
       "    </tr>\n",
       "    <tr>\n",
       "      <th>grup_b</th>\n",
       "      <td>30.0</td>\n",
       "      <td>38.933333</td>\n",
       "      <td>2.180372</td>\n",
       "      <td>36.0</td>\n",
       "      <td>37.0</td>\n",
       "      <td>39.0</td>\n",
       "      <td>41.0</td>\n",
       "      <td>42.0</td>\n",
       "    </tr>\n",
       "    <tr>\n",
       "      <th>grup_c</th>\n",
       "      <td>30.0</td>\n",
       "      <td>38.933333</td>\n",
       "      <td>2.180372</td>\n",
       "      <td>36.0</td>\n",
       "      <td>37.0</td>\n",
       "      <td>39.0</td>\n",
       "      <td>41.0</td>\n",
       "      <td>42.0</td>\n",
       "    </tr>\n",
       "  </tbody>\n",
       "</table>\n",
       "</div>"
      ],
      "text/plain": [
       "        count       mean       std   min   25%   50%   75%   max\n",
       "grup_a   30.0  28.100000  2.139126  25.0  26.0  28.0  30.0  31.0\n",
       "grup_b   30.0  38.933333  2.180372  36.0  37.0  39.0  41.0  42.0\n",
       "grup_c   30.0  38.933333  2.180372  36.0  37.0  39.0  41.0  42.0"
      ]
     },
     "execution_count": 58,
     "metadata": {},
     "output_type": "execute_result"
    }
   ],
   "source": [
    "ABC.describe().T"
   ]
  },
  {
   "cell_type": "markdown",
   "id": "1a579947",
   "metadata": {},
   "source": [
    "# Nonparametrik Hipotez Testi"
   ]
  },
  {
   "cell_type": "code",
   "execution_count": 59,
   "id": "a3f5b1c4",
   "metadata": {},
   "outputs": [],
   "source": [
    "from scipy.stats import kruskal"
   ]
  },
  {
   "cell_type": "code",
   "execution_count": 60,
   "id": "b61fc322",
   "metadata": {},
   "outputs": [
    {
     "data": {
      "text/plain": [
       "KruskalResult(statistic=59.791488691122915, pvalue=1.0385877559472456e-13)"
      ]
     },
     "execution_count": 60,
     "metadata": {},
     "output_type": "execute_result"
    }
   ],
   "source": [
    "kruskal(ABC[\"grup_a\"],ABC[\"grup_b\"],ABC[\"grup_c\"])"
   ]
  },
  {
   "cell_type": "markdown",
   "id": "be3e9dcf",
   "metadata": {},
   "source": [
    "# Korelasyon Analizi gerçek hayat iş uygulaması"
   ]
  },
  {
   "cell_type": "markdown",
   "id": "26c2a601",
   "metadata": {},
   "source": [
    "p=0 korelasyon yok\n",
    "   \n",
    "   \n",
    "\n",
    "p!=0 korelasyon var"
   ]
  },
  {
   "cell_type": "code",
   "execution_count": 62,
   "id": "b9ffb04e",
   "metadata": {},
   "outputs": [
    {
     "data": {
      "text/html": [
       "<div>\n",
       "<style scoped>\n",
       "    .dataframe tbody tr th:only-of-type {\n",
       "        vertical-align: middle;\n",
       "    }\n",
       "\n",
       "    .dataframe tbody tr th {\n",
       "        vertical-align: top;\n",
       "    }\n",
       "\n",
       "    .dataframe thead th {\n",
       "        text-align: right;\n",
       "    }\n",
       "</style>\n",
       "<table border=\"1\" class=\"dataframe\">\n",
       "  <thead>\n",
       "    <tr style=\"text-align: right;\">\n",
       "      <th></th>\n",
       "      <th>total_bill</th>\n",
       "      <th>tip</th>\n",
       "      <th>sex</th>\n",
       "      <th>smoker</th>\n",
       "      <th>day</th>\n",
       "      <th>time</th>\n",
       "      <th>size</th>\n",
       "    </tr>\n",
       "  </thead>\n",
       "  <tbody>\n",
       "    <tr>\n",
       "      <th>0</th>\n",
       "      <td>16.99</td>\n",
       "      <td>1.01</td>\n",
       "      <td>Female</td>\n",
       "      <td>No</td>\n",
       "      <td>Sun</td>\n",
       "      <td>Dinner</td>\n",
       "      <td>2</td>\n",
       "    </tr>\n",
       "    <tr>\n",
       "      <th>1</th>\n",
       "      <td>10.34</td>\n",
       "      <td>1.66</td>\n",
       "      <td>Male</td>\n",
       "      <td>No</td>\n",
       "      <td>Sun</td>\n",
       "      <td>Dinner</td>\n",
       "      <td>3</td>\n",
       "    </tr>\n",
       "    <tr>\n",
       "      <th>2</th>\n",
       "      <td>21.01</td>\n",
       "      <td>3.50</td>\n",
       "      <td>Male</td>\n",
       "      <td>No</td>\n",
       "      <td>Sun</td>\n",
       "      <td>Dinner</td>\n",
       "      <td>3</td>\n",
       "    </tr>\n",
       "    <tr>\n",
       "      <th>3</th>\n",
       "      <td>23.68</td>\n",
       "      <td>3.31</td>\n",
       "      <td>Male</td>\n",
       "      <td>No</td>\n",
       "      <td>Sun</td>\n",
       "      <td>Dinner</td>\n",
       "      <td>2</td>\n",
       "    </tr>\n",
       "    <tr>\n",
       "      <th>4</th>\n",
       "      <td>24.59</td>\n",
       "      <td>3.61</td>\n",
       "      <td>Female</td>\n",
       "      <td>No</td>\n",
       "      <td>Sun</td>\n",
       "      <td>Dinner</td>\n",
       "      <td>4</td>\n",
       "    </tr>\n",
       "  </tbody>\n",
       "</table>\n",
       "</div>"
      ],
      "text/plain": [
       "   total_bill   tip     sex smoker  day    time  size\n",
       "0       16.99  1.01  Female     No  Sun  Dinner     2\n",
       "1       10.34  1.66    Male     No  Sun  Dinner     3\n",
       "2       21.01  3.50    Male     No  Sun  Dinner     3\n",
       "3       23.68  3.31    Male     No  Sun  Dinner     2\n",
       "4       24.59  3.61  Female     No  Sun  Dinner     4"
      ]
     },
     "execution_count": 62,
     "metadata": {},
     "output_type": "execute_result"
    }
   ],
   "source": [
    "tips=sns.load_dataset(\"tips\")\n",
    "df=tips.copy()\n",
    "df.head()"
   ]
  },
  {
   "cell_type": "code",
   "execution_count": 63,
   "id": "9fe28726",
   "metadata": {},
   "outputs": [],
   "source": [
    "df[\"total_bill\"]=df[\"total_bill\"]-df[\"tip\"]"
   ]
  },
  {
   "cell_type": "code",
   "execution_count": 64,
   "id": "c23d3a2c",
   "metadata": {},
   "outputs": [],
   "source": [
    "#korelasyon hesaplıyıcaksan 2 si arasında tip değişkeninden arınması lazım yani biz saf total bill ve tip arasındaki korelasyona bakmamız lzm"
   ]
  },
  {
   "cell_type": "code",
   "execution_count": 65,
   "id": "da5393b5",
   "metadata": {},
   "outputs": [
    {
     "data": {
      "text/html": [
       "<div>\n",
       "<style scoped>\n",
       "    .dataframe tbody tr th:only-of-type {\n",
       "        vertical-align: middle;\n",
       "    }\n",
       "\n",
       "    .dataframe tbody tr th {\n",
       "        vertical-align: top;\n",
       "    }\n",
       "\n",
       "    .dataframe thead th {\n",
       "        text-align: right;\n",
       "    }\n",
       "</style>\n",
       "<table border=\"1\" class=\"dataframe\">\n",
       "  <thead>\n",
       "    <tr style=\"text-align: right;\">\n",
       "      <th></th>\n",
       "      <th>total_bill</th>\n",
       "      <th>tip</th>\n",
       "      <th>sex</th>\n",
       "      <th>smoker</th>\n",
       "      <th>day</th>\n",
       "      <th>time</th>\n",
       "      <th>size</th>\n",
       "    </tr>\n",
       "  </thead>\n",
       "  <tbody>\n",
       "    <tr>\n",
       "      <th>0</th>\n",
       "      <td>15.98</td>\n",
       "      <td>1.01</td>\n",
       "      <td>Female</td>\n",
       "      <td>No</td>\n",
       "      <td>Sun</td>\n",
       "      <td>Dinner</td>\n",
       "      <td>2</td>\n",
       "    </tr>\n",
       "    <tr>\n",
       "      <th>1</th>\n",
       "      <td>8.68</td>\n",
       "      <td>1.66</td>\n",
       "      <td>Male</td>\n",
       "      <td>No</td>\n",
       "      <td>Sun</td>\n",
       "      <td>Dinner</td>\n",
       "      <td>3</td>\n",
       "    </tr>\n",
       "    <tr>\n",
       "      <th>2</th>\n",
       "      <td>17.51</td>\n",
       "      <td>3.50</td>\n",
       "      <td>Male</td>\n",
       "      <td>No</td>\n",
       "      <td>Sun</td>\n",
       "      <td>Dinner</td>\n",
       "      <td>3</td>\n",
       "    </tr>\n",
       "    <tr>\n",
       "      <th>3</th>\n",
       "      <td>20.37</td>\n",
       "      <td>3.31</td>\n",
       "      <td>Male</td>\n",
       "      <td>No</td>\n",
       "      <td>Sun</td>\n",
       "      <td>Dinner</td>\n",
       "      <td>2</td>\n",
       "    </tr>\n",
       "    <tr>\n",
       "      <th>4</th>\n",
       "      <td>20.98</td>\n",
       "      <td>3.61</td>\n",
       "      <td>Female</td>\n",
       "      <td>No</td>\n",
       "      <td>Sun</td>\n",
       "      <td>Dinner</td>\n",
       "      <td>4</td>\n",
       "    </tr>\n",
       "  </tbody>\n",
       "</table>\n",
       "</div>"
      ],
      "text/plain": [
       "   total_bill   tip     sex smoker  day    time  size\n",
       "0       15.98  1.01  Female     No  Sun  Dinner     2\n",
       "1        8.68  1.66    Male     No  Sun  Dinner     3\n",
       "2       17.51  3.50    Male     No  Sun  Dinner     3\n",
       "3       20.37  3.31    Male     No  Sun  Dinner     2\n",
       "4       20.98  3.61  Female     No  Sun  Dinner     4"
      ]
     },
     "execution_count": 65,
     "metadata": {},
     "output_type": "execute_result"
    }
   ],
   "source": [
    "df.head()"
   ]
  },
  {
   "cell_type": "code",
   "execution_count": 66,
   "id": "3a86cf66",
   "metadata": {},
   "outputs": [
    {
     "data": {
      "image/png": "[encoded data removed]",
      "text/plain": [
       "<Figure size 432x288 with 1 Axes>"
      ]
     },
     "metadata": {
      "needs_background": "light"
     },
     "output_type": "display_data"
    }
   ],
   "source": [
    "df.plot.scatter(\"tip\",\"total_bill\");"
   ]
  },
  {
   "cell_type": "markdown",
   "id": "44e5f6d3",
   "metadata": {},
   "source": [
    "# varsayım kontrolü"
   ]
  },
  {
   "cell_type": "code",
   "execution_count": 67,
   "id": "07a29efb",
   "metadata": {},
   "outputs": [
    {
     "data": {
      "text/plain": [
       "ShapiroResult(statistic=0.897811233997345, pvalue=8.20057563521992e-12)"
      ]
     },
     "execution_count": 67,
     "metadata": {},
     "output_type": "execute_result"
    }
   ],
   "source": [
    "shapiro(df[\"tip\"])"
   ]
  },
  {
   "cell_type": "code",
   "execution_count": 68,
   "id": "28eecd40",
   "metadata": {},
   "outputs": [
    {
     "data": {
      "text/plain": [
       "ShapiroResult(statistic=0.9135652184486389, pvalue=1.1060377613780759e-10)"
      ]
     },
     "execution_count": 68,
     "metadata": {},
     "output_type": "execute_result"
    }
   ],
   "source": [
    "shapiro(df[\"total_bill\"])"
   ]
  },
  {
   "cell_type": "markdown",
   "id": "b28a3dba",
   "metadata": {},
   "source": [
    "# Hipotez Testi"
   ]
  },
  {
   "cell_type": "markdown",
   "id": "42afb4c3",
   "metadata": {},
   "source": [
    "# korelasyon katsayısı"
   ]
  },
  {
   "cell_type": "code",
   "execution_count": 70,
   "id": "dde25a59",
   "metadata": {},
   "outputs": [
    {
     "data": {
      "text/plain": [
       "0.5766634471096374"
      ]
     },
     "execution_count": 70,
     "metadata": {},
     "output_type": "execute_result"
    }
   ],
   "source": [
    "df[\"tip\"].corr(df[\"total_bill\"])#pearson korelasyonu(normallik sağlanırsa olur)"
   ]
  },
  {
   "cell_type": "code",
   "execution_count": 71,
   "id": "146e390b",
   "metadata": {},
   "outputs": [
    {
     "data": {
      "text/plain": [
       "0.593691939408997"
      ]
     },
     "execution_count": 71,
     "metadata": {},
     "output_type": "execute_result"
    }
   ],
   "source": [
    "df[\"tip\"].corr(df[\"total_bill\"],method=\"spearman\")#sağlanmazsa olur"
   ]
  },
  {
   "cell_type": "markdown",
   "id": "c9095131",
   "metadata": {},
   "source": [
    "# korelasyon anlamlılığının testi"
   ]
  },
  {
   "cell_type": "code",
   "execution_count": 72,
   "id": "57d69a49",
   "metadata": {},
   "outputs": [],
   "source": [
    "from scipy.stats.stats import pearsonr"
   ]
  },
  {
   "cell_type": "code",
   "execution_count": 73,
   "id": "c9de40e1",
   "metadata": {},
   "outputs": [
    {
     "data": {
      "text/plain": [
       "(0.5766634471096381, 5.018290084948419e-23)"
      ]
     },
     "execution_count": 73,
     "metadata": {},
     "output_type": "execute_result"
    }
   ],
   "source": [
    "pearsonr(df[\"tip\"],df[\"total_bill\"])"
   ]
  },
  {
   "cell_type": "code",
   "execution_count": 76,
   "id": "d747870d",
   "metadata": {},
   "outputs": [
    {
     "data": {
      "text/plain": [
       "(0.5766634471096381, 5.018290084948419e-23)"
      ]
     },
     "execution_count": 76,
     "metadata": {},
     "output_type": "execute_result"
    }
   ],
   "source": [
    "stats.pearsonr(df[\"tip\"],df[\"total_bill\"])"
   ]
  },
  {
   "cell_type": "markdown",
   "id": "e4ea51fa",
   "metadata": {},
   "source": [
    "# Nonparametrik Kolerasyon Hipotez Testi"
   ]
  },
  {
   "cell_type": "code",
   "execution_count": 74,
   "id": "3ab7fe9f",
   "metadata": {},
   "outputs": [
    {
     "data": {
      "text/plain": [
       "SpearmanrResult(correlation=0.593691939408997, pvalue=1.2452285137560276e-24)"
      ]
     },
     "execution_count": 74,
     "metadata": {},
     "output_type": "execute_result"
    }
   ],
   "source": [
    "stats.spearmanr(df[\"tip\"],df[\"total_bill\"])"
   ]
  },
  {
   "cell_type": "code",
   "execution_count": 75,
   "id": "28d78a02",
   "metadata": {
    "scrolled": true
   },
   "outputs": [
    {
     "data": {
      "text/plain": [
       "KendalltauResult(correlation=0.4400790074919885, pvalue=7.131027725873721e-24)"
      ]
     },
     "execution_count": 75,
     "metadata": {},
     "output_type": "execute_result"
    }
   ],
   "source": [
    "stats.kendalltau(df[\"tip\"],df[\"total_bill\"])"
   ]
  },
  {
   "cell_type": "markdown",
   "id": "bcad5f09",
   "metadata": {},
   "source": [
    "p valuelar bilimsel gösterimle gösterilmiş normalde 4 5 basamak sola kaymaları lzm"
   ]
  }
 ],
 "metadata": {
  "kernelspec": {
   "display_name": "Python 3",
   "language": "python",
   "name": "python3"
  },
  "language_info": {
   "codemirror_mode": {
    "name": "ipython",
    "version": 3
   },
   "file_extension": ".py",
   "mimetype": "text/x-python",
   "name": "python",
   "nbconvert_exporter": "python",
   "pygments_lexer": "ipython3",
   "version": "3.8.8"
  }
 },
 "nbformat": 4,
 "nbformat_minor": 5
}
