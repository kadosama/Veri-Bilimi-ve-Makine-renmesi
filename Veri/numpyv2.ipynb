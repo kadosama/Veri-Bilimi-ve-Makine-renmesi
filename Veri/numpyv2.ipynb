{
 "cells": [
  {
   "cell_type": "code",
   "execution_count": 16,
   "id": "e0e49baa",
   "metadata": {},
   "outputs": [],
   "source": [
    "import numpy as np"
   ]
  },
  {
   "cell_type": "code",
   "execution_count": 17,
   "id": "c49ffe5e",
   "metadata": {},
   "outputs": [],
   "source": [
    "v=np.array([ 0, 3, 6, 9, 12, 15, 18, 21, 24, 27])"
   ]
  },
  {
   "cell_type": "code",
   "execution_count": 18,
   "id": "10b4dc97",
   "metadata": {},
   "outputs": [
    {
     "data": {
      "text/plain": [
       "[27, 0]"
      ]
     },
     "execution_count": 18,
     "metadata": {},
     "output_type": "execute_result"
    }
   ],
   "source": [
    "[v[9], v[0]]"
   ]
  },
  {
   "cell_type": "code",
   "execution_count": 19,
   "id": "36251fcd",
   "metadata": {},
   "outputs": [],
   "source": [
    "ind=[2,0,1]"
   ]
  },
  {
   "cell_type": "code",
   "execution_count": 20,
   "id": "0746279a",
   "metadata": {},
   "outputs": [
    {
     "data": {
      "text/plain": [
       "array([6, 0, 3])"
      ]
     },
     "execution_count": 20,
     "metadata": {},
     "output_type": "execute_result"
    }
   ],
   "source": [
    "v[ind]#bu indekslerle kendimiz yeni bi dizi oluşturabildik (fancy index)"
   ]
  },
  {
   "cell_type": "code",
   "execution_count": 21,
   "id": "d10024bf",
   "metadata": {},
   "outputs": [],
   "source": [
    "m=np.array([[0, 1, 2],\n",
    "             [3, 4, 5],\n",
    "             [6, 7, 8]])\n"
   ]
  },
  {
   "cell_type": "code",
   "execution_count": 22,
   "id": "6d43d632",
   "metadata": {},
   "outputs": [
    {
     "data": {
      "text/plain": [
       "array([[6, 7, 8],\n",
       "       [0, 1, 2],\n",
       "       [3, 4, 5]])"
      ]
     },
     "execution_count": 22,
     "metadata": {},
     "output_type": "execute_result"
    }
   ],
   "source": [
    "m[ind]#bu indekslerle kendimiz yeni bi dizi oluşturabildik (fancy index)"
   ]
  },
  {
   "cell_type": "code",
   "execution_count": 23,
   "id": "fc23676d",
   "metadata": {},
   "outputs": [
    {
     "data": {
      "text/plain": [
       "array([1, 2])"
      ]
     },
     "execution_count": 23,
     "metadata": {},
     "output_type": "execute_result"
    }
   ],
   "source": [
    "m[0, [1,2]]#bu indekslerle kendimiz yeni bi dizi oluşturabildik (fancy index)"
   ]
  },
  {
   "cell_type": "code",
   "execution_count": 24,
   "id": "93e12f72",
   "metadata": {},
   "outputs": [
    {
     "data": {
      "text/plain": [
       "9"
      ]
     },
     "execution_count": 24,
     "metadata": {},
     "output_type": "execute_result"
    }
   ],
   "source": [
    "v = np.array([7, 3, 4, 7, 0, 9, 3, 2, 9, 2])\n",
    "\n",
    "v[-2]"
   ]
  },
  {
   "cell_type": "code",
   "execution_count": 25,
   "id": "f1d56130",
   "metadata": {},
   "outputs": [
    {
     "data": {
      "text/plain": [
       "array([[[9, 8],\n",
       "        [6, 4]],\n",
       "\n",
       "       [[7, 6],\n",
       "        [9, 7]],\n",
       "\n",
       "       [[9, 9],\n",
       "        [7, 5]]])"
      ]
     },
     "execution_count": 25,
     "metadata": {},
     "output_type": "execute_result"
    }
   ],
   "source": [
    "\n",
    "np.random.randint(10, size = (3,2,2))"
   ]
  },
  {
   "cell_type": "code",
   "execution_count": 26,
   "id": "2f0a02e5",
   "metadata": {},
   "outputs": [
    {
     "data": {
      "text/plain": [
       "8"
      ]
     },
     "execution_count": 26,
     "metadata": {},
     "output_type": "execute_result"
    }
   ],
   "source": [
    "a=np.array([[4, 7, 4, 5, 9],\n",
    "\n",
    "            [2, 5, 0, 7, 7],\n",
    "\n",
    "            [1, 9, 0, 8, 2]])\n",
    "a[2,3]#satır ve sütün indekslerini girerek dizi elemanını bulma"
   ]
  },
  {
   "cell_type": "code",
   "execution_count": 27,
   "id": "a5a4fca3",
   "metadata": {},
   "outputs": [
    {
     "data": {
      "text/plain": [
       "array([3.14, 4.  , 6.  , 1.2 ])"
      ]
     },
     "execution_count": 27,
     "metadata": {},
     "output_type": "execute_result"
    }
   ],
   "source": [
    "np.array([3.14, 4,6,1.2])"
   ]
  },
  {
   "cell_type": "code",
   "execution_count": 28,
   "id": "100eaea4",
   "metadata": {},
   "outputs": [
    {
     "data": {
      "text/plain": [
       "5"
      ]
     },
     "execution_count": 28,
     "metadata": {},
     "output_type": "execute_result"
    }
   ],
   "source": [
    "a=np.array([[4, 7, 4, 5, 9],\n",
    "\n",
    "            [2, 5, 0, 7, 7],\n",
    "\n",
    "            [1, 9, 0, 8, 2]])\n",
    "a[1,1]"
   ]
  },
  {
   "cell_type": "code",
   "execution_count": 29,
   "id": "83aab697",
   "metadata": {},
   "outputs": [
    {
     "ename": "IndexError",
     "evalue": "index 3 is out of bounds for axis 0 with size 3",
     "output_type": "error",
     "traceback": [
      "\u001b[1;31m---------------------------------------------------------------------------\u001b[0m",
      "\u001b[1;31mIndexError\u001b[0m                                Traceback (most recent call last)",
      "\u001b[1;32m<ipython-input-29-d4836ec1e685>\u001b[0m in \u001b[0;36m<module>\u001b[1;34m\u001b[0m\n\u001b[0;32m      4\u001b[0m \u001b[1;33m\u001b[0m\u001b[0m\n\u001b[0;32m      5\u001b[0m             [1, 9, 0, 8, 2]])\n\u001b[1;32m----> 6\u001b[1;33m \u001b[0ma\u001b[0m\u001b[1;33m[\u001b[0m\u001b[1;36m3\u001b[0m\u001b[1;33m,\u001b[0m\u001b[1;36m2\u001b[0m\u001b[1;33m]\u001b[0m\u001b[1;33m\u001b[0m\u001b[1;33m\u001b[0m\u001b[0m\n\u001b[0m",
      "\u001b[1;31mIndexError\u001b[0m: index 3 is out of bounds for axis 0 with size 3"
     ]
    }
   ],
   "source": [
    "a=np.array([[4, 7, 4, 5, 9],\n",
    "\n",
    "            [2, 5, 0, 7, 7],\n",
    "\n",
    "            [1, 9, 0, 8, 2]])\n",
    "a[3,2]"
   ]
  },
  {
   "cell_type": "code",
   "execution_count": 30,
   "id": "e317bde6",
   "metadata": {},
   "outputs": [
    {
     "data": {
      "text/plain": [
       "[3, 9]"
      ]
     },
     "execution_count": 30,
     "metadata": {},
     "output_type": "execute_result"
    }
   ],
   "source": [
    "v=np.array([ 0, 3, 6, 9, 12, 15, 18, 21, 24, 27])\n",
    "\n",
    "[v[1], v[3]]"
   ]
  },
  {
   "cell_type": "code",
   "execution_count": 31,
   "id": "4802f2e4",
   "metadata": {},
   "outputs": [
    {
     "data": {
      "text/plain": [
       "array([[4, 7, 4],\n",
       "       [2, 5, 0]])"
      ]
     },
     "execution_count": 31,
     "metadata": {},
     "output_type": "execute_result"
    }
   ],
   "source": [
    "a=np.array([[4, 7, 4, 5, 9],\n",
    "            [2, 5, 0, 7, 7],\n",
    "            [1, 9, 0, 8, 2]])\n",
    "a[:2,:3]#(satır ve sütun)#2li işlemlerde ilk hep satır 2.sütun"
   ]
  },
  {
   "cell_type": "code",
   "execution_count": 32,
   "id": "7f895215",
   "metadata": {},
   "outputs": [
    {
     "data": {
      "text/plain": [
       "array([[4, 7],\n",
       "       [2, 5],\n",
       "       [1, 9]])"
      ]
     },
     "execution_count": 32,
     "metadata": {},
     "output_type": "execute_result"
    }
   ],
   "source": [
    "a[::,:2]#(satır ve sütun)"
   ]
  },
  {
   "cell_type": "code",
   "execution_count": 33,
   "id": "df74bb7f",
   "metadata": {},
   "outputs": [
    {
     "data": {
      "text/plain": [
       "array([1, 2, 3, 4, 5, 6])"
      ]
     },
     "execution_count": 33,
     "metadata": {},
     "output_type": "execute_result"
    }
   ],
   "source": [
    "x = np.array([1, 2, 3])\n",
    "\n",
    "y = np.array([4, 5, 6])\n",
    "\n",
    "np.concatenate([x,y])"
   ]
  },
  {
   "cell_type": "code",
   "execution_count": 34,
   "id": "61430885",
   "metadata": {},
   "outputs": [
    {
     "data": {
      "text/plain": [
       "3"
      ]
     },
     "execution_count": 34,
     "metadata": {},
     "output_type": "execute_result"
    }
   ],
   "source": [
    "x.size"
   ]
  },
  {
   "cell_type": "code",
   "execution_count": 35,
   "id": "774f42fc",
   "metadata": {},
   "outputs": [
    {
     "data": {
      "text/plain": [
       "array([4, 0, 0])"
      ]
     },
     "execution_count": 35,
     "metadata": {},
     "output_type": "execute_result"
    }
   ],
   "source": [
    "a=np.array([[4, 7, 4, 5, 9],\n",
    "            [2, 5, 0, 7, 7],\n",
    "            [1, 9, 0, 8, 2]])\n",
    "a[:,2]"
   ]
  },
  {
   "cell_type": "code",
   "execution_count": 36,
   "id": "9008d5a2",
   "metadata": {},
   "outputs": [],
   "source": [
    "x=np.array([1,2,3,99,99,3,2,1])"
   ]
  },
  {
   "cell_type": "code",
   "execution_count": 37,
   "id": "0c819344",
   "metadata": {},
   "outputs": [
    {
     "data": {
      "text/plain": [
       "[array([1, 2, 3]), array([99, 99]), array([3, 2, 1])]"
      ]
     },
     "execution_count": 37,
     "metadata": {},
     "output_type": "execute_result"
    }
   ],
   "source": [
    "np.split(x,[3,5])#3.indeksten bi ayır sonra 5.indeksten bi ayır "
   ]
  },
  {
   "cell_type": "code",
   "execution_count": 38,
   "id": "1cb53471",
   "metadata": {},
   "outputs": [
    {
     "name": "stdout",
     "output_type": "stream",
     "text": [
      "[[ 0  1  2  3]\n",
      " [ 4  5  6  7]\n",
      " [ 8  9 10 11]\n",
      " [12 13 14 15]]\n"
     ]
    }
   ],
   "source": [
    "m=np.arange(16).reshape(4,4)\n",
    "print(m)"
   ]
  },
  {
   "cell_type": "code",
   "execution_count": 39,
   "id": "41e11df6",
   "metadata": {},
   "outputs": [
    {
     "data": {
      "text/plain": [
       "[array([[0, 1, 2, 3],\n",
       "        [4, 5, 6, 7]]),\n",
       " array([[ 8,  9, 10, 11],\n",
       "        [12, 13, 14, 15]])]"
      ]
     },
     "execution_count": 39,
     "metadata": {},
     "output_type": "execute_result"
    }
   ],
   "source": [
    "np.split(m,[2])#(satır olarak)"
   ]
  },
  {
   "cell_type": "code",
   "execution_count": 40,
   "id": "bd8e5ab4",
   "metadata": {},
   "outputs": [
    {
     "data": {
      "text/plain": [
       "[array([[ 0,  1],\n",
       "        [ 4,  5],\n",
       "        [ 8,  9],\n",
       "        [12, 13]]),\n",
       " array([[ 2,  3],\n",
       "        [ 6,  7],\n",
       "        [10, 11],\n",
       "        [14, 15]])]"
      ]
     },
     "execution_count": 40,
     "metadata": {},
     "output_type": "execute_result"
    }
   ],
   "source": [
    "np.hsplit(m,[2])#(sütun olarak)(height split)"
   ]
  },
  {
   "cell_type": "code",
   "execution_count": 41,
   "id": "4cd0963e",
   "metadata": {},
   "outputs": [],
   "source": [
    "a=np.array([2,3,1,4])\n"
   ]
  },
  {
   "cell_type": "code",
   "execution_count": 42,
   "id": "c493c084",
   "metadata": {},
   "outputs": [
    {
     "data": {
      "text/plain": [
       "array([1, 2, 3, 4])"
      ]
     },
     "execution_count": 42,
     "metadata": {},
     "output_type": "execute_result"
    }
   ],
   "source": [
    "np.sort(a)"
   ]
  },
  {
   "cell_type": "code",
   "execution_count": 43,
   "id": "443225d7",
   "metadata": {},
   "outputs": [
    {
     "data": {
      "text/plain": [
       "array([2, 3, 1, 4])"
      ]
     },
     "execution_count": 43,
     "metadata": {},
     "output_type": "execute_result"
    }
   ],
   "source": [
    "a"
   ]
  },
  {
   "cell_type": "code",
   "execution_count": 44,
   "id": "d8e5f5a5",
   "metadata": {},
   "outputs": [],
   "source": [
    "a.sort()"
   ]
  },
  {
   "cell_type": "code",
   "execution_count": 45,
   "id": "ff6a6949",
   "metadata": {},
   "outputs": [
    {
     "data": {
      "text/plain": [
       "array([1, 2, 3, 4])"
      ]
     },
     "execution_count": 45,
     "metadata": {},
     "output_type": "execute_result"
    }
   ],
   "source": [
    "a"
   ]
  },
  {
   "cell_type": "code",
   "execution_count": 46,
   "id": "4a9f0aec",
   "metadata": {},
   "outputs": [
    {
     "data": {
      "text/plain": [
       "array([[ 0,  1,  2,  3],\n",
       "       [ 4,  5,  6,  7],\n",
       "       [ 8,  9, 10, 11],\n",
       "       [12, 13, 14, 15]])"
      ]
     },
     "execution_count": 46,
     "metadata": {},
     "output_type": "execute_result"
    }
   ],
   "source": [
    "m=np.arange(16).reshape(4,4)\n",
    "np.sort(m,axis=1)#satırda sıralama yapar"
   ]
  },
  {
   "cell_type": "code",
   "execution_count": 47,
   "id": "326e64dd",
   "metadata": {},
   "outputs": [
    {
     "data": {
      "text/plain": [
       "array([[ 0,  1,  2,  3],\n",
       "       [ 4,  5,  6,  7],\n",
       "       [ 8,  9, 10, 11],\n",
       "       [12, 13, 14, 15]])"
      ]
     },
     "execution_count": 47,
     "metadata": {},
     "output_type": "execute_result"
    }
   ],
   "source": [
    "np.sort(m,axis=0)#sütunda sıralama yapar"
   ]
  },
  {
   "cell_type": "raw",
   "id": "5b77de18",
   "metadata": {},
   "source": [
    "NOT:ARRAYDE DATA TİPLERİ NEYSE ÖYLE DEVAM EDER SONRADAN FARKLI Bİ DATA TİPİ EKLEYEMESSİN"
   ]
  }
 ],
 "metadata": {
  "kernelspec": {
   "display_name": "Python 3",
   "language": "python",
   "name": "python3"
  },
  "language_info": {
   "codemirror_mode": {
    "name": "ipython",
    "version": 3
   },
   "file_extension": ".py",
   "mimetype": "text/x-python",
   "name": "python",
   "nbconvert_exporter": "python",
   "pygments_lexer": "ipython3",
   "version": "3.8.8"
  }
 },
 "nbformat": 4,
 "nbformat_minor": 5
}
