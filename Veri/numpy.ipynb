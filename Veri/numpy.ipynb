{
 "cells": [
  {
   "cell_type": "code",
   "execution_count": 44,
   "id": "efd44602",
   "metadata": {},
   "outputs": [],
   "source": [
    "import numpy as np"
   ]
  },
  {
   "cell_type": "code",
   "execution_count": 45,
   "id": "fb084fba",
   "metadata": {},
   "outputs": [],
   "source": [
    "?np.array"
   ]
  },
  {
   "cell_type": "raw",
   "id": "b2a6929e",
   "metadata": {},
   "source": [
    "shape=boyut bilgisi(mesela size,shape,reshape (3,5)derken bi boyutta üç diğer boyutta 5 eleman gibi)\n",
    "ndim=boyut sayısı\n",
    "size=toplam eleman sayısı\n",
    "dtype=array veri tipi"
   ]
  },
  {
   "cell_type": "code",
   "execution_count": 46,
   "id": "c4073d9d",
   "metadata": {},
   "outputs": [
    {
     "name": "stdout",
     "output_type": "stream",
     "text": [
      "[1, 2, 3, 4, 5, 6]\n"
     ]
    }
   ],
   "source": [
    "liste1=[1,2,3,4,5,6]\n",
    "print(liste1)"
   ]
  },
  {
   "cell_type": "code",
   "execution_count": 47,
   "id": "890f0c4c",
   "metadata": {},
   "outputs": [
    {
     "name": "stdout",
     "output_type": "stream",
     "text": [
      "[1 2 3 4 5 6]\n"
     ]
    }
   ],
   "source": [
    "ar1=np.array([1,2,3,4,5,6])\n",
    "print(ar1)"
   ]
  },
  {
   "cell_type": "code",
   "execution_count": 48,
   "id": "e04d6e26",
   "metadata": {},
   "outputs": [
    {
     "data": {
      "text/plain": [
       "array([1, 2, 3, 4, 5, 6])"
      ]
     },
     "execution_count": 48,
     "metadata": {},
     "output_type": "execute_result"
    }
   ],
   "source": [
    "ar1"
   ]
  },
  {
   "cell_type": "code",
   "execution_count": 49,
   "id": "05836feb",
   "metadata": {},
   "outputs": [
    {
     "name": "stdout",
     "output_type": "stream",
     "text": [
      "[1 2 3 4 5 6]\n"
     ]
    }
   ],
   "source": [
    "ar1=np.array(liste1)\n",
    "print(ar1)"
   ]
  },
  {
   "cell_type": "code",
   "execution_count": 50,
   "id": "036bc4e8",
   "metadata": {},
   "outputs": [
    {
     "name": "stdout",
     "output_type": "stream",
     "text": [
      "1\n"
     ]
    }
   ],
   "source": [
    "ar1=np.array([1,2,3,4,5,6])\n",
    "print(ar1.ndim)"
   ]
  },
  {
   "cell_type": "code",
   "execution_count": 51,
   "id": "0a659059",
   "metadata": {},
   "outputs": [
    {
     "name": "stdout",
     "output_type": "stream",
     "text": [
      "[1. 2. 3. 4. 5. 6.]\n"
     ]
    }
   ],
   "source": [
    "ar1=np.array([1,2,3,4,5,6],dtype=float)\n",
    "print(ar1)"
   ]
  },
  {
   "cell_type": "code",
   "execution_count": 52,
   "id": "4664ca99",
   "metadata": {},
   "outputs": [
    {
     "name": "stdout",
     "output_type": "stream",
     "text": [
      "[1.+0.j 2.+0.j 3.+0.j 4.+0.j 5.+0.j 6.+0.j]\n"
     ]
    }
   ],
   "source": [
    "ar1=np.array([1,2,3,4,5,6],dtype=complex)\n",
    "print(ar1)"
   ]
  },
  {
   "cell_type": "code",
   "execution_count": 53,
   "id": "12717c6f",
   "metadata": {},
   "outputs": [
    {
     "name": "stdout",
     "output_type": "stream",
     "text": [
      "<class 'numpy.ndarray'>\n"
     ]
    }
   ],
   "source": [
    "print(type(ar1))"
   ]
  },
  {
   "cell_type": "code",
   "execution_count": 54,
   "id": "39e0a481",
   "metadata": {},
   "outputs": [
    {
     "name": "stdout",
     "output_type": "stream",
     "text": [
      "complex128\n"
     ]
    }
   ],
   "source": [
    "print(ar1.dtype)"
   ]
  },
  {
   "cell_type": "code",
   "execution_count": 55,
   "id": "d09f7985",
   "metadata": {},
   "outputs": [
    {
     "name": "stdout",
     "output_type": "stream",
     "text": [
      "[[ 1  2  3]\n",
      " [ 4  5  6]\n",
      " [ 6  7  8]\n",
      " [ 9 10 11]\n",
      " [12 13 14]]\n"
     ]
    }
   ],
   "source": [
    "ar1=np.array([[1,2,3],[4,5,6],[6,7,8],[9,10,11],[12,13,14]])\n",
    "print(ar1)"
   ]
  },
  {
   "cell_type": "code",
   "execution_count": 56,
   "id": "e9c58a86",
   "metadata": {},
   "outputs": [
    {
     "name": "stdout",
     "output_type": "stream",
     "text": [
      "2\n"
     ]
    }
   ],
   "source": [
    "print(ar1.ndim)"
   ]
  },
  {
   "cell_type": "code",
   "execution_count": 57,
   "id": "7b0f2aa2",
   "metadata": {
    "scrolled": true
   },
   "outputs": [
    {
     "name": "stdout",
     "output_type": "stream",
     "text": [
      "(5, 3)\n"
     ]
    }
   ],
   "source": [
    "print(ar1.shape)  #(5 satır 3 sütun)(ilk dimension 5 2.3)"
   ]
  },
  {
   "cell_type": "code",
   "execution_count": 58,
   "id": "5e50ce79",
   "metadata": {},
   "outputs": [
    {
     "name": "stdout",
     "output_type": "stream",
     "text": [
      "[[ 1  2  3  4  5]\n",
      " [ 6  6  7  8  9]\n",
      " [10 11 12 13 14]]\n"
     ]
    }
   ],
   "source": [
    "print(ar1.reshape(3,5)) #son ve ilk sayıları çarpımları aynı değeri verecek(ilk dimension 3 element 2. 5 element)"
   ]
  },
  {
   "cell_type": "code",
   "execution_count": 59,
   "id": "930acf7a",
   "metadata": {},
   "outputs": [
    {
     "name": "stdout",
     "output_type": "stream",
     "text": [
      "[[ 1  2  3  4  5  6  6  7  8  9 10 11 12 13 14]]\n"
     ]
    }
   ],
   "source": [
    "print(ar1.reshape(1,15))"
   ]
  },
  {
   "cell_type": "code",
   "execution_count": 60,
   "id": "6c589621",
   "metadata": {},
   "outputs": [
    {
     "name": "stdout",
     "output_type": "stream",
     "text": [
      "[[34 22 48 41 25]\n",
      " [30 10 44 15 17]\n",
      " [15 29 13 34 27]]\n"
     ]
    }
   ],
   "source": [
    "ar1=np.random.randint(10,50,15).reshape(3,5)\n",
    "print(ar1)"
   ]
  },
  {
   "cell_type": "code",
   "execution_count": 61,
   "id": "e0c6b24a",
   "metadata": {},
   "outputs": [
    {
     "name": "stdout",
     "output_type": "stream",
     "text": [
      "[1 2 3 4 5 6]\n"
     ]
    }
   ],
   "source": [
    "ar=np.array([1,2,3,4,5,6])\n",
    "print(ar)\n"
   ]
  },
  {
   "cell_type": "code",
   "execution_count": 62,
   "id": "fe3d7603",
   "metadata": {
    "scrolled": true
   },
   "outputs": [
    {
     "name": "stdout",
     "output_type": "stream",
     "text": [
      "[0 2 4 6 8]\n"
     ]
    }
   ],
   "source": [
    "ar3=np.arange(0,10,2)\n",
    "print(ar3)"
   ]
  },
  {
   "cell_type": "code",
   "execution_count": 63,
   "id": "2f2843e1",
   "metadata": {},
   "outputs": [
    {
     "name": "stdout",
     "output_type": "stream",
     "text": [
      "[  0.  25.  50.  75. 100.]\n"
     ]
    }
   ],
   "source": [
    "ar3=np.linspace(0,100,5)\n",
    "print(ar3)"
   ]
  },
  {
   "cell_type": "code",
   "execution_count": 64,
   "id": "106e0d5a",
   "metadata": {},
   "outputs": [
    {
     "name": "stdout",
     "output_type": "stream",
     "text": [
      "[  0.  25.  50.  75. 100.]\n"
     ]
    }
   ],
   "source": [
    "ar4=ar3.copy()\n",
    "print(ar4)"
   ]
  },
  {
   "cell_type": "code",
   "execution_count": 65,
   "id": "491b492b",
   "metadata": {},
   "outputs": [
    {
     "name": "stdout",
     "output_type": "stream",
     "text": [
      "[[[0.73758898 0.61351524 0.39443282 0.61807241 0.69285317]\n",
      "  [0.55298885 0.6135175  0.44850111 0.08499985 0.90305573]]\n",
      "\n",
      " [[0.52309047 0.47606201 0.40288894 0.21698155 0.32945173]\n",
      "  [0.47422353 0.45404499 0.92348646 0.39620928 0.19306866]]\n",
      "\n",
      " [[0.08270913 0.53902116 0.19980282 0.0859566  0.26459863]\n",
      "  [0.6336487  0.27960619 0.01019432 0.52757109 0.80705972]]]\n"
     ]
    }
   ],
   "source": [
    "ar5=np.random.random((3,2,5))\n",
    "print(ar5)\n"
   ]
  },
  {
   "cell_type": "code",
   "execution_count": 66,
   "id": "44e0d38e",
   "metadata": {},
   "outputs": [
    {
     "name": "stdout",
     "output_type": "stream",
     "text": [
      "[[0.32138824 0.01504188]\n",
      " [0.94642225 0.07553648]]\n"
     ]
    }
   ],
   "source": [
    "ar5=np.random.random((2,2))\n",
    "print(ar5)\n"
   ]
  },
  {
   "cell_type": "code",
   "execution_count": 67,
   "id": "29f2a7f7",
   "metadata": {},
   "outputs": [
    {
     "name": "stdout",
     "output_type": "stream",
     "text": [
      "[0.74349272 0.28061774]\n"
     ]
    }
   ],
   "source": [
    "ar5=np.random.random((2))\n",
    "print(ar5)"
   ]
  },
  {
   "cell_type": "code",
   "execution_count": 68,
   "id": "1b281b99",
   "metadata": {},
   "outputs": [
    {
     "name": "stdout",
     "output_type": "stream",
     "text": [
      "[0.23209336 0.75052727 0.71707671 0.10418881 0.4462335  0.47610854\n",
      " 0.92648472 0.08391427 0.48009547 0.23878103]\n",
      "[ 0.52029834 -0.56826455  1.49594853 -0.03703095 -0.83480146  0.02418073\n",
      " -0.42010199 -0.94732733  1.0478953  -0.78178609]\n"
     ]
    }
   ],
   "source": [
    "ar5=np.random.rand(10)\n",
    "ar6=np.random.randn(10)\n",
    "print(ar5)\n",
    "print(ar6)\n",
    "#rand= 0 1 arası randn=-1 1 arası"
   ]
  },
  {
   "cell_type": "code",
   "execution_count": 69,
   "id": "ea366e1c",
   "metadata": {
    "scrolled": true
   },
   "outputs": [
    {
     "name": "stdout",
     "output_type": "stream",
     "text": [
      "[[2 2 2]\n",
      " [3 4 2]\n",
      " [3 3 2]]\n"
     ]
    }
   ],
   "source": [
    "ar6=np.random.randint(2,5,(3,3))#ilk 2 sayı aralık 3.shape\n",
    "print(ar6)"
   ]
  },
  {
   "cell_type": "code",
   "execution_count": 70,
   "id": "6c1f7a22",
   "metadata": {},
   "outputs": [
    {
     "name": "stdout",
     "output_type": "stream",
     "text": [
      "[1 0 1]\n"
     ]
    }
   ],
   "source": [
    "ar6=np.random.randint(2,size=3)#0 la 2 arası şimdi aralık\n",
    "print(ar6)"
   ]
  },
  {
   "cell_type": "code",
   "execution_count": 71,
   "id": "6f605f28",
   "metadata": {},
   "outputs": [
    {
     "name": "stdout",
     "output_type": "stream",
     "text": [
      "[[ 1  2]\n",
      " [ 3  4]\n",
      " [ 5  6]\n",
      " [ 7  8]\n",
      " [ 9 10]]\n",
      "[1 2]\n"
     ]
    }
   ],
   "source": [
    "ar1=np.arange(1,11)\n",
    "ar1=ar1.reshape(5,2)\n",
    "print(ar1)\n",
    "print(ar1[0])#satır/eleman(?)\n"
   ]
  },
  {
   "cell_type": "code",
   "execution_count": 72,
   "id": "41b38300",
   "metadata": {},
   "outputs": [
    {
     "name": "stdout",
     "output_type": "stream",
     "text": [
      "[[1 2]\n",
      " [3 4]]\n"
     ]
    }
   ],
   "source": [
    " print(ar1[0:2])"
   ]
  },
  {
   "cell_type": "code",
   "execution_count": 73,
   "id": "3d7ac73a",
   "metadata": {},
   "outputs": [
    {
     "name": "stdout",
     "output_type": "stream",
     "text": [
      "[[1 2]\n",
      " [5 6]]\n"
     ]
    }
   ],
   "source": [
    " print(ar1[0:4:2])"
   ]
  },
  {
   "cell_type": "code",
   "execution_count": 74,
   "id": "b0ae24db",
   "metadata": {},
   "outputs": [
    {
     "name": "stdout",
     "output_type": "stream",
     "text": [
      "[1 2]\n"
     ]
    }
   ],
   "source": [
    "print(ar1[0,:])#1.satır"
   ]
  },
  {
   "cell_type": "code",
   "execution_count": 75,
   "id": "0205bd2c",
   "metadata": {},
   "outputs": [
    {
     "name": "stdout",
     "output_type": "stream",
     "text": [
      "[ 2  4  6  8 10]\n"
     ]
    }
   ],
   "source": [
    "print(ar1[:,1])#2.sütun"
   ]
  },
  {
   "cell_type": "code",
   "execution_count": 76,
   "id": "c5dcb108",
   "metadata": {},
   "outputs": [
    {
     "name": "stdout",
     "output_type": "stream",
     "text": [
      "6\n"
     ]
    }
   ],
   "source": [
    "print(ar1[2,1])#2.satır 1. sütun"
   ]
  },
  {
   "cell_type": "code",
   "execution_count": 77,
   "id": "75ac1a83",
   "metadata": {},
   "outputs": [
    {
     "name": "stdout",
     "output_type": "stream",
     "text": [
      "[[ 9 10]\n",
      " [ 7  8]\n",
      " [ 5  6]\n",
      " [ 3  4]\n",
      " [ 1  2]]\n"
     ]
    }
   ],
   "source": [
    "print(ar1[::-1])"
   ]
  },
  {
   "cell_type": "code",
   "execution_count": 78,
   "id": "c33af355",
   "metadata": {},
   "outputs": [],
   "source": [
    "ar1=np.zeros((6,3,5))#baştaki kaç tane olacağı 3 ve 5 iste satır sütün değerlerini gösteriyor"
   ]
  },
  {
   "cell_type": "code",
   "execution_count": 79,
   "id": "2f57718c",
   "metadata": {},
   "outputs": [
    {
     "name": "stdout",
     "output_type": "stream",
     "text": [
      "[[[0. 0. 0. 0. 0.]\n",
      "  [0. 0. 0. 0. 0.]\n",
      "  [0. 0. 0. 0. 0.]]\n",
      "\n",
      " [[0. 0. 0. 0. 0.]\n",
      "  [0. 0. 0. 0. 0.]\n",
      "  [0. 0. 0. 0. 0.]]\n",
      "\n",
      " [[0. 0. 0. 0. 0.]\n",
      "  [0. 0. 0. 0. 0.]\n",
      "  [0. 0. 0. 0. 0.]]\n",
      "\n",
      " [[0. 0. 0. 0. 0.]\n",
      "  [0. 0. 0. 0. 0.]\n",
      "  [0. 0. 0. 0. 0.]]\n",
      "\n",
      " [[0. 0. 0. 0. 0.]\n",
      "  [0. 0. 0. 0. 0.]\n",
      "  [0. 0. 0. 0. 0.]]\n",
      "\n",
      " [[0. 0. 0. 0. 0.]\n",
      "  [0. 0. 0. 0. 0.]\n",
      "  [0. 0. 0. 0. 0.]]]\n"
     ]
    }
   ],
   "source": [
    "print(ar1)"
   ]
  },
  {
   "cell_type": "code",
   "execution_count": 80,
   "id": "65f760fb",
   "metadata": {},
   "outputs": [
    {
     "name": "stdout",
     "output_type": "stream",
     "text": [
      "3\n"
     ]
    }
   ],
   "source": [
    "print(ar1.ndim)\n"
   ]
  },
  {
   "cell_type": "code",
   "execution_count": 81,
   "id": "a79f30a8",
   "metadata": {},
   "outputs": [
    {
     "data": {
      "text/plain": [
       "array([[3, 3, 3, 3, 3],\n",
       "       [3, 3, 3, 3, 3],\n",
       "       [3, 3, 3, 3, 3]])"
      ]
     },
     "execution_count": 81,
     "metadata": {},
     "output_type": "execute_result"
    }
   ],
   "source": [
    "np.full((3,5),3)"
   ]
  },
  {
   "cell_type": "code",
   "execution_count": 82,
   "id": "fc54b77d",
   "metadata": {},
   "outputs": [
    {
     "data": {
      "text/plain": [
       "array([[11.91087878,  7.40104537,  9.20683904,  9.69851964,  8.90268905],\n",
       "       [ 4.99592416, 11.78395146, 10.84019272, 11.67812698,  8.57127523],\n",
       "       [18.73078055, 10.36147399, 15.14867379,  9.2415102 ,  5.32561378]])"
      ]
     },
     "execution_count": 82,
     "metadata": {},
     "output_type": "execute_result"
    }
   ],
   "source": [
    "np.random.normal(10,4,(3,5))#standart sapması 4 ort u 10 olan 3,5 shapeli dizi oluşturma"
   ]
  },
  {
   "cell_type": "code",
   "execution_count": 83,
   "id": "41a7f503",
   "metadata": {},
   "outputs": [],
   "source": [
    "ar1=np.ones((5,3,2))"
   ]
  },
  {
   "cell_type": "code",
   "execution_count": 84,
   "id": "efb79d06",
   "metadata": {},
   "outputs": [
    {
     "name": "stdout",
     "output_type": "stream",
     "text": [
      "[[[1. 1.]\n",
      "  [1. 1.]\n",
      "  [1. 1.]]\n",
      "\n",
      " [[1. 1.]\n",
      "  [1. 1.]\n",
      "  [1. 1.]]\n",
      "\n",
      " [[1. 1.]\n",
      "  [1. 1.]\n",
      "  [1. 1.]]\n",
      "\n",
      " [[1. 1.]\n",
      "  [1. 1.]\n",
      "  [1. 1.]]\n",
      "\n",
      " [[1. 1.]\n",
      "  [1. 1.]\n",
      "  [1. 1.]]]\n"
     ]
    }
   ],
   "source": [
    "print(ar1)"
   ]
  },
  {
   "cell_type": "code",
   "execution_count": 85,
   "id": "2760944f",
   "metadata": {
    "scrolled": true
   },
   "outputs": [
    {
     "name": "stdout",
     "output_type": "stream",
     "text": [
      "[[1. 0. 0. 0.]\n",
      " [0. 1. 0. 0.]\n",
      " [0. 0. 1. 0.]\n",
      " [0. 0. 0. 1.]]\n"
     ]
    }
   ],
   "source": [
    "print(np.eye(4))"
   ]
  },
  {
   "cell_type": "code",
   "execution_count": 86,
   "id": "bf1b3410",
   "metadata": {
    "scrolled": true
   },
   "outputs": [
    {
     "name": "stdout",
     "output_type": "stream",
     "text": [
      "[[ 1  2  3]\n",
      " [ 4  5  6]\n",
      " [ 8  9 10]\n",
      " [10 11 22]]\n",
      "[[ 1  2  3  8  9 10]\n",
      " [ 4  5  6 10 11 22]]\n",
      "[[ 1  2  3]\n",
      " [ 4  5  6]\n",
      " [ 8  9 10]\n",
      " [10 11 22]]\n"
     ]
    }
   ],
   "source": [
    "ar1=np.array([[1,2,3],\n",
    "            [4,5,6]])\n",
    "ar2=np.array([[8,9,10],\n",
    "            [10,11,22]])\n",
    "print(np.concatenate([ar1,ar2]))\n",
    "print(np.concatenate([ar1,ar2],axis=1))\n",
    "print(np.concatenate([ar1,ar2],axis=0))#0 olursa altalta #1 olursa yanyana birleştiriyo"
   ]
  },
  {
   "cell_type": "code",
   "execution_count": 87,
   "id": "4649b7b3",
   "metadata": {},
   "outputs": [
    {
     "data": {
      "text/plain": [
       "6"
      ]
     },
     "execution_count": 87,
     "metadata": {},
     "output_type": "execute_result"
    }
   ],
   "source": [
    "ar1.max()"
   ]
  },
  {
   "cell_type": "code",
   "execution_count": 88,
   "id": "a37d8320",
   "metadata": {},
   "outputs": [
    {
     "data": {
      "text/plain": [
       "8"
      ]
     },
     "execution_count": 88,
     "metadata": {},
     "output_type": "execute_result"
    }
   ],
   "source": [
    "ar2.min()"
   ]
  },
  {
   "cell_type": "code",
   "execution_count": 89,
   "id": "c29d6945",
   "metadata": {},
   "outputs": [
    {
     "data": {
      "text/plain": [
       "4"
      ]
     },
     "execution_count": 89,
     "metadata": {},
     "output_type": "execute_result"
    }
   ],
   "source": [
    "ar3.argmax()#arg max veya min in indexini söyler"
   ]
  },
  {
   "cell_type": "code",
   "execution_count": 90,
   "id": "e611b0ba",
   "metadata": {},
   "outputs": [
    {
     "data": {
      "text/plain": [
       "0"
      ]
     },
     "execution_count": 90,
     "metadata": {},
     "output_type": "execute_result"
    }
   ],
   "source": [
    "ar3.argmin()"
   ]
  },
  {
   "cell_type": "code",
   "execution_count": 91,
   "id": "68a36f8a",
   "metadata": {},
   "outputs": [
    {
     "data": {
      "text/plain": [
       "21"
      ]
     },
     "execution_count": 91,
     "metadata": {},
     "output_type": "execute_result"
    }
   ],
   "source": [
    "ar1.sum()"
   ]
  },
  {
   "cell_type": "raw",
   "id": "7b74d938",
   "metadata": {},
   "source": [
    "axis=1 yatayda(satır)da yapılan işlemler\n",
    "axis=0 dikeyde(sütun)da yapılan işlemler"
   ]
  },
  {
   "cell_type": "code",
   "execution_count": 92,
   "id": "a3adbf1c",
   "metadata": {},
   "outputs": [
    {
     "name": "stdout",
     "output_type": "stream",
     "text": [
      "[ 6 15]\n"
     ]
    }
   ],
   "source": [
    "satırların_top=ar1.sum(axis=1)\n",
    "print(satırların_top)"
   ]
  },
  {
   "cell_type": "code",
   "execution_count": 93,
   "id": "7d5210ec",
   "metadata": {},
   "outputs": [],
   "source": [
    "sütunların_top=ar1.sum(axis=0)"
   ]
  },
  {
   "cell_type": "code",
   "execution_count": 94,
   "id": "b447b188",
   "metadata": {},
   "outputs": [
    {
     "name": "stdout",
     "output_type": "stream",
     "text": [
      "[5 7 9]\n"
     ]
    }
   ],
   "source": [
    "print(sütunların_top)"
   ]
  },
  {
   "cell_type": "code",
   "execution_count": 95,
   "id": "a12e5d65",
   "metadata": {},
   "outputs": [
    {
     "data": {
      "text/plain": [
       "3.5"
      ]
     },
     "execution_count": 95,
     "metadata": {},
     "output_type": "execute_result"
    }
   ],
   "source": [
    "ar1.mean()#ortalama"
   ]
  },
  {
   "cell_type": "code",
   "execution_count": 96,
   "id": "96249b68",
   "metadata": {},
   "outputs": [
    {
     "data": {
      "text/plain": [
       "2.9166666666666665"
      ]
     },
     "execution_count": 96,
     "metadata": {},
     "output_type": "execute_result"
    }
   ],
   "source": [
    "ar1.var()#varyans "
   ]
  },
  {
   "cell_type": "code",
   "execution_count": 97,
   "id": "1efeeaef",
   "metadata": {},
   "outputs": [
    {
     "data": {
      "text/plain": [
       "1.707825127659933"
      ]
     },
     "execution_count": 97,
     "metadata": {},
     "output_type": "execute_result"
    }
   ],
   "source": [
    "ar1.std()#(standart sapma)  varyansın kökünü alınca geliyo"
   ]
  },
  {
   "cell_type": "code",
   "execution_count": 98,
   "id": "8da9b511",
   "metadata": {},
   "outputs": [
    {
     "name": "stdout",
     "output_type": "stream",
     "text": [
      "[[ 9 11 13]\n",
      " [14 16 28]]\n",
      "[[ -7  -7  -7]\n",
      " [ -6  -6 -16]]\n",
      "[[  8  18  30]\n",
      " [ 40  55 132]]\n",
      "[[8.         4.5        3.33333333]\n",
      " [2.5        2.2        3.66666667]]\n",
      "[[0 1 1]\n",
      " [2 1 4]]\n",
      "[[8 4 3]\n",
      " [2 2 3]]\n"
     ]
    }
   ],
   "source": [
    "ar1=np.array([[1,2,3],\n",
    "            [4,5,6]])\n",
    "ar2=np.array([[8,9,10],\n",
    "            [10,11,22]])\n",
    "print(ar1+ar2)\n",
    "print(ar1-ar2)\n",
    "print(ar1*ar2)\n",
    "print(ar2/ar1)\n",
    "print(ar2%ar1)\n",
    "print(ar2//ar1)"
   ]
  },
  {
   "cell_type": "code",
   "execution_count": 99,
   "id": "94775421",
   "metadata": {},
   "outputs": [
    {
     "name": "stdout",
     "output_type": "stream",
     "text": [
      "[[ 2  4  6]\n",
      " [ 8 10 12]]\n"
     ]
    }
   ],
   "source": [
    "print(ar1*2)#np.multiply(ar1,2)(add,substract,divide,power,mod,np.absolute(np.array([-3])))"
   ]
  },
  {
   "cell_type": "code",
   "execution_count": 100,
   "id": "514379fa",
   "metadata": {},
   "outputs": [
    {
     "name": "stdout",
     "output_type": "stream",
     "text": [
      "[[ 0.84147098  0.90929743  0.14112001]\n",
      " [-0.7568025  -0.95892427 -0.2794155 ]]\n"
     ]
    }
   ],
   "source": [
    "print(np.sin(ar1))"
   ]
  },
  {
   "cell_type": "code",
   "execution_count": 101,
   "id": "105d509d",
   "metadata": {},
   "outputs": [
    {
     "name": "stdout",
     "output_type": "stream",
     "text": [
      "[[1.         1.41421356 1.73205081]\n",
      " [2.         2.23606798 2.44948974]]\n"
     ]
    }
   ],
   "source": [
    "print(np.sqrt(ar1))"
   ]
  },
  {
   "cell_type": "code",
   "execution_count": 102,
   "id": "a624518d",
   "metadata": {},
   "outputs": [
    {
     "name": "stdout",
     "output_type": "stream",
     "text": [
      "[[  2.71828183   7.3890561   20.08553692]\n",
      " [ 54.59815003 148.4131591  403.42879349]]\n"
     ]
    }
   ],
   "source": [
    "print(np.exp(ar1))#e üzeri hesaplama"
   ]
  },
  {
   "cell_type": "code",
   "execution_count": 103,
   "id": "d05f126c",
   "metadata": {},
   "outputs": [
    {
     "name": "stdout",
     "output_type": "stream",
     "text": [
      "[[0.         0.69314718 1.09861229]\n",
      " [1.38629436 1.60943791 1.79175947]]\n"
     ]
    }
   ],
   "source": [
    "print(np.log(ar1))#10 tabanında log hesaplar (log3,log2...)"
   ]
  },
  {
   "cell_type": "code",
   "execution_count": 104,
   "id": "67769b6b",
   "metadata": {},
   "outputs": [
    {
     "name": "stdout",
     "output_type": "stream",
     "text": [
      "[[ 64  70]\n",
      " [154 169]]\n"
     ]
    }
   ],
   "source": [
    "ar1=np.array([[1,2,3],\n",
    "            [4,5,6]])\n",
    "ar2=np.array([[8,9],\n",
    "            [10,11],[12,13]])\n",
    "              \n",
    "              \n",
    "print(np.dot(ar1,ar2))#matris slk saçma çarpmalar"
   ]
  },
  {
   "cell_type": "code",
   "execution_count": 105,
   "id": "d646035b",
   "metadata": {},
   "outputs": [
    {
     "name": "stdout",
     "output_type": "stream",
     "text": [
      "[[1 4]\n",
      " [2 5]\n",
      " [3 6]]\n"
     ]
    }
   ],
   "source": [
    "print(ar1.T)#transpose satırlar, sütun sütunlar satır"
   ]
  },
  {
   "cell_type": "code",
   "execution_count": 106,
   "id": "d00c99e2",
   "metadata": {},
   "outputs": [
    {
     "name": "stdout",
     "output_type": "stream",
     "text": [
      "[[False False False]\n",
      " [ True  True  True]]\n"
     ]
    }
   ],
   "source": [
    "print(ar1>3)"
   ]
  },
  {
   "cell_type": "code",
   "execution_count": 107,
   "id": "15f73863",
   "metadata": {},
   "outputs": [
    {
     "name": "stdout",
     "output_type": "stream",
     "text": [
      "[4 5 6]\n"
     ]
    }
   ],
   "source": [
    "print(ar1[ar1>3])"
   ]
  },
  {
   "cell_type": "code",
   "execution_count": 108,
   "id": "ac890f3a",
   "metadata": {},
   "outputs": [],
   "source": [
    "np.save(\"save\",ar1)"
   ]
  },
  {
   "cell_type": "code",
   "execution_count": 109,
   "id": "1f70e00a",
   "metadata": {},
   "outputs": [],
   "source": [
    "ar1=np.load(\"save.npy\")"
   ]
  }
 ],
 "metadata": {
  "kernelspec": {
   "display_name": "Python 3",
   "language": "python",
   "name": "python3"
  },
  "language_info": {
   "codemirror_mode": {
    "name": "ipython",
    "version": 3
   },
   "file_extension": ".py",
   "mimetype": "text/x-python",
   "name": "python",
   "nbconvert_exporter": "python",
   "pygments_lexer": "ipython3",
   "version": "3.8.8"
  }
 },
 "nbformat": 4,
 "nbformat_minor": 5
}
