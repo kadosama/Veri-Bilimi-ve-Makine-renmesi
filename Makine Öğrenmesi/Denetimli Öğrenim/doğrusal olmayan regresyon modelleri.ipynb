{
 "cells": [
  {
   "cell_type": "code",
   "execution_count": 3,
   "id": "2858d43e",
   "metadata": {
    "scrolled": true
   },
   "outputs": [],
   "source": [
    "import numpy as np\n",
    "import pandas as pd\n",
    "from sklearn.model_selection import train_test_split, GridSearchCV\n",
    "from sklearn.metrics import mean_squared_error,r2_score\n",
    "import matplotlib.pyplot as plt\n",
    "from sklearn.preprocessing import scale\n",
    "from sklearn.preprocessing import StandardScaler\n",
    "from sklearn import model_selection\n",
    "from sklearn.linear_model import LinearRegression\n",
    "from sklearn.tree import DecisionTreeRegressor\n",
    "from sklearn.neighbors import KNeighborsRegressor\n",
    "from sklearn.neural_network import MLPRegressor\n",
    "from sklearn.ensemble import RandomForestRegressor\n",
    "from sklearn.ensemble import GradientBoostingRegressor\n",
    "from sklearn import neighbors\n",
    "from sklearn.svm import SVR"
   ]
  },
  {
   "cell_type": "code",
   "execution_count": 3,
   "id": "df129019",
   "metadata": {},
   "outputs": [],
   "source": [
    "from warnings import filterwarnings\n",
    "filterwarnings(\"ignore\")"
   ]
  },
  {
   "cell_type": "code",
   "execution_count": 4,
   "id": "77356280",
   "metadata": {},
   "outputs": [],
   "source": [
    "df=pd.read_csv(\"Hitters.csv\")\n",
    "df=df.dropna()\n",
    "dms=pd.get_dummies(df[[\"League\",\"Division\",\"NewLeague\"]])\n",
    "y=df[\"Salary\"]\n",
    "x_=df.drop([\"Salary\",\"League\",\"Division\",\"NewLeague\"],axis=1).astype(\"float64\")\n",
    "x=pd.concat([x_,dms[[\"League_N\",\"Division_W\",\"NewLeague_N\"]]],axis=1)\n",
    "x_train,x_test,y_train,y_test=train_test_split(x,y,test_size=0.25,random_state=42)"
   ]
  },
  {
   "cell_type": "markdown",
   "id": "d6efa434",
   "metadata": {},
   "source": [
    "# KNN"
   ]
  },
  {
   "cell_type": "markdown",
   "id": "006c0624",
   "metadata": {},
   "source": [
    "## Model ve Tahmin"
   ]
  },
  {
   "cell_type": "code",
   "execution_count": 5,
   "id": "2ddf1794",
   "metadata": {
    "scrolled": false
   },
   "outputs": [],
   "source": [
    "knn_model=KNeighborsRegressor().fit(x_train,y_train)"
   ]
  },
  {
   "cell_type": "code",
   "execution_count": 6,
   "id": "4938e567",
   "metadata": {},
   "outputs": [
    {
     "data": {
      "text/plain": [
       "5"
      ]
     },
     "execution_count": 6,
     "metadata": {},
     "output_type": "execute_result"
    }
   ],
   "source": [
    "knn_model.n_neighbors #komşu sayısı "
   ]
  },
  {
   "cell_type": "code",
   "execution_count": 7,
   "id": "08e956f5",
   "metadata": {},
   "outputs": [
    {
     "data": {
      "text/plain": [
       "'minkowski'"
      ]
     },
     "execution_count": 7,
     "metadata": {},
     "output_type": "execute_result"
    }
   ],
   "source": [
    "knn_model.metric"
   ]
  },
  {
   "cell_type": "code",
   "execution_count": 6,
   "id": "1072ae0c",
   "metadata": {
    "scrolled": true
   },
   "outputs": [
    {
     "data": {
      "text/plain": [
       "['__abstractmethods__',\n",
       " '__class__',\n",
       " '__delattr__',\n",
       " '__dict__',\n",
       " '__dir__',\n",
       " '__doc__',\n",
       " '__eq__',\n",
       " '__format__',\n",
       " '__ge__',\n",
       " '__getattribute__',\n",
       " '__getstate__',\n",
       " '__gt__',\n",
       " '__hash__',\n",
       " '__init__',\n",
       " '__init_subclass__',\n",
       " '__le__',\n",
       " '__lt__',\n",
       " '__module__',\n",
       " '__ne__',\n",
       " '__new__',\n",
       " '__reduce__',\n",
       " '__reduce_ex__',\n",
       " '__repr__',\n",
       " '__setattr__',\n",
       " '__setstate__',\n",
       " '__sizeof__',\n",
       " '__str__',\n",
       " '__subclasshook__',\n",
       " '__weakref__',\n",
       " '_abc_impl',\n",
       " '_check_algorithm_metric',\n",
       " '_check_feature_names',\n",
       " '_check_n_features',\n",
       " '_estimator_type',\n",
       " '_fit',\n",
       " '_fit_X',\n",
       " '_fit_method',\n",
       " '_get_param_names',\n",
       " '_get_tags',\n",
       " '_kneighbors_reduce_func',\n",
       " '_more_tags',\n",
       " '_pairwise',\n",
       " '_repr_html_',\n",
       " '_repr_html_inner',\n",
       " '_repr_mimebundle_',\n",
       " '_tree',\n",
       " '_validate_data',\n",
       " '_y',\n",
       " 'algorithm',\n",
       " 'effective_metric_',\n",
       " 'effective_metric_params_',\n",
       " 'feature_names_in_',\n",
       " 'fit',\n",
       " 'get_params',\n",
       " 'kneighbors',\n",
       " 'kneighbors_graph',\n",
       " 'leaf_size',\n",
       " 'metric',\n",
       " 'metric_params',\n",
       " 'n_features_in_',\n",
       " 'n_jobs',\n",
       " 'n_neighbors',\n",
       " 'n_samples_fit_',\n",
       " 'p',\n",
       " 'predict',\n",
       " 'radius',\n",
       " 'score',\n",
       " 'set_params',\n",
       " 'weights']"
      ]
     },
     "execution_count": 6,
     "metadata": {},
     "output_type": "execute_result"
    }
   ],
   "source": [
    "dir(knn_model)#alınabilecek bazı değerler ve fonksiyonlar(class mantığı)"
   ]
  },
  {
   "cell_type": "code",
   "execution_count": 9,
   "id": "4bdddcb7",
   "metadata": {},
   "outputs": [
    {
     "data": {
      "text/plain": [
       "array([ 510.3334,  808.3334,  772.5   ,  125.5   , 1005.    ,  325.5   ,\n",
       "        216.5   ,  101.5   ,  982.    ,  886.6666])"
      ]
     },
     "execution_count": 9,
     "metadata": {},
     "output_type": "execute_result"
    }
   ],
   "source": [
    "knn_model.predict(x_test)[0:10]"
   ]
  },
  {
   "cell_type": "code",
   "execution_count": 10,
   "id": "62122b90",
   "metadata": {},
   "outputs": [],
   "source": [
    "y_pred=knn_model.predict(x_test)"
   ]
  },
  {
   "cell_type": "code",
   "execution_count": 11,
   "id": "07801908",
   "metadata": {},
   "outputs": [
    {
     "data": {
      "text/plain": [
       "426.6570764525201"
      ]
     },
     "execution_count": 11,
     "metadata": {},
     "output_type": "execute_result"
    }
   ],
   "source": [
    "np.sqrt(mean_squared_error(y_test,y_pred))"
   ]
  },
  {
   "cell_type": "markdown",
   "id": "c0102941",
   "metadata": {},
   "source": [
    "## Model Tuning "
   ]
  },
  {
   "cell_type": "code",
   "execution_count": 12,
   "id": "aa905deb",
   "metadata": {},
   "outputs": [
    {
     "name": "stdout",
     "output_type": "stream",
     "text": [
      "k= 1 için rmse değeri 455.03925390751965\n",
      "k= 2 için rmse değeri 415.99629571490965\n",
      "k= 3 için rmse değeri 420.6765370082348\n",
      "k= 4 için rmse değeri 428.8564674588792\n",
      "k= 5 için rmse değeri 426.6570764525201\n",
      "k= 6 için rmse değeri 423.5071669008732\n",
      "k= 7 için rmse değeri 414.9361222421057\n",
      "k= 8 için rmse değeri 413.7094731463598\n",
      "k= 9 için rmse değeri 417.84419990871265\n",
      "k= 10 için rmse değeri 421.6252180741266\n"
     ]
    }
   ],
   "source": [
    "for k in range(10):\n",
    "    k=k+1\n",
    "    knn_model=KNeighborsRegressor(n_neighbors=k).fit(x_train,y_train)\n",
    "    y_pred=knn_model.predict(x_test)\n",
    "    rmse=np.sqrt(mean_squared_error(y_test,y_pred))\n",
    "    print(\"k=\",k,\"için rmse değeri\",rmse)\n",
    "#el yordamıyla hangi k değeri yani komşu sayısı için az hata olcağını hesaplamadık"
   ]
  },
  {
   "cell_type": "code",
   "execution_count": 13,
   "id": "946560e6",
   "metadata": {},
   "outputs": [],
   "source": [
    "#makine yordamıyla #gridsearchcv=parametrelere arasından en az hatalı sonucu vercek parametreyi araştırır,seçer cv kullanarak cv zaten doğrulamak için kullanılıyodu\n"
   ]
  },
  {
   "cell_type": "code",
   "execution_count": 14,
   "id": "051320d7",
   "metadata": {},
   "outputs": [],
   "source": [
    "knn_params={\"n_neighbors\":np.arange(1,30,1)}"
   ]
  },
  {
   "cell_type": "code",
   "execution_count": 15,
   "id": "a7df1763",
   "metadata": {},
   "outputs": [],
   "source": [
    "knn=KNeighborsRegressor()"
   ]
  },
  {
   "cell_type": "code",
   "execution_count": 16,
   "id": "7ed85b9d",
   "metadata": {},
   "outputs": [],
   "source": [
    "knn_cv_model=GridSearchCV(knn,knn_params,cv=10).fit(x_train,y_train)"
   ]
  },
  {
   "cell_type": "code",
   "execution_count": 17,
   "id": "760fd2ff",
   "metadata": {},
   "outputs": [
    {
     "data": {
      "text/plain": [
       "{'n_neighbors': 8}"
      ]
     },
     "execution_count": 17,
     "metadata": {},
     "output_type": "execute_result"
    }
   ],
   "source": [
    "knn_cv_model.best_params_"
   ]
  },
  {
   "cell_type": "code",
   "execution_count": 18,
   "id": "d18217d1",
   "metadata": {},
   "outputs": [],
   "source": [
    "#final modeli kurma"
   ]
  },
  {
   "cell_type": "code",
   "execution_count": 19,
   "id": "c94f4aad",
   "metadata": {},
   "outputs": [],
   "source": [
    "knn_tuned=KNeighborsRegressor(n_neighbors=knn_cv_model.best_params_[\"n_neighbors\"]).fit(x_train,y_train)"
   ]
  },
  {
   "cell_type": "code",
   "execution_count": 20,
   "id": "4559aaa2",
   "metadata": {},
   "outputs": [],
   "source": [
    "y_pred=knn_tuned.predict(x_test)"
   ]
  },
  {
   "cell_type": "code",
   "execution_count": 21,
   "id": "cde827b0",
   "metadata": {},
   "outputs": [
    {
     "data": {
      "text/plain": [
       "413.7094731463598"
      ]
     },
     "execution_count": 21,
     "metadata": {},
     "output_type": "execute_result"
    }
   ],
   "source": [
    "np.sqrt(mean_squared_error(y_test,y_pred))"
   ]
  },
  {
   "cell_type": "markdown",
   "id": "80aa4156",
   "metadata": {},
   "source": [
    "# Destek Vektör Regresyonu ( Support Vector Regression)"
   ]
  },
  {
   "cell_type": "markdown",
   "id": "3ef27b62",
   "metadata": {},
   "source": [
    "## Model ve Tahmin"
   ]
  },
  {
   "cell_type": "code",
   "execution_count": 33,
   "id": "544415ad",
   "metadata": {},
   "outputs": [],
   "source": [
    "svr_model=SVR(\"linear\").fit(x_train,y_train)#doğrusal denklem"
   ]
  },
  {
   "cell_type": "code",
   "execution_count": 34,
   "id": "828ad0dd",
   "metadata": {},
   "outputs": [
    {
     "data": {
      "text/plain": [
       "'linear'"
      ]
     },
     "execution_count": 34,
     "metadata": {},
     "output_type": "execute_result"
    }
   ],
   "source": [
    "svr_model.kernel"
   ]
  },
  {
   "cell_type": "code",
   "execution_count": 35,
   "id": "016f994f",
   "metadata": {},
   "outputs": [],
   "source": [
    "svr_model=SVR(\"rbf\").fit(x_train,y_train)#doğrusal olmayan denklemler"
   ]
  },
  {
   "cell_type": "code",
   "execution_count": 36,
   "id": "ecc4ea6e",
   "metadata": {},
   "outputs": [
    {
     "data": {
      "text/plain": [
       "'rbf'"
      ]
     },
     "execution_count": 36,
     "metadata": {},
     "output_type": "execute_result"
    }
   ],
   "source": [
    "svr_model.kernel"
   ]
  },
  {
   "cell_type": "code",
   "execution_count": 23,
   "id": "7977c921",
   "metadata": {},
   "outputs": [
    {
     "data": {
      "text/plain": [
       "['C',\n",
       " '__abstractmethods__',\n",
       " '__class__',\n",
       " '__delattr__',\n",
       " '__dict__',\n",
       " '__dir__',\n",
       " '__doc__',\n",
       " '__eq__',\n",
       " '__format__',\n",
       " '__ge__',\n",
       " '__getattribute__',\n",
       " '__getstate__',\n",
       " '__gt__',\n",
       " '__hash__',\n",
       " '__init__',\n",
       " '__init_subclass__',\n",
       " '__le__',\n",
       " '__lt__',\n",
       " '__module__',\n",
       " '__ne__',\n",
       " '__new__',\n",
       " '__reduce__',\n",
       " '__reduce_ex__',\n",
       " '__repr__',\n",
       " '__setattr__',\n",
       " '__setstate__',\n",
       " '__sizeof__',\n",
       " '__str__',\n",
       " '__subclasshook__',\n",
       " '__weakref__',\n",
       " '_abc_impl',\n",
       " '_check_n_features',\n",
       " '_compute_kernel',\n",
       " '_decision_function',\n",
       " '_dense_decision_function',\n",
       " '_dense_fit',\n",
       " '_dense_predict',\n",
       " '_dual_coef_',\n",
       " '_estimator_type',\n",
       " '_gamma',\n",
       " '_get_coef',\n",
       " '_get_param_names',\n",
       " '_get_tags',\n",
       " '_impl',\n",
       " '_intercept_',\n",
       " '_more_tags',\n",
       " '_n_support',\n",
       " '_pairwise',\n",
       " '_probA',\n",
       " '_probB',\n",
       " '_repr_html_',\n",
       " '_repr_html_inner',\n",
       " '_repr_mimebundle_',\n",
       " '_sparse',\n",
       " '_sparse_decision_function',\n",
       " '_sparse_fit',\n",
       " '_sparse_kernels',\n",
       " '_sparse_predict',\n",
       " '_validate_data',\n",
       " '_validate_for_predict',\n",
       " '_validate_targets',\n",
       " '_warn_from_fit_status',\n",
       " 'cache_size',\n",
       " 'class_weight',\n",
       " 'class_weight_',\n",
       " 'coef0',\n",
       " 'coef_',\n",
       " 'degree',\n",
       " 'dual_coef_',\n",
       " 'epsilon',\n",
       " 'fit',\n",
       " 'fit_status_',\n",
       " 'gamma',\n",
       " 'get_params',\n",
       " 'intercept_',\n",
       " 'kernel',\n",
       " 'max_iter',\n",
       " 'n_features_in_',\n",
       " 'n_support_',\n",
       " 'nu',\n",
       " 'predict',\n",
       " 'probA_',\n",
       " 'probB_',\n",
       " 'probability',\n",
       " 'random_state',\n",
       " 'score',\n",
       " 'set_params',\n",
       " 'shape_fit_',\n",
       " 'shrinking',\n",
       " 'support_',\n",
       " 'support_vectors_',\n",
       " 'tol',\n",
       " 'verbose']"
      ]
     },
     "execution_count": 23,
     "metadata": {},
     "output_type": "execute_result"
    }
   ],
   "source": [
    "dir(svr_model)"
   ]
  },
  {
   "cell_type": "code",
   "execution_count": 25,
   "id": "f7d5f5ae",
   "metadata": {},
   "outputs": [
    {
     "data": {
      "text/plain": [
       "array([219.32622627, 702.43039317, 623.20559641, 153.77538484,\n",
       "       463.15191157])"
      ]
     },
     "execution_count": 25,
     "metadata": {},
     "output_type": "execute_result"
    }
   ],
   "source": [
    "svr_model.predict(x_train)[0:5]"
   ]
  },
  {
   "cell_type": "code",
   "execution_count": 26,
   "id": "fca0219b",
   "metadata": {},
   "outputs": [
    {
     "data": {
      "text/plain": [
       "array([679.14754919, 633.72883529, 925.68639938, 270.28464317,\n",
       "       530.26659421])"
      ]
     },
     "execution_count": 26,
     "metadata": {},
     "output_type": "execute_result"
    }
   ],
   "source": [
    "svr_model.predict(x_test)[0:5]"
   ]
  },
  {
   "cell_type": "code",
   "execution_count": 29,
   "id": "7e8d24ab",
   "metadata": {},
   "outputs": [
    {
     "data": {
      "text/plain": [
       "array([-80.15196063])"
      ]
     },
     "execution_count": 29,
     "metadata": {},
     "output_type": "execute_result"
    }
   ],
   "source": [
    "svr_model.intercept_#bu algoritma çözümünde denklem kurma olduğundan böyle parametreler alabiliyoruz\n",
    "#ama knnde bu durum yoktu orda sadece komşu değerler üzerinden işlem yapılmıştı"
   ]
  },
  {
   "cell_type": "code",
   "execution_count": 30,
   "id": "8d669818",
   "metadata": {},
   "outputs": [
    {
     "data": {
      "text/plain": [
       "array([[ -1.2183904 ,   6.09602978,  -3.67574533,   0.14217072,\n",
       "          0.51435925,   1.28388992,  12.55922527,  -0.08693754,\n",
       "          0.46597185,   2.98259931,   0.52944513,  -0.79820793,\n",
       "         -0.16015531,   0.30872795,   0.28842348,  -1.79560066,\n",
       "          6.41868986, -10.74313785,   1.33374319]])"
      ]
     },
     "execution_count": 30,
     "metadata": {},
     "output_type": "execute_result"
    }
   ],
   "source": [
    "svr_model.coef_"
   ]
  },
  {
   "cell_type": "code",
   "execution_count": 24,
   "id": "b98bc52e",
   "metadata": {},
   "outputs": [],
   "source": [
    "y_pred=svr_model.predict(x_test)"
   ]
  },
  {
   "cell_type": "code",
   "execution_count": 31,
   "id": "d26b5920",
   "metadata": {},
   "outputs": [
    {
     "data": {
      "text/plain": [
       "370.0408415795005"
      ]
     },
     "execution_count": 31,
     "metadata": {},
     "output_type": "execute_result"
    }
   ],
   "source": [
    "np.sqrt(mean_squared_error(y_test,y_pred))#valide edilmemiş optimum olmayan ilkel test hatası"
   ]
  },
  {
   "cell_type": "markdown",
   "id": "fc4c8bd6",
   "metadata": {},
   "source": [
    "## Model Tuning"
   ]
  },
  {
   "cell_type": "code",
   "execution_count": 38,
   "id": "2faf59cb",
   "metadata": {},
   "outputs": [],
   "source": [
    "svr_model=SVR(\"linear\")"
   ]
  },
  {
   "cell_type": "code",
   "execution_count": 37,
   "id": "7ec3ecf5",
   "metadata": {},
   "outputs": [],
   "source": [
    "svr_params={\"C\":[0.1,0.5,1,3]}"
   ]
  },
  {
   "cell_type": "code",
   "execution_count": 39,
   "id": "b4c9ec72",
   "metadata": {},
   "outputs": [],
   "source": [
    "svr_cv_model=GridSearchCV(svr_model,svr_params,cv=5,verbose=2,n_jobs=-1).fit(x_train,y_train)#bu son 2 parametre işlemleri gösterir ve işlemcinin maks güçte çalışmasının sağlar"
   ]
  },
  {
   "cell_type": "code",
   "execution_count": 41,
   "id": "aac69be5",
   "metadata": {},
   "outputs": [
    {
     "data": {
      "text/plain": [
       "{'C': 0.5}"
      ]
     },
     "execution_count": 41,
     "metadata": {},
     "output_type": "execute_result"
    }
   ],
   "source": [
    "svr_cv_model.best_params_"
   ]
  },
  {
   "cell_type": "code",
   "execution_count": 42,
   "id": "cfe8660e",
   "metadata": {},
   "outputs": [],
   "source": [
    "svr_tuned=SVR(\"linear\",C=0.5).fit(x_train,y_train)"
   ]
  },
  {
   "cell_type": "code",
   "execution_count": 43,
   "id": "42609e04",
   "metadata": {},
   "outputs": [],
   "source": [
    "y_pred=svr_tuned.predict(x_test)"
   ]
  },
  {
   "cell_type": "code",
   "execution_count": 44,
   "id": "79fe8ff5",
   "metadata": {},
   "outputs": [
    {
     "data": {
      "text/plain": [
       "367.98747616655294"
      ]
     },
     "execution_count": 44,
     "metadata": {},
     "output_type": "execute_result"
    }
   ],
   "source": [
    "np.sqrt(mean_squared_error(y_test,y_pred))#valide edilmiş optimum olan ilkel test hatası"
   ]
  },
  {
   "cell_type": "markdown",
   "id": "377d29eb",
   "metadata": {},
   "source": [
    "# Yapay Sinir Ağları "
   ]
  },
  {
   "cell_type": "markdown",
   "id": "094e31b6",
   "metadata": {},
   "source": [
    "## Model ve Tahmin"
   ]
  },
  {
   "cell_type": "code",
   "execution_count": 81,
   "id": "859b0136",
   "metadata": {},
   "outputs": [],
   "source": [
    "#normalde bazı algoritma standartlaştırılmış bazılar standartlaştırılmamış parametreleri sever ysa da sevdiği için yapıcaz\n",
    "#normalizasyon aykırı verilerden(x) kurtulma homojene çevirme demek yani bu işlem bağımsız değişkenlere uygulancak\n",
    "#standartizasyon, verileri 0 ve 1 arasında yeniden ölçekler. Bu işlem tüm parametrelerin aynı pozitif ölçeğe sahip olması gereken bazı durumlarda yararlı olabilir. ... normalizasyon ise veriyi aynı ortalama (0) ve aynı standart sapmaya (1) sahip olması için yeniden ölçeklendirilmesidir.yani verinin yapısını deiştirnez"
   ]
  },
  {
   "cell_type": "code",
   "execution_count": 45,
   "id": "6efabdb1",
   "metadata": {},
   "outputs": [],
   "source": [
    "scaler=StandardScaler()"
   ]
  },
  {
   "cell_type": "code",
   "execution_count": 58,
   "id": "3bdc8ca5",
   "metadata": {},
   "outputs": [],
   "source": [
    "scaler.fit(x_train)\n",
    "x_train_scaled=scaler.transform(x_train)\n",
    "scaler.fit(x_test)\n",
    "x_test_scaled=scaler.transform(x_test)"
   ]
  },
  {
   "cell_type": "code",
   "execution_count": 59,
   "id": "9c7cb3e0",
   "metadata": {},
   "outputs": [],
   "source": [
    "mlp_model=MLPRegressor().fit(x_train_scaled,y_train)"
   ]
  },
  {
   "cell_type": "code",
   "execution_count": 60,
   "id": "80e988ed",
   "metadata": {},
   "outputs": [
    {
     "data": {
      "text/plain": [
       "['__abstractmethods__',\n",
       " '__class__',\n",
       " '__delattr__',\n",
       " '__dict__',\n",
       " '__dir__',\n",
       " '__doc__',\n",
       " '__eq__',\n",
       " '__format__',\n",
       " '__ge__',\n",
       " '__getattribute__',\n",
       " '__getstate__',\n",
       " '__gt__',\n",
       " '__hash__',\n",
       " '__init__',\n",
       " '__init_subclass__',\n",
       " '__le__',\n",
       " '__lt__',\n",
       " '__module__',\n",
       " '__ne__',\n",
       " '__new__',\n",
       " '__reduce__',\n",
       " '__reduce_ex__',\n",
       " '__repr__',\n",
       " '__setattr__',\n",
       " '__setstate__',\n",
       " '__sizeof__',\n",
       " '__str__',\n",
       " '__subclasshook__',\n",
       " '__weakref__',\n",
       " '_abc_impl',\n",
       " '_backprop',\n",
       " '_check_n_features',\n",
       " '_compute_loss_grad',\n",
       " '_estimator_type',\n",
       " '_fit',\n",
       " '_fit_lbfgs',\n",
       " '_fit_stochastic',\n",
       " '_forward_pass',\n",
       " '_forward_pass_fast',\n",
       " '_get_param_names',\n",
       " '_get_tags',\n",
       " '_init_coef',\n",
       " '_initialize',\n",
       " '_loss_grad_lbfgs',\n",
       " '_more_tags',\n",
       " '_no_improvement_count',\n",
       " '_optimizer',\n",
       " '_partial_fit',\n",
       " '_random_state',\n",
       " '_repr_html_',\n",
       " '_repr_html_inner',\n",
       " '_repr_mimebundle_',\n",
       " '_unpack',\n",
       " '_update_no_improvement_count',\n",
       " '_validate_data',\n",
       " '_validate_hyperparameters',\n",
       " '_validate_input',\n",
       " 'activation',\n",
       " 'alpha',\n",
       " 'batch_size',\n",
       " 'best_loss_',\n",
       " 'beta_1',\n",
       " 'beta_2',\n",
       " 'coefs_',\n",
       " 'early_stopping',\n",
       " 'epsilon',\n",
       " 'fit',\n",
       " 'get_params',\n",
       " 'hidden_layer_sizes',\n",
       " 'intercepts_',\n",
       " 'learning_rate',\n",
       " 'learning_rate_init',\n",
       " 'loss',\n",
       " 'loss_',\n",
       " 'loss_curve_',\n",
       " 'max_fun',\n",
       " 'max_iter',\n",
       " 'momentum',\n",
       " 'n_features_in_',\n",
       " 'n_iter_',\n",
       " 'n_iter_no_change',\n",
       " 'n_layers_',\n",
       " 'n_outputs_',\n",
       " 'nesterovs_momentum',\n",
       " 'out_activation_',\n",
       " 'partial_fit',\n",
       " 'power_t',\n",
       " 'predict',\n",
       " 'random_state',\n",
       " 'score',\n",
       " 'set_params',\n",
       " 'shuffle',\n",
       " 'solver',\n",
       " 't_',\n",
       " 'tol',\n",
       " 'validation_fraction',\n",
       " 'verbose',\n",
       " 'warm_start']"
      ]
     },
     "execution_count": 60,
     "metadata": {},
     "output_type": "execute_result"
    }
   ],
   "source": [
    "dir(mlp_model)"
   ]
  },
  {
   "cell_type": "code",
   "execution_count": 61,
   "id": "a7bd2655",
   "metadata": {},
   "outputs": [
    {
     "data": {
      "text/plain": [
       "array([ 8.14265066, 52.0992439 , 32.99324524,  6.97472054,  6.36382453])"
      ]
     },
     "execution_count": 61,
     "metadata": {},
     "output_type": "execute_result"
    }
   ],
   "source": [
    "mlp_model.predict(x_train_scaled)[0:5]"
   ]
  },
  {
   "cell_type": "code",
   "execution_count": 62,
   "id": "a6b48e18",
   "metadata": {},
   "outputs": [
    {
     "data": {
      "text/plain": [
       "657.0553973399678"
      ]
     },
     "execution_count": 62,
     "metadata": {},
     "output_type": "execute_result"
    }
   ],
   "source": [
    "y_pred=mlp_model.predict(x_test_scaled)\n",
    "np.sqrt(mean_squared_error(y_test,y_pred))"
   ]
  },
  {
   "cell_type": "markdown",
   "id": "2ca7bec1",
   "metadata": {},
   "source": [
    "## Model Tuning"
   ]
  },
  {
   "cell_type": "code",
   "execution_count": 69,
   "id": "cd96522f",
   "metadata": {},
   "outputs": [],
   "source": [
    "mlp_model=MLPRegressor().fit(x_train_scaled,y_train)"
   ]
  },
  {
   "cell_type": "code",
   "execution_count": 68,
   "id": "2d75ccd0",
   "metadata": {},
   "outputs": [],
   "source": [
    "mlp_params={\"alpha\":[0.1,0.01,0.2,0.001,0.0001],\n",
    "            \"hidden_layer_sizes\":[(10,20),(5,5),(100,100)]}#(10,10)2 gizli katmanı var biri 10 dieri de 10"
   ]
  },
  {
   "cell_type": "code",
   "execution_count": 75,
   "id": "7076beb1",
   "metadata": {},
   "outputs": [
    {
     "name": "stdout",
     "output_type": "stream",
     "text": [
      "Fitting 10 folds for each of 15 candidates, totalling 150 fits\n"
     ]
    }
   ],
   "source": [
    "mlp_cv_model=GridSearchCV(mlp_model,mlp_params,cv=10,verbose=2,n_jobs=-1).fit(x_train_scaled,y_train)"
   ]
  },
  {
   "cell_type": "code",
   "execution_count": 76,
   "id": "dd596b80",
   "metadata": {},
   "outputs": [
    {
     "data": {
      "text/plain": [
       "{'alpha': 0.0001, 'hidden_layer_sizes': (100, 100)}"
      ]
     },
     "execution_count": 76,
     "metadata": {},
     "output_type": "execute_result"
    }
   ],
   "source": [
    "mlp_cv_model.best_params_"
   ]
  },
  {
   "cell_type": "code",
   "execution_count": 79,
   "id": "f2fac326",
   "metadata": {},
   "outputs": [],
   "source": [
    "mlp_model_tuned=MLPRegressor(alpha=0.0001,hidden_layer_sizes=(100, 100)).fit(x_train_scaled,y_train)"
   ]
  },
  {
   "cell_type": "code",
   "execution_count": 80,
   "id": "26383237",
   "metadata": {},
   "outputs": [
    {
     "ename": "ValueError",
     "evalue": "Found input variables with inconsistent numbers of samples: [66, 197]",
     "output_type": "error",
     "traceback": [
      "\u001b[1;31m---------------------------------------------------------------------------\u001b[0m",
      "\u001b[1;31mValueError\u001b[0m                                Traceback (most recent call last)",
      "\u001b[1;32m<ipython-input-80-09083739e896>\u001b[0m in \u001b[0;36m<module>\u001b[1;34m\u001b[0m\n\u001b[0;32m      1\u001b[0m \u001b[0my_pred\u001b[0m\u001b[1;33m=\u001b[0m\u001b[0mmlp_model_tuned\u001b[0m\u001b[1;33m.\u001b[0m\u001b[0mpredict\u001b[0m\u001b[1;33m(\u001b[0m\u001b[0mx_train_scaled\u001b[0m\u001b[1;33m)\u001b[0m\u001b[1;33m\u001b[0m\u001b[1;33m\u001b[0m\u001b[0m\n\u001b[1;32m----> 2\u001b[1;33m \u001b[0mnp\u001b[0m\u001b[1;33m.\u001b[0m\u001b[0msqrt\u001b[0m\u001b[1;33m(\u001b[0m\u001b[0mmean_squared_error\u001b[0m\u001b[1;33m(\u001b[0m\u001b[0my_test\u001b[0m\u001b[1;33m,\u001b[0m\u001b[0my_pred\u001b[0m\u001b[1;33m)\u001b[0m\u001b[1;33m)\u001b[0m\u001b[1;33m\u001b[0m\u001b[1;33m\u001b[0m\u001b[0m\n\u001b[0m",
      "\u001b[1;32m~\\anaconda3\\lib\\site-packages\\sklearn\\utils\\validation.py\u001b[0m in \u001b[0;36minner_f\u001b[1;34m(*args, **kwargs)\u001b[0m\n\u001b[0;32m     61\u001b[0m             \u001b[0mextra_args\u001b[0m \u001b[1;33m=\u001b[0m \u001b[0mlen\u001b[0m\u001b[1;33m(\u001b[0m\u001b[0margs\u001b[0m\u001b[1;33m)\u001b[0m \u001b[1;33m-\u001b[0m \u001b[0mlen\u001b[0m\u001b[1;33m(\u001b[0m\u001b[0mall_args\u001b[0m\u001b[1;33m)\u001b[0m\u001b[1;33m\u001b[0m\u001b[1;33m\u001b[0m\u001b[0m\n\u001b[0;32m     62\u001b[0m             \u001b[1;32mif\u001b[0m \u001b[0mextra_args\u001b[0m \u001b[1;33m<=\u001b[0m \u001b[1;36m0\u001b[0m\u001b[1;33m:\u001b[0m\u001b[1;33m\u001b[0m\u001b[1;33m\u001b[0m\u001b[0m\n\u001b[1;32m---> 63\u001b[1;33m                 \u001b[1;32mreturn\u001b[0m \u001b[0mf\u001b[0m\u001b[1;33m(\u001b[0m\u001b[1;33m*\u001b[0m\u001b[0margs\u001b[0m\u001b[1;33m,\u001b[0m \u001b[1;33m**\u001b[0m\u001b[0mkwargs\u001b[0m\u001b[1;33m)\u001b[0m\u001b[1;33m\u001b[0m\u001b[1;33m\u001b[0m\u001b[0m\n\u001b[0m\u001b[0;32m     64\u001b[0m \u001b[1;33m\u001b[0m\u001b[0m\n\u001b[0;32m     65\u001b[0m             \u001b[1;31m# extra_args > 0\u001b[0m\u001b[1;33m\u001b[0m\u001b[1;33m\u001b[0m\u001b[1;33m\u001b[0m\u001b[0m\n",
      "\u001b[1;32m~\\anaconda3\\lib\\site-packages\\sklearn\\metrics\\_regression.py\u001b[0m in \u001b[0;36mmean_squared_error\u001b[1;34m(y_true, y_pred, sample_weight, multioutput, squared)\u001b[0m\n\u001b[0;32m    333\u001b[0m     \u001b[1;36m0.825\u001b[0m\u001b[1;33m...\u001b[0m\u001b[1;33m\u001b[0m\u001b[1;33m\u001b[0m\u001b[0m\n\u001b[0;32m    334\u001b[0m     \"\"\"\n\u001b[1;32m--> 335\u001b[1;33m     y_type, y_true, y_pred, multioutput = _check_reg_targets(\n\u001b[0m\u001b[0;32m    336\u001b[0m         y_true, y_pred, multioutput)\n\u001b[0;32m    337\u001b[0m     \u001b[0mcheck_consistent_length\u001b[0m\u001b[1;33m(\u001b[0m\u001b[0my_true\u001b[0m\u001b[1;33m,\u001b[0m \u001b[0my_pred\u001b[0m\u001b[1;33m,\u001b[0m \u001b[0msample_weight\u001b[0m\u001b[1;33m)\u001b[0m\u001b[1;33m\u001b[0m\u001b[1;33m\u001b[0m\u001b[0m\n",
      "\u001b[1;32m~\\anaconda3\\lib\\site-packages\\sklearn\\metrics\\_regression.py\u001b[0m in \u001b[0;36m_check_reg_targets\u001b[1;34m(y_true, y_pred, multioutput, dtype)\u001b[0m\n\u001b[0;32m     86\u001b[0m         \u001b[0mthe\u001b[0m \u001b[0mdtype\u001b[0m \u001b[0margument\u001b[0m \u001b[0mpassed\u001b[0m \u001b[0mto\u001b[0m \u001b[0mcheck_array\u001b[0m\u001b[1;33m.\u001b[0m\u001b[1;33m\u001b[0m\u001b[1;33m\u001b[0m\u001b[0m\n\u001b[0;32m     87\u001b[0m     \"\"\"\n\u001b[1;32m---> 88\u001b[1;33m     \u001b[0mcheck_consistent_length\u001b[0m\u001b[1;33m(\u001b[0m\u001b[0my_true\u001b[0m\u001b[1;33m,\u001b[0m \u001b[0my_pred\u001b[0m\u001b[1;33m)\u001b[0m\u001b[1;33m\u001b[0m\u001b[1;33m\u001b[0m\u001b[0m\n\u001b[0m\u001b[0;32m     89\u001b[0m     \u001b[0my_true\u001b[0m \u001b[1;33m=\u001b[0m \u001b[0mcheck_array\u001b[0m\u001b[1;33m(\u001b[0m\u001b[0my_true\u001b[0m\u001b[1;33m,\u001b[0m \u001b[0mensure_2d\u001b[0m\u001b[1;33m=\u001b[0m\u001b[1;32mFalse\u001b[0m\u001b[1;33m,\u001b[0m \u001b[0mdtype\u001b[0m\u001b[1;33m=\u001b[0m\u001b[0mdtype\u001b[0m\u001b[1;33m)\u001b[0m\u001b[1;33m\u001b[0m\u001b[1;33m\u001b[0m\u001b[0m\n\u001b[0;32m     90\u001b[0m     \u001b[0my_pred\u001b[0m \u001b[1;33m=\u001b[0m \u001b[0mcheck_array\u001b[0m\u001b[1;33m(\u001b[0m\u001b[0my_pred\u001b[0m\u001b[1;33m,\u001b[0m \u001b[0mensure_2d\u001b[0m\u001b[1;33m=\u001b[0m\u001b[1;32mFalse\u001b[0m\u001b[1;33m,\u001b[0m \u001b[0mdtype\u001b[0m\u001b[1;33m=\u001b[0m\u001b[0mdtype\u001b[0m\u001b[1;33m)\u001b[0m\u001b[1;33m\u001b[0m\u001b[1;33m\u001b[0m\u001b[0m\n",
      "\u001b[1;32m~\\anaconda3\\lib\\site-packages\\sklearn\\utils\\validation.py\u001b[0m in \u001b[0;36mcheck_consistent_length\u001b[1;34m(*arrays)\u001b[0m\n\u001b[0;32m    260\u001b[0m     \u001b[0muniques\u001b[0m \u001b[1;33m=\u001b[0m \u001b[0mnp\u001b[0m\u001b[1;33m.\u001b[0m\u001b[0munique\u001b[0m\u001b[1;33m(\u001b[0m\u001b[0mlengths\u001b[0m\u001b[1;33m)\u001b[0m\u001b[1;33m\u001b[0m\u001b[1;33m\u001b[0m\u001b[0m\n\u001b[0;32m    261\u001b[0m     \u001b[1;32mif\u001b[0m \u001b[0mlen\u001b[0m\u001b[1;33m(\u001b[0m\u001b[0muniques\u001b[0m\u001b[1;33m)\u001b[0m \u001b[1;33m>\u001b[0m \u001b[1;36m1\u001b[0m\u001b[1;33m:\u001b[0m\u001b[1;33m\u001b[0m\u001b[1;33m\u001b[0m\u001b[0m\n\u001b[1;32m--> 262\u001b[1;33m         raise ValueError(\"Found input variables with inconsistent numbers of\"\n\u001b[0m\u001b[0;32m    263\u001b[0m                          \" samples: %r\" % [int(l) for l in lengths])\n\u001b[0;32m    264\u001b[0m \u001b[1;33m\u001b[0m\u001b[0m\n",
      "\u001b[1;31mValueError\u001b[0m: Found input variables with inconsistent numbers of samples: [66, 197]"
     ]
    }
   ],
   "source": [
    "y_pred=mlp_model_tuned.predict(x_train_scaled)\n",
    "np.sqrt(mean_squared_error(y_test,y_pred))#357 gibi bi değer gelcek neden error verdi anlamadım"
   ]
  },
  {
   "cell_type": "markdown",
   "id": "2a4ce6c6",
   "metadata": {},
   "source": [
    "# CART(Classification And Regression Tree)"
   ]
  },
  {
   "cell_type": "markdown",
   "id": "3bc6dc0c",
   "metadata": {},
   "source": [
    "## Model ve Tahmin"
   ]
  },
  {
   "cell_type": "code",
   "execution_count": null,
   "id": "fd7bc66c",
   "metadata": {},
   "outputs": [],
   "source": [
    "#tek değişkenli modelleme ve tahmini"
   ]
  },
  {
   "cell_type": "code",
   "execution_count": 83,
   "id": "8256f6c9",
   "metadata": {},
   "outputs": [],
   "source": [
    "x_train=pd.DataFrame(x_train[\"Hits\"])\n",
    "x_test=pd.DataFrame(x_test[\"Hits\"])"
   ]
  },
  {
   "cell_type": "code",
   "execution_count": 97,
   "id": "66ced001",
   "metadata": {},
   "outputs": [],
   "source": [
    "cart_model=DecisionTreeRegressor(max_leaf_nodes=10)"
   ]
  },
  {
   "cell_type": "code",
   "execution_count": 98,
   "id": "5c4b683b",
   "metadata": {},
   "outputs": [
    {
     "data": {
      "text/plain": [
       "DecisionTreeRegressor(max_leaf_nodes=10)"
      ]
     },
     "execution_count": 98,
     "metadata": {},
     "output_type": "execute_result"
    }
   ],
   "source": [
    "cart_model.fit(x_train,y_train)"
   ]
  },
  {
   "cell_type": "code",
   "execution_count": 99,
   "id": "c498666b",
   "metadata": {},
   "outputs": [
    {
     "data": {
      "image/png": "[encoded data removed]",
      "text/plain": [
       "<Figure size 432x288 with 1 Axes>"
      ]
     },
     "metadata": {
      "needs_background": "light"
     },
     "output_type": "display_data"
    }
   ],
   "source": [
    "x_grid=np.arange(min(np.array(x_train)),max(np.array(x_train)),0.01)\n",
    "x_grid=x_grid.reshape(len(x_grid),1)\n",
    "plt.scatter(x_train,y_train,color=\"red\")\n",
    "plt.plot(x_grid,cart_model.predict(x_grid),color=\"blue\")\n",
    "plt.title(\"CART REGRESYON AĞACI\")\n",
    "plt.xlabel(\"Atış Sayısı (Hits)\")\n",
    "plt.ylabel(\"Maaş(Salary)\");"
   ]
  },
  {
   "cell_type": "code",
   "execution_count": 101,
   "id": "02a9c9d3",
   "metadata": {},
   "outputs": [
    {
     "data": {
      "text/plain": [
       "array([621.96792308, 958.61111111, 621.96792308, 345.20115517,\n",
       "       345.20115517])"
      ]
     },
     "execution_count": 101,
     "metadata": {},
     "output_type": "execute_result"
    }
   ],
   "source": [
    "cart_model.predict(x_test)[0:5]"
   ]
  },
  {
   "cell_type": "code",
   "execution_count": 102,
   "id": "5691f460",
   "metadata": {},
   "outputs": [
    {
     "data": {
      "text/plain": [
       "486.34593105235456"
      ]
     },
     "execution_count": 102,
     "metadata": {},
     "output_type": "execute_result"
    }
   ],
   "source": [
    "y_pred=cart_model.predict(x_test)\n",
    "np.sqrt(mean_squared_error(y_test,y_pred))"
   ]
  },
  {
   "cell_type": "code",
   "execution_count": 103,
   "id": "568e92b2",
   "metadata": {},
   "outputs": [],
   "source": [
    "#çok değişkenli modelleme ve tahmini"
   ]
  },
  {
   "cell_type": "code",
   "execution_count": 107,
   "id": "4b22cd46",
   "metadata": {},
   "outputs": [],
   "source": [
    "df=pd.read_csv(\"Hitters.csv\")\n",
    "df=df.dropna()\n",
    "dms=pd.get_dummies(df[[\"League\",\"Division\",\"NewLeague\"]])\n",
    "y=df[\"Salary\"]\n",
    "x_=df.drop([\"Salary\",\"League\",\"Division\",\"NewLeague\"],axis=1).astype(\"float64\")\n",
    "x=pd.concat([x_,dms[[\"League_N\",\"Division_W\",\"NewLeague_N\"]]],axis=1)\n",
    "x_train,x_test,y_train,y_test=train_test_split(x,y,test_size=0.25,random_state=42)"
   ]
  },
  {
   "cell_type": "code",
   "execution_count": 108,
   "id": "77ebccf2",
   "metadata": {},
   "outputs": [],
   "source": [
    "cart_model=DecisionTreeRegressor().fit(x_train,y_train)"
   ]
  },
  {
   "cell_type": "code",
   "execution_count": 109,
   "id": "77a20e93",
   "metadata": {},
   "outputs": [
    {
     "data": {
      "text/plain": [
       "437.7011766585772"
      ]
     },
     "execution_count": 109,
     "metadata": {},
     "output_type": "execute_result"
    }
   ],
   "source": [
    "y_pred=cart_model.predict(x_test)\n",
    "np.sqrt(mean_squared_error(y_test,y_pred))"
   ]
  },
  {
   "cell_type": "markdown",
   "id": "f8f68dcc",
   "metadata": {},
   "source": [
    "## Model Tuning "
   ]
  },
  {
   "cell_type": "code",
   "execution_count": 113,
   "id": "3f1ea547",
   "metadata": {},
   "outputs": [
    {
     "data": {
      "text/plain": [
       "['__abstractmethods__',\n",
       " '__class__',\n",
       " '__delattr__',\n",
       " '__dict__',\n",
       " '__dir__',\n",
       " '__doc__',\n",
       " '__eq__',\n",
       " '__format__',\n",
       " '__ge__',\n",
       " '__getattribute__',\n",
       " '__getstate__',\n",
       " '__gt__',\n",
       " '__hash__',\n",
       " '__init__',\n",
       " '__init_subclass__',\n",
       " '__le__',\n",
       " '__lt__',\n",
       " '__module__',\n",
       " '__ne__',\n",
       " '__new__',\n",
       " '__reduce__',\n",
       " '__reduce_ex__',\n",
       " '__repr__',\n",
       " '__setattr__',\n",
       " '__setstate__',\n",
       " '__sizeof__',\n",
       " '__str__',\n",
       " '__subclasshook__',\n",
       " '__weakref__',\n",
       " '_abc_impl',\n",
       " '_check_n_features',\n",
       " '_compute_partial_dependence_recursion',\n",
       " '_estimator_type',\n",
       " '_get_param_names',\n",
       " '_get_tags',\n",
       " '_more_tags',\n",
       " '_prune_tree',\n",
       " '_repr_html_',\n",
       " '_repr_html_inner',\n",
       " '_repr_mimebundle_',\n",
       " '_validate_X_predict',\n",
       " '_validate_data',\n",
       " 'apply',\n",
       " 'ccp_alpha',\n",
       " 'class_weight',\n",
       " 'cost_complexity_pruning_path',\n",
       " 'criterion',\n",
       " 'decision_path',\n",
       " 'feature_importances_',\n",
       " 'fit',\n",
       " 'get_depth',\n",
       " 'get_n_leaves',\n",
       " 'get_params',\n",
       " 'max_depth',\n",
       " 'max_features',\n",
       " 'max_features_',\n",
       " 'max_leaf_nodes',\n",
       " 'min_impurity_decrease',\n",
       " 'min_impurity_split',\n",
       " 'min_samples_leaf',\n",
       " 'min_samples_split',\n",
       " 'min_weight_fraction_leaf',\n",
       " 'n_features_',\n",
       " 'n_features_in_',\n",
       " 'n_outputs_',\n",
       " 'predict',\n",
       " 'random_state',\n",
       " 'score',\n",
       " 'set_params',\n",
       " 'splitter',\n",
       " 'tree_']"
      ]
     },
     "execution_count": 113,
     "metadata": {},
     "output_type": "execute_result"
    }
   ],
   "source": [
    "dir(cart_model)"
   ]
  },
  {
   "cell_type": "code",
   "execution_count": 112,
   "id": "8ea463ce",
   "metadata": {},
   "outputs": [
    {
     "data": {
      "text/plain": [
       "526.1297896043966"
      ]
     },
     "execution_count": 112,
     "metadata": {},
     "output_type": "execute_result"
    }
   ],
   "source": [
    "cart_model=DecisionTreeRegressor().fit(x_train,y_train)\n",
    "y_pred=cart_model.predict(x_test)\n",
    "np.sqrt(mean_squared_error(y_test,y_pred))"
   ]
  },
  {
   "cell_type": "code",
   "execution_count": 2,
   "id": "6c1cd9e5",
   "metadata": {},
   "outputs": [],
   "source": [
    "cart_params={\"max_depth\":[2,3,4,5,10,20],\n",
    "            \"min_samples_split\":[2,10,5,30,50,20]}"
   ]
  },
  {
   "cell_type": "code",
   "execution_count": 6,
   "id": "a828fe77",
   "metadata": {
    "scrolled": true
   },
   "outputs": [],
   "source": [
    "cart_model=DecisionTreeRegressor()\n"
   ]
  },
  {
   "cell_type": "code",
   "execution_count": 7,
   "id": "2889216e",
   "metadata": {},
   "outputs": [],
   "source": [
    "cart_cv_model=GridSearchCV(cart_model,cart_params,cv=10).fit(x_train,y_train)"
   ]
  },
  {
   "cell_type": "code",
   "execution_count": 8,
   "id": "4ab1536e",
   "metadata": {},
   "outputs": [
    {
     "data": {
      "text/plain": [
       "{'max_depth': 4, 'min_samples_split': 50}"
      ]
     },
     "execution_count": 8,
     "metadata": {},
     "output_type": "execute_result"
    }
   ],
   "source": [
    "cart_cv_model.best_params_"
   ]
  },
  {
   "cell_type": "code",
   "execution_count": 10,
   "id": "dbc191b6",
   "metadata": {},
   "outputs": [],
   "source": [
    "cart_tuned=DecisionTreeRegressor(max_depth=4,min_samples_split=50).fit(x_train,y_train)\n"
   ]
  },
  {
   "cell_type": "code",
   "execution_count": 11,
   "id": "d1c8fd68",
   "metadata": {},
   "outputs": [],
   "source": [
    "y_pred=cart_tuned.predict(x_test)"
   ]
  },
  {
   "cell_type": "code",
   "execution_count": 12,
   "id": "70f5d49d",
   "metadata": {},
   "outputs": [
    {
     "data": {
      "text/plain": [
       "361.0876906511434"
      ]
     },
     "execution_count": 12,
     "metadata": {},
     "output_type": "execute_result"
    }
   ],
   "source": [
    "np.sqrt(mean_squared_error(y_test,y_pred))"
   ]
  },
  {
   "cell_type": "markdown",
   "id": "f0c0dccb",
   "metadata": {},
   "source": [
    "# Random Forests"
   ]
  },
  {
   "cell_type": "code",
   "execution_count": 13,
   "id": "59c7a22f",
   "metadata": {},
   "outputs": [],
   "source": [
    "#bagging(boostrap aggregation)=veriden belirli sayıda örneklem çekerek o önrneklemlerden modeller oluşturup o modellerin tahmin işlemlerini göze alıp sonuca varmaktır\n",
    "#bu örneklem modellerine estimator ,ağaç denebilir"
   ]
  },
  {
   "cell_type": "markdown",
   "id": "76116d84",
   "metadata": {},
   "source": [
    "## Model ve Tahmin"
   ]
  },
  {
   "cell_type": "code",
   "execution_count": 14,
   "id": "769319bf",
   "metadata": {},
   "outputs": [],
   "source": [
    "rf_model=RandomForestRegressor(random_state=42).fit(x_train,y_train)#random state aynı değeri çekmek için random forestada zaten rastegele ağaç(örneklem modelleri)çekiyodu"
   ]
  },
  {
   "cell_type": "code",
   "execution_count": 15,
   "id": "3cf1c6e3",
   "metadata": {},
   "outputs": [],
   "source": [
    "y_pred=rf_model.predict(x_test)"
   ]
  },
  {
   "cell_type": "code",
   "execution_count": 16,
   "id": "ad7e68ad",
   "metadata": {},
   "outputs": [
    {
     "data": {
      "text/plain": [
       "344.8191624908484"
      ]
     },
     "execution_count": 16,
     "metadata": {},
     "output_type": "execute_result"
    }
   ],
   "source": [
    "np.sqrt(mean_squared_error(y_test,y_pred))"
   ]
  },
  {
   "cell_type": "markdown",
   "id": "97f2e273",
   "metadata": {},
   "source": [
    "## Model Tuning "
   ]
  },
  {
   "cell_type": "code",
   "execution_count": 17,
   "id": "786b62ef",
   "metadata": {},
   "outputs": [],
   "source": [
    "rf_model=RandomForestRegressor(random_state=42).fit(x_train,y_train)"
   ]
  },
  {
   "cell_type": "code",
   "execution_count": 18,
   "id": "af98eb7b",
   "metadata": {},
   "outputs": [
    {
     "data": {
      "text/plain": [
       "['__abstractmethods__',\n",
       " '__annotations__',\n",
       " '__class__',\n",
       " '__delattr__',\n",
       " '__dict__',\n",
       " '__dir__',\n",
       " '__doc__',\n",
       " '__eq__',\n",
       " '__format__',\n",
       " '__ge__',\n",
       " '__getattribute__',\n",
       " '__getitem__',\n",
       " '__getstate__',\n",
       " '__gt__',\n",
       " '__hash__',\n",
       " '__init__',\n",
       " '__init_subclass__',\n",
       " '__iter__',\n",
       " '__le__',\n",
       " '__len__',\n",
       " '__lt__',\n",
       " '__module__',\n",
       " '__ne__',\n",
       " '__new__',\n",
       " '__reduce__',\n",
       " '__reduce_ex__',\n",
       " '__repr__',\n",
       " '__setattr__',\n",
       " '__setstate__',\n",
       " '__sizeof__',\n",
       " '__str__',\n",
       " '__subclasshook__',\n",
       " '__weakref__',\n",
       " '_abc_impl',\n",
       " '_check_n_features',\n",
       " '_compute_partial_dependence_recursion',\n",
       " '_estimator_type',\n",
       " '_get_param_names',\n",
       " '_get_tags',\n",
       " '_make_estimator',\n",
       " '_more_tags',\n",
       " '_repr_html_',\n",
       " '_repr_html_inner',\n",
       " '_repr_mimebundle_',\n",
       " '_required_parameters',\n",
       " '_set_oob_score',\n",
       " '_validate_X_predict',\n",
       " '_validate_data',\n",
       " '_validate_estimator',\n",
       " '_validate_y_class_weight',\n",
       " 'apply',\n",
       " 'base_estimator',\n",
       " 'base_estimator_',\n",
       " 'bootstrap',\n",
       " 'ccp_alpha',\n",
       " 'class_weight',\n",
       " 'criterion',\n",
       " 'decision_path',\n",
       " 'estimator_params',\n",
       " 'estimators_',\n",
       " 'feature_importances_',\n",
       " 'fit',\n",
       " 'get_params',\n",
       " 'max_depth',\n",
       " 'max_features',\n",
       " 'max_leaf_nodes',\n",
       " 'max_samples',\n",
       " 'min_impurity_decrease',\n",
       " 'min_impurity_split',\n",
       " 'min_samples_leaf',\n",
       " 'min_samples_split',\n",
       " 'min_weight_fraction_leaf',\n",
       " 'n_estimators',\n",
       " 'n_features_',\n",
       " 'n_features_in_',\n",
       " 'n_jobs',\n",
       " 'n_outputs_',\n",
       " 'oob_score',\n",
       " 'predict',\n",
       " 'random_state',\n",
       " 'score',\n",
       " 'set_params',\n",
       " 'verbose',\n",
       " 'warm_start']"
      ]
     },
     "execution_count": 18,
     "metadata": {},
     "output_type": "execute_result"
    }
   ],
   "source": [
    "dir(rf_model)"
   ]
  },
  {
   "cell_type": "code",
   "execution_count": 19,
   "id": "6649ff25",
   "metadata": {},
   "outputs": [],
   "source": [
    "rf_params={\"max_depth\":[5,8,10],\n",
    "          \"n_estimators\":[2000,100,500],\n",
    "          \"min_samples_split\":[2,10,80],\n",
    "          \"max_features\":[2,5,10]}#ve tanımlı default değerlerde dolaşmak daha mantıklıdır"
   ]
  },
  {
   "cell_type": "code",
   "execution_count": 20,
   "id": "aa1b3e2e",
   "metadata": {},
   "outputs": [],
   "source": [
    "rf_cv_model=GridSearchCV(rf_model,rf_params,cv=10,n_jobs=-1).fit(x_train,y_train)#cv katı ne kadar artarsa tarama o kadar başarılı yani çıkan hatası azalır"
   ]
  },
  {
   "cell_type": "code",
   "execution_count": 21,
   "id": "0bcb1cc9",
   "metadata": {},
   "outputs": [
    {
     "data": {
      "text/plain": [
       "{'max_depth': 10,\n",
       " 'max_features': 2,\n",
       " 'min_samples_split': 2,\n",
       " 'n_estimators': 100}"
      ]
     },
     "execution_count": 21,
     "metadata": {},
     "output_type": "execute_result"
    }
   ],
   "source": [
    "rf_cv_model.best_params_"
   ]
  },
  {
   "cell_type": "code",
   "execution_count": 22,
   "id": "beecdc82",
   "metadata": {},
   "outputs": [],
   "source": [
    "rf_tuned_model=RandomForestRegressor(max_depth=10,max_features=2,min_samples_split=2,n_estimators=100,random_state=42).fit(x_train,y_train)"
   ]
  },
  {
   "cell_type": "code",
   "execution_count": 24,
   "id": "9f937ea7",
   "metadata": {},
   "outputs": [
    {
     "data": {
      "text/plain": [
       "355.4275018127567"
      ]
     },
     "execution_count": 24,
     "metadata": {},
     "output_type": "execute_result"
    }
   ],
   "source": [
    "y_pred=rf_tuned_model.predict(x_test)\n",
    "np.sqrt(mean_squared_error(y_test,y_pred))"
   ]
  },
  {
   "cell_type": "markdown",
   "id": "9f6f1a3d",
   "metadata": {},
   "source": [
    "değişken önem düzeyi"
   ]
  },
  {
   "cell_type": "code",
   "execution_count": 31,
   "id": "169afa57",
   "metadata": {},
   "outputs": [
    {
     "data": {
      "image/png": "[encoded data removed]",
      "text/plain": [
       "<Figure size 432x288 with 1 Axes>"
      ]
     },
     "metadata": {
      "needs_background": "light"
     },
     "output_type": "display_data"
    }
   ],
   "source": [
    "Importance=pd.DataFrame({\"Importance\":rf_tuned_model.feature_importances_*100}\n",
    "                        ,index=x_train.columns)\n",
    "Importance.sort_values(by=\"Importance\",\n",
    "                      axis=0,\n",
    "                     ascending=True).plot(kind=\"barh\"\n",
    "                                         ,color=\"r\")\n",
    "plt.xlabel(\"VariableImportance\")\n",
    "plt.gca().legend_=None\n",
    "#bu her ağaç hiyeraşısınde rastgele olur ama cartta ise en üsttekiydi                     "
   ]
  },
  {
   "cell_type": "markdown",
   "id": "0bdc1f30",
   "metadata": {},
   "source": [
    "# Gradient Boosting Machines\n"
   ]
  },
  {
   "cell_type": "code",
   "execution_count": 47,
   "id": "2f55f861",
   "metadata": {},
   "outputs": [],
   "source": [
    "#boosting=zayıf tahmincileri birleştirip güçlü kümülatif tahminciler(ağaçlar) bunları gradient algosuyla yapar"
   ]
  },
  {
   "cell_type": "markdown",
   "id": "d90f9e1a",
   "metadata": {},
   "source": [
    "## Model ve Tahmin"
   ]
  },
  {
   "cell_type": "code",
   "execution_count": 32,
   "id": "01aa1bb0",
   "metadata": {},
   "outputs": [],
   "source": [
    "gbm_model=GradientBoostingRegressor().fit(x_train,y_train)"
   ]
  },
  {
   "cell_type": "code",
   "execution_count": 35,
   "id": "a9e8f89c",
   "metadata": {},
   "outputs": [
    {
     "data": {
      "text/plain": [
       "349.49336814792815"
      ]
     },
     "execution_count": 35,
     "metadata": {},
     "output_type": "execute_result"
    }
   ],
   "source": [
    "y_pred=gbm_model.predict(x_test)\n",
    "np.sqrt(mean_squared_error(y_pred,y_test))"
   ]
  },
  {
   "cell_type": "markdown",
   "id": "411f1caa",
   "metadata": {},
   "source": [
    "## Model Tuning"
   ]
  },
  {
   "cell_type": "code",
   "execution_count": 37,
   "id": "13c37d78",
   "metadata": {},
   "outputs": [
    {
     "data": {
      "text/plain": [
       "['_SUPPORTED_LOSS',\n",
       " '__abstractmethods__',\n",
       " '__annotations__',\n",
       " '__class__',\n",
       " '__delattr__',\n",
       " '__dict__',\n",
       " '__dir__',\n",
       " '__doc__',\n",
       " '__eq__',\n",
       " '__format__',\n",
       " '__ge__',\n",
       " '__getattribute__',\n",
       " '__getitem__',\n",
       " '__getstate__',\n",
       " '__gt__',\n",
       " '__hash__',\n",
       " '__init__',\n",
       " '__init_subclass__',\n",
       " '__iter__',\n",
       " '__le__',\n",
       " '__len__',\n",
       " '__lt__',\n",
       " '__module__',\n",
       " '__ne__',\n",
       " '__new__',\n",
       " '__reduce__',\n",
       " '__reduce_ex__',\n",
       " '__repr__',\n",
       " '__setattr__',\n",
       " '__setstate__',\n",
       " '__sizeof__',\n",
       " '__str__',\n",
       " '__subclasshook__',\n",
       " '__weakref__',\n",
       " '_abc_impl',\n",
       " '_check_initialized',\n",
       " '_check_n_features',\n",
       " '_check_params',\n",
       " '_clear_state',\n",
       " '_compute_partial_dependence_recursion',\n",
       " '_estimator_type',\n",
       " '_fit_stage',\n",
       " '_fit_stages',\n",
       " '_get_param_names',\n",
       " '_get_tags',\n",
       " '_init_state',\n",
       " '_is_initialized',\n",
       " '_make_estimator',\n",
       " '_more_tags',\n",
       " '_raw_predict',\n",
       " '_raw_predict_init',\n",
       " '_repr_html_',\n",
       " '_repr_html_inner',\n",
       " '_repr_mimebundle_',\n",
       " '_required_parameters',\n",
       " '_resize_state',\n",
       " '_rng',\n",
       " '_staged_raw_predict',\n",
       " '_validate_data',\n",
       " '_validate_estimator',\n",
       " '_validate_y',\n",
       " '_warn_mae_for_criterion',\n",
       " 'alpha',\n",
       " 'apply',\n",
       " 'ccp_alpha',\n",
       " 'criterion',\n",
       " 'estimators_',\n",
       " 'feature_importances_',\n",
       " 'fit',\n",
       " 'get_params',\n",
       " 'init',\n",
       " 'init_',\n",
       " 'learning_rate',\n",
       " 'loss',\n",
       " 'loss_',\n",
       " 'max_depth',\n",
       " 'max_features',\n",
       " 'max_features_',\n",
       " 'max_leaf_nodes',\n",
       " 'min_impurity_decrease',\n",
       " 'min_impurity_split',\n",
       " 'min_samples_leaf',\n",
       " 'min_samples_split',\n",
       " 'min_weight_fraction_leaf',\n",
       " 'n_classes_',\n",
       " 'n_estimators',\n",
       " 'n_estimators_',\n",
       " 'n_features_',\n",
       " 'n_features_in_',\n",
       " 'n_iter_no_change',\n",
       " 'predict',\n",
       " 'random_state',\n",
       " 'score',\n",
       " 'set_params',\n",
       " 'staged_predict',\n",
       " 'subsample',\n",
       " 'tol',\n",
       " 'train_score_',\n",
       " 'validation_fraction',\n",
       " 'verbose',\n",
       " 'warm_start']"
      ]
     },
     "execution_count": 37,
     "metadata": {},
     "output_type": "execute_result"
    }
   ],
   "source": [
    "dir(gbm_model)"
   ]
  },
  {
   "cell_type": "code",
   "execution_count": 38,
   "id": "74289351",
   "metadata": {},
   "outputs": [],
   "source": [
    "gbm_params={\"learning_rate\":[0.01,0.001],\n",
    "           \"loss\":[\"ls\",\"quantile\"],\n",
    "          \"subsample\":[1,0.5] }"
   ]
  },
  {
   "cell_type": "code",
   "execution_count": 39,
   "id": "2ce34fa7",
   "metadata": {},
   "outputs": [],
   "source": [
    "gbm_model=GradientBoostingRegressor().fit(x_train,y_train)"
   ]
  },
  {
   "cell_type": "code",
   "execution_count": 41,
   "id": "a8517ee9",
   "metadata": {},
   "outputs": [],
   "source": [
    "gbm_params_cv=GridSearchCV(gbm_model,gbm_params,n_jobs=-1).fit(x_train,y_train)"
   ]
  },
  {
   "cell_type": "code",
   "execution_count": 42,
   "id": "295adbe4",
   "metadata": {},
   "outputs": [
    {
     "data": {
      "text/plain": [
       "{'learning_rate': 0.01, 'loss': 'ls', 'subsample': 0.5}"
      ]
     },
     "execution_count": 42,
     "metadata": {},
     "output_type": "execute_result"
    }
   ],
   "source": [
    "gbm_params_cv.best_params_"
   ]
  },
  {
   "cell_type": "code",
   "execution_count": 43,
   "id": "f7c1e46c",
   "metadata": {},
   "outputs": [],
   "source": [
    "gbm_tuned=GradientBoostingRegressor(learning_rate=0.01,loss=\"ls\",subsample=0.5).fit(x_train,y_train)"
   ]
  },
  {
   "cell_type": "code",
   "execution_count": 44,
   "id": "a067443e",
   "metadata": {},
   "outputs": [],
   "source": [
    "y_pred=gbm_tuned.predict(x_test)"
   ]
  },
  {
   "cell_type": "code",
   "execution_count": 45,
   "id": "2e8f7d18",
   "metadata": {},
   "outputs": [
    {
     "data": {
      "text/plain": [
       "359.36467868525705"
      ]
     },
     "execution_count": 45,
     "metadata": {},
     "output_type": "execute_result"
    }
   ],
   "source": [
    "np.sqrt(mean_squared_error(y_pred,y_test))"
   ]
  },
  {
   "cell_type": "code",
   "execution_count": 48,
   "id": "e1cbe17d",
   "metadata": {},
   "outputs": [],
   "source": [
    "#genelde ne kadar fazla parametre o kadar az hata biz burda az girdik işlemci hepsini hesaplamada zorlanır diye"
   ]
  },
  {
   "cell_type": "markdown",
   "id": "927d79cf",
   "metadata": {},
   "source": [
    "# XGBoost "
   ]
  },
  {
   "cell_type": "markdown",
   "id": "cb14a759",
   "metadata": {},
   "source": [
    "## Model ve Tahmin "
   ]
  },
  {
   "cell_type": "code",
   "execution_count": 1,
   "id": "83ae2fd7",
   "metadata": {},
   "outputs": [
    {
     "name": "stdout",
     "output_type": "stream",
     "text": [
      "Collecting xgboost\n",
      "  Downloading xgboost-1.5.2-py3-none-win_amd64.whl (106.6 MB)\n",
      "Requirement already satisfied: scipy in c:\\users\\kadosama\\anaconda3\\lib\\site-packages (from xgboost) (1.6.2)\n",
      "Requirement already satisfied: numpy in c:\\users\\kadosama\\anaconda3\\lib\\site-packages (from xgboost) (1.20.1)\n",
      "Installing collected packages: xgboost\n",
      "Successfully installed xgboost-1.5.2\n"
     ]
    }
   ],
   "source": [
    "!pip install xgboost"
   ]
  },
  {
   "cell_type": "code",
   "execution_count": 4,
   "id": "a0eb6be6",
   "metadata": {},
   "outputs": [],
   "source": [
    "import xgboost"
   ]
  },
  {
   "cell_type": "code",
   "execution_count": 10,
   "id": "3c54b5ad",
   "metadata": {},
   "outputs": [],
   "source": [
    "from xgboost import XGBRegressor"
   ]
  },
  {
   "cell_type": "code",
   "execution_count": 6,
   "id": "8154aa66",
   "metadata": {},
   "outputs": [],
   "source": [
    "xgb=XGBRegressor().fit(x_train,y_train)"
   ]
  },
  {
   "cell_type": "code",
   "execution_count": 7,
   "id": "7de7a7f2",
   "metadata": {},
   "outputs": [],
   "source": [
    "y_pred=xgb.predict(x_test)"
   ]
  },
  {
   "cell_type": "code",
   "execution_count": 8,
   "id": "a13ea547",
   "metadata": {},
   "outputs": [
    {
     "data": {
      "text/plain": [
       "355.46515176059927"
      ]
     },
     "execution_count": 8,
     "metadata": {},
     "output_type": "execute_result"
    }
   ],
   "source": [
    "np.sqrt(mean_squared_error(y_test,y_pred))"
   ]
  },
  {
   "cell_type": "markdown",
   "id": "aa88f417",
   "metadata": {},
   "source": [
    "## Model Tuning "
   ]
  },
  {
   "cell_type": "code",
   "execution_count": 9,
   "id": "7ca87aed",
   "metadata": {
    "scrolled": true
   },
   "outputs": [
    {
     "data": {
      "text/plain": [
       "['_Booster',\n",
       " '__class__',\n",
       " '__delattr__',\n",
       " '__dict__',\n",
       " '__dir__',\n",
       " '__doc__',\n",
       " '__eq__',\n",
       " '__format__',\n",
       " '__ge__',\n",
       " '__getattribute__',\n",
       " '__getstate__',\n",
       " '__gt__',\n",
       " '__hash__',\n",
       " '__init__',\n",
       " '__init_subclass__',\n",
       " '__le__',\n",
       " '__lt__',\n",
       " '__module__',\n",
       " '__ne__',\n",
       " '__new__',\n",
       " '__reduce__',\n",
       " '__reduce_ex__',\n",
       " '__repr__',\n",
       " '__setattr__',\n",
       " '__setstate__',\n",
       " '__sizeof__',\n",
       " '__sklearn_is_fitted__',\n",
       " '__str__',\n",
       " '__subclasshook__',\n",
       " '__weakref__',\n",
       " '_can_use_inplace_predict',\n",
       " '_check_n_features',\n",
       " '_configure_fit',\n",
       " '_early_stopping_attr',\n",
       " '_estimator_type',\n",
       " '_get_iteration_range',\n",
       " '_get_param_names',\n",
       " '_get_tags',\n",
       " '_get_type',\n",
       " '_more_tags',\n",
       " '_repr_html_',\n",
       " '_repr_html_inner',\n",
       " '_repr_mimebundle_',\n",
       " '_set_evaluation_result',\n",
       " '_validate_data',\n",
       " 'apply',\n",
       " 'base_score',\n",
       " 'best_iteration',\n",
       " 'best_ntree_limit',\n",
       " 'best_score',\n",
       " 'booster',\n",
       " 'coef_',\n",
       " 'colsample_bylevel',\n",
       " 'colsample_bynode',\n",
       " 'colsample_bytree',\n",
       " 'enable_categorical',\n",
       " 'evals_result',\n",
       " 'feature_importances_',\n",
       " 'fit',\n",
       " 'gamma',\n",
       " 'get_booster',\n",
       " 'get_num_boosting_rounds',\n",
       " 'get_params',\n",
       " 'get_xgb_params',\n",
       " 'gpu_id',\n",
       " 'importance_type',\n",
       " 'interaction_constraints',\n",
       " 'intercept_',\n",
       " 'learning_rate',\n",
       " 'load_model',\n",
       " 'max_delta_step',\n",
       " 'max_depth',\n",
       " 'min_child_weight',\n",
       " 'missing',\n",
       " 'monotone_constraints',\n",
       " 'n_estimators',\n",
       " 'n_features_in_',\n",
       " 'n_jobs',\n",
       " 'num_parallel_tree',\n",
       " 'objective',\n",
       " 'predict',\n",
       " 'predictor',\n",
       " 'random_state',\n",
       " 'reg_alpha',\n",
       " 'reg_lambda',\n",
       " 'save_model',\n",
       " 'scale_pos_weight',\n",
       " 'score',\n",
       " 'set_params',\n",
       " 'subsample',\n",
       " 'tree_method',\n",
       " 'validate_parameters',\n",
       " 'verbosity']"
      ]
     },
     "execution_count": 9,
     "metadata": {},
     "output_type": "execute_result"
    }
   ],
   "source": [
    "dir(xgb)"
   ]
  },
  {
   "cell_type": "code",
   "execution_count": 10,
   "id": "a68e81a4",
   "metadata": {},
   "outputs": [],
   "source": [
    "xgb_params={\"colsample_bytree\":[0.4,0.7,1]}"
   ]
  },
  {
   "cell_type": "code",
   "execution_count": 11,
   "id": "5ba17c0e",
   "metadata": {},
   "outputs": [],
   "source": [
    "xgb_cv_model=GridSearchCV(xgb,xgb_params,cv=5,n_jobs=-1).fit(x_train,y_train)#cv kaçkatlı olucağını söyler ayriyetten\n",
    "#burda birden fazla girebilirdik ama hepsi aynı ztn ondan girmedim"
   ]
  },
  {
   "cell_type": "code",
   "execution_count": 12,
   "id": "22fdaf51",
   "metadata": {},
   "outputs": [
    {
     "data": {
      "text/plain": [
       "{'colsample_bytree': 0.4}"
      ]
     },
     "execution_count": 12,
     "metadata": {},
     "output_type": "execute_result"
    }
   ],
   "source": [
    "xgb_cv_model.best_params_"
   ]
  },
  {
   "cell_type": "code",
   "execution_count": 13,
   "id": "aae7c0cc",
   "metadata": {},
   "outputs": [],
   "source": [
    "xgb_tuned=XGBRegressor(colsample_bytree=0.4).fit(x_train,y_train)"
   ]
  },
  {
   "cell_type": "code",
   "execution_count": 14,
   "id": "c19bc5df",
   "metadata": {},
   "outputs": [],
   "source": [
    "y_pred=xgb_tuned.predict(x_test)"
   ]
  },
  {
   "cell_type": "code",
   "execution_count": 17,
   "id": "be77d46f",
   "metadata": {},
   "outputs": [
    {
     "data": {
      "text/plain": [
       "367.4824660988048"
      ]
     },
     "execution_count": 17,
     "metadata": {},
     "output_type": "execute_result"
    }
   ],
   "source": [
    "np.sqrt(mean_squared_error(y_test,y_pred))#sonuca takılma normalde daha az olması lzm"
   ]
  },
  {
   "cell_type": "code",
   "execution_count": 18,
   "id": "1872eea2",
   "metadata": {},
   "outputs": [],
   "source": [
    "#en iyi algoritma bazen basit verilerde çalışmayabilir optime olamayabilir o yüzden kompleksliğine göre algoritma seçmek gerekir"
   ]
  },
  {
   "cell_type": "markdown",
   "id": "32f56b39",
   "metadata": {},
   "source": [
    "# Light GBM"
   ]
  },
  {
   "cell_type": "markdown",
   "id": "1370c59c",
   "metadata": {},
   "source": [
    "## Model ve Tahmin "
   ]
  },
  {
   "cell_type": "code",
   "execution_count": 20,
   "id": "b053579e",
   "metadata": {},
   "outputs": [
    {
     "name": "stdout",
     "output_type": "stream",
     "text": [
      "Collecting lightgbm\n",
      "  Downloading lightgbm-3.3.2-py3-none-win_amd64.whl (1.0 MB)\n",
      "Requirement already satisfied: scipy in c:\\users\\kadosama\\anaconda3\\lib\\site-packages (from lightgbm) (1.6.2)\n",
      "Requirement already satisfied: numpy in c:\\users\\kadosama\\anaconda3\\lib\\site-packages (from lightgbm) (1.20.1)\n",
      "Requirement already satisfied: wheel in c:\\users\\kadosama\\anaconda3\\lib\\site-packages (from lightgbm) (0.36.2)\n",
      "Requirement already satisfied: scikit-learn!=0.22.0 in c:\\users\\kadosama\\anaconda3\\lib\\site-packages (from lightgbm) (0.24.1)\n",
      "Requirement already satisfied: joblib>=0.11 in c:\\users\\kadosama\\anaconda3\\lib\\site-packages (from scikit-learn!=0.22.0->lightgbm) (1.0.1)\n",
      "Requirement already satisfied: threadpoolctl>=2.0.0 in c:\\users\\kadosama\\anaconda3\\lib\\site-packages (from scikit-learn!=0.22.0->lightgbm) (2.1.0)\n",
      "Installing collected packages: lightgbm\n",
      "Successfully installed lightgbm-3.3.2\n"
     ]
    }
   ],
   "source": [
    "!pip install lightgbm"
   ]
  },
  {
   "cell_type": "code",
   "execution_count": 21,
   "id": "b1ceaa64",
   "metadata": {},
   "outputs": [],
   "source": [
    "#bunlar sklearn de olmadığı yeni algolar olduğu için dışşardan indirdik"
   ]
  },
  {
   "cell_type": "code",
   "execution_count": 8,
   "id": "5136e24b",
   "metadata": {},
   "outputs": [],
   "source": [
    "from lightgbm import LGBMRegressor"
   ]
  },
  {
   "cell_type": "code",
   "execution_count": 23,
   "id": "33e92308",
   "metadata": {},
   "outputs": [],
   "source": [
    "lgb=LGBMRegressor().fit(x_train,y_train)"
   ]
  },
  {
   "cell_type": "code",
   "execution_count": 25,
   "id": "617a84d3",
   "metadata": {},
   "outputs": [
    {
     "data": {
      "text/plain": [
       "363.8712087611089"
      ]
     },
     "execution_count": 25,
     "metadata": {},
     "output_type": "execute_result"
    }
   ],
   "source": [
    "y_pred=lgb.predict(x_test)\n",
    "np.sqrt(mean_squared_error(y_test,y_pred))"
   ]
  },
  {
   "cell_type": "markdown",
   "id": "2a279bf1",
   "metadata": {},
   "source": [
    "## Model Tuning"
   ]
  },
  {
   "cell_type": "code",
   "execution_count": 27,
   "id": "05afbc7d",
   "metadata": {},
   "outputs": [
    {
     "data": {
      "text/plain": [
       "['_Booster',\n",
       " '__class__',\n",
       " '__delattr__',\n",
       " '__dict__',\n",
       " '__dir__',\n",
       " '__doc__',\n",
       " '__eq__',\n",
       " '__format__',\n",
       " '__ge__',\n",
       " '__getattribute__',\n",
       " '__getstate__',\n",
       " '__gt__',\n",
       " '__hash__',\n",
       " '__init__',\n",
       " '__init_subclass__',\n",
       " '__le__',\n",
       " '__lt__',\n",
       " '__module__',\n",
       " '__ne__',\n",
       " '__new__',\n",
       " '__reduce__',\n",
       " '__reduce_ex__',\n",
       " '__repr__',\n",
       " '__setattr__',\n",
       " '__setstate__',\n",
       " '__sizeof__',\n",
       " '__sklearn_is_fitted__',\n",
       " '__str__',\n",
       " '__subclasshook__',\n",
       " '__weakref__',\n",
       " '_base_doc',\n",
       " '_best_iteration',\n",
       " '_best_score',\n",
       " '_check_n_features',\n",
       " '_class_map',\n",
       " '_class_weight',\n",
       " '_classes',\n",
       " '_estimator_type',\n",
       " '_evals_result',\n",
       " '_fobj',\n",
       " '_get_param_names',\n",
       " '_get_tags',\n",
       " '_more_tags',\n",
       " '_n_classes',\n",
       " '_n_features',\n",
       " '_n_features_in',\n",
       " '_objective',\n",
       " '_other_params',\n",
       " '_repr_html_',\n",
       " '_repr_html_inner',\n",
       " '_repr_mimebundle_',\n",
       " '_validate_data',\n",
       " 'best_iteration_',\n",
       " 'best_score_',\n",
       " 'booster_',\n",
       " 'boosting_type',\n",
       " 'class_weight',\n",
       " 'colsample_bytree',\n",
       " 'evals_result_',\n",
       " 'feature_importances_',\n",
       " 'feature_name_',\n",
       " 'fit',\n",
       " 'fitted_',\n",
       " 'get_params',\n",
       " 'importance_type',\n",
       " 'learning_rate',\n",
       " 'max_depth',\n",
       " 'min_child_samples',\n",
       " 'min_child_weight',\n",
       " 'min_split_gain',\n",
       " 'n_estimators',\n",
       " 'n_features_',\n",
       " 'n_features_in_',\n",
       " 'n_jobs',\n",
       " 'num_leaves',\n",
       " 'objective',\n",
       " 'objective_',\n",
       " 'predict',\n",
       " 'random_state',\n",
       " 'reg_alpha',\n",
       " 'reg_lambda',\n",
       " 'score',\n",
       " 'set_params',\n",
       " 'silent',\n",
       " 'subsample',\n",
       " 'subsample_for_bin',\n",
       " 'subsample_freq']"
      ]
     },
     "execution_count": 27,
     "metadata": {},
     "output_type": "execute_result"
    }
   ],
   "source": [
    "dir(lgb)"
   ]
  },
  {
   "cell_type": "code",
   "execution_count": 28,
   "id": "8ef1ab1d",
   "metadata": {},
   "outputs": [],
   "source": [
    "#aynı şeyleri yaptık ztn"
   ]
  },
  {
   "cell_type": "code",
   "execution_count": 29,
   "id": "44a117e0",
   "metadata": {},
   "outputs": [],
   "source": [
    "#bu son algoritmaların hepsi bi öncekinden daha hızlı ve dayanıklı gelişmiş parametreleri verileri olanlarda daha başarılı oluyolar eskilerine nazaran ve hepsi gbm türevi"
   ]
  },
  {
   "cell_type": "markdown",
   "id": "3a6f814a",
   "metadata": {},
   "source": [
    "# CatBoost"
   ]
  },
  {
   "cell_type": "code",
   "execution_count": 30,
   "id": "cda14000",
   "metadata": {},
   "outputs": [],
   "source": [
    "#kategorik değişkenlerde kullanılan gbm"
   ]
  },
  {
   "cell_type": "code",
   "execution_count": 31,
   "id": "c9baadb2",
   "metadata": {},
   "outputs": [
    {
     "name": "stdout",
     "output_type": "stream",
     "text": [
      "Collecting catboost\n",
      "  Downloading catboost-1.0.4-cp38-none-win_amd64.whl (73.5 MB)\n",
      "Requirement already satisfied: matplotlib in c:\\users\\kadosama\\anaconda3\\lib\\site-packages (from catboost) (3.3.4)\n",
      "Collecting plotly\n",
      "  Downloading plotly-5.5.0-py2.py3-none-any.whl (26.5 MB)\n",
      "Requirement already satisfied: six in c:\\users\\kadosama\\anaconda3\\lib\\site-packages (from catboost) (1.15.0)\n",
      "Requirement already satisfied: numpy>=1.16.0 in c:\\users\\kadosama\\anaconda3\\lib\\site-packages (from catboost) (1.20.1)\n",
      "Requirement already satisfied: pandas>=0.24.0 in c:\\users\\kadosama\\anaconda3\\lib\\site-packages (from catboost) (1.2.4)\n",
      "Requirement already satisfied: scipy in c:\\users\\kadosama\\anaconda3\\lib\\site-packages (from catboost) (1.6.2)\n",
      "Collecting graphviz\n",
      "  Downloading graphviz-0.19.1-py3-none-any.whl (46 kB)\n",
      "Requirement already satisfied: pytz>=2017.3 in c:\\users\\kadosama\\anaconda3\\lib\\site-packages (from pandas>=0.24.0->catboost) (2021.1)\n",
      "Requirement already satisfied: python-dateutil>=2.7.3 in c:\\users\\kadosama\\anaconda3\\lib\\site-packages (from pandas>=0.24.0->catboost) (2.8.1)\n",
      "Requirement already satisfied: kiwisolver>=1.0.1 in c:\\users\\kadosama\\anaconda3\\lib\\site-packages (from matplotlib->catboost) (1.3.1)\n",
      "Requirement already satisfied: pillow>=6.2.0 in c:\\users\\kadosama\\anaconda3\\lib\\site-packages (from matplotlib->catboost) (8.2.0)\n",
      "Requirement already satisfied: cycler>=0.10 in c:\\users\\kadosama\\anaconda3\\lib\\site-packages (from matplotlib->catboost) (0.10.0)\n",
      "Requirement already satisfied: pyparsing!=2.0.4,!=2.1.2,!=2.1.6,>=2.0.3 in c:\\users\\kadosama\\anaconda3\\lib\\site-packages (from matplotlib->catboost) (2.4.7)\n",
      "Collecting tenacity>=6.2.0\n",
      "  Downloading tenacity-8.0.1-py3-none-any.whl (24 kB)\n",
      "Installing collected packages: tenacity, plotly, graphviz, catboost\n",
      "Successfully installed catboost-1.0.4 graphviz-0.19.1 plotly-5.5.0 tenacity-8.0.1\n"
     ]
    }
   ],
   "source": [
    "!pip install catboost"
   ]
  },
  {
   "cell_type": "code",
   "execution_count": 32,
   "id": "48d14299",
   "metadata": {},
   "outputs": [],
   "source": [
    "from catboost import CatBoostRegressor"
   ]
  },
  {
   "cell_type": "markdown",
   "id": "2546a07c",
   "metadata": {},
   "source": [
    "## Model ve Tahmin "
   ]
  },
  {
   "cell_type": "code",
   "execution_count": 34,
   "id": "86c4c03d",
   "metadata": {},
   "outputs": [
    {
     "name": "stdout",
     "output_type": "stream",
     "text": [
      "Learning rate set to 0.031674\n",
      "0:\tlearn: 437.6430699\ttotal: 147ms\tremaining: 2m 26s\n",
      "1:\tlearn: 431.3923642\ttotal: 148ms\tremaining: 1m 13s\n",
      "2:\tlearn: 424.8820360\ttotal: 149ms\tremaining: 49.5s\n",
      "3:\tlearn: 418.2514904\ttotal: 150ms\tremaining: 37.3s\n",
      "4:\tlearn: 412.6394021\ttotal: 151ms\tremaining: 30s\n",
      "5:\tlearn: 406.6247020\ttotal: 152ms\tremaining: 25.1s\n",
      "6:\tlearn: 400.5321206\ttotal: 153ms\tremaining: 21.7s\n",
      "7:\tlearn: 394.6683437\ttotal: 154ms\tremaining: 19.1s\n",
      "8:\tlearn: 388.2496484\ttotal: 155ms\tremaining: 17s\n",
      "9:\tlearn: 382.9448842\ttotal: 156ms\tremaining: 15.4s\n",
      "10:\tlearn: 377.2600080\ttotal: 157ms\tremaining: 14.1s\n",
      "11:\tlearn: 372.4829606\ttotal: 158ms\tremaining: 13s\n",
      "12:\tlearn: 366.6823437\ttotal: 159ms\tremaining: 12s\n",
      "13:\tlearn: 362.6076230\ttotal: 160ms\tremaining: 11.3s\n",
      "14:\tlearn: 358.0107745\ttotal: 161ms\tremaining: 10.6s\n",
      "15:\tlearn: 353.2802665\ttotal: 162ms\tremaining: 9.96s\n",
      "16:\tlearn: 348.5646265\ttotal: 163ms\tremaining: 9.43s\n",
      "17:\tlearn: 343.6407912\ttotal: 164ms\tremaining: 8.95s\n",
      "18:\tlearn: 339.2363847\ttotal: 165ms\tremaining: 8.53s\n",
      "19:\tlearn: 334.3431252\ttotal: 167ms\tremaining: 8.16s\n",
      "20:\tlearn: 330.3247028\ttotal: 168ms\tremaining: 7.82s\n",
      "21:\tlearn: 326.6118334\ttotal: 169ms\tremaining: 7.51s\n",
      "22:\tlearn: 322.7759981\ttotal: 170ms\tremaining: 7.23s\n",
      "23:\tlearn: 318.9511822\ttotal: 171ms\tremaining: 6.97s\n",
      "24:\tlearn: 315.4216253\ttotal: 172ms\tremaining: 6.73s\n",
      "25:\tlearn: 311.3551377\ttotal: 174ms\tremaining: 6.51s\n",
      "26:\tlearn: 308.1492371\ttotal: 175ms\tremaining: 6.3s\n",
      "27:\tlearn: 304.7284729\ttotal: 176ms\tremaining: 6.1s\n",
      "28:\tlearn: 301.3893204\ttotal: 177ms\tremaining: 5.92s\n",
      "29:\tlearn: 298.2080758\ttotal: 178ms\tremaining: 5.75s\n",
      "30:\tlearn: 295.6878398\ttotal: 179ms\tremaining: 5.59s\n",
      "31:\tlearn: 292.3912243\ttotal: 180ms\tremaining: 5.44s\n",
      "32:\tlearn: 289.6345744\ttotal: 181ms\tremaining: 5.31s\n",
      "33:\tlearn: 287.2158711\ttotal: 183ms\tremaining: 5.18s\n",
      "34:\tlearn: 284.3879081\ttotal: 184ms\tremaining: 5.06s\n",
      "35:\tlearn: 281.7994818\ttotal: 185ms\tremaining: 4.95s\n",
      "36:\tlearn: 279.2028261\ttotal: 186ms\tremaining: 4.84s\n",
      "37:\tlearn: 276.5821160\ttotal: 187ms\tremaining: 4.74s\n",
      "38:\tlearn: 273.8890894\ttotal: 188ms\tremaining: 4.64s\n",
      "39:\tlearn: 271.1681677\ttotal: 189ms\tremaining: 4.54s\n",
      "40:\tlearn: 269.0159531\ttotal: 190ms\tremaining: 4.45s\n",
      "41:\tlearn: 266.3601804\ttotal: 191ms\tremaining: 4.37s\n",
      "42:\tlearn: 263.8608958\ttotal: 193ms\tremaining: 4.29s\n",
      "43:\tlearn: 261.1405566\ttotal: 194ms\tremaining: 4.22s\n",
      "44:\tlearn: 258.9314736\ttotal: 197ms\tremaining: 4.19s\n",
      "45:\tlearn: 256.3885577\ttotal: 198ms\tremaining: 4.12s\n",
      "46:\tlearn: 254.2857349\ttotal: 200ms\tremaining: 4.04s\n",
      "47:\tlearn: 252.2347121\ttotal: 201ms\tremaining: 3.98s\n",
      "48:\tlearn: 250.1779367\ttotal: 202ms\tremaining: 3.91s\n",
      "49:\tlearn: 248.2687430\ttotal: 203ms\tremaining: 3.86s\n",
      "50:\tlearn: 246.3685582\ttotal: 206ms\tremaining: 3.83s\n",
      "51:\tlearn: 244.8719988\ttotal: 207ms\tremaining: 3.77s\n",
      "52:\tlearn: 242.7348892\ttotal: 208ms\tremaining: 3.72s\n",
      "53:\tlearn: 241.1611112\ttotal: 209ms\tremaining: 3.67s\n",
      "54:\tlearn: 239.4819462\ttotal: 210ms\tremaining: 3.61s\n",
      "55:\tlearn: 237.3877895\ttotal: 211ms\tremaining: 3.56s\n",
      "56:\tlearn: 235.7619262\ttotal: 212ms\tremaining: 3.51s\n",
      "57:\tlearn: 233.9604804\ttotal: 213ms\tremaining: 3.46s\n",
      "58:\tlearn: 232.4948011\ttotal: 214ms\tremaining: 3.41s\n",
      "59:\tlearn: 230.6283304\ttotal: 215ms\tremaining: 3.37s\n",
      "60:\tlearn: 228.9920307\ttotal: 216ms\tremaining: 3.32s\n",
      "61:\tlearn: 227.5197637\ttotal: 217ms\tremaining: 3.28s\n",
      "62:\tlearn: 226.0561213\ttotal: 218ms\tremaining: 3.24s\n",
      "63:\tlearn: 224.3484762\ttotal: 219ms\tremaining: 3.21s\n",
      "64:\tlearn: 223.0652023\ttotal: 220ms\tremaining: 3.17s\n",
      "65:\tlearn: 221.6608069\ttotal: 221ms\tremaining: 3.13s\n",
      "66:\tlearn: 220.2445284\ttotal: 222ms\tremaining: 3.09s\n",
      "67:\tlearn: 219.0044262\ttotal: 223ms\tremaining: 3.06s\n",
      "68:\tlearn: 217.4624313\ttotal: 224ms\tremaining: 3.02s\n",
      "69:\tlearn: 216.0502248\ttotal: 225ms\tremaining: 2.99s\n",
      "70:\tlearn: 214.5361705\ttotal: 226ms\tremaining: 2.95s\n",
      "71:\tlearn: 213.1812509\ttotal: 227ms\tremaining: 2.92s\n",
      "72:\tlearn: 211.7399390\ttotal: 228ms\tremaining: 2.89s\n",
      "73:\tlearn: 210.5557639\ttotal: 229ms\tremaining: 2.86s\n",
      "74:\tlearn: 209.4242283\ttotal: 229ms\tremaining: 2.83s\n",
      "75:\tlearn: 208.4366109\ttotal: 230ms\tremaining: 2.8s\n",
      "76:\tlearn: 207.4514860\ttotal: 231ms\tremaining: 2.77s\n",
      "77:\tlearn: 206.1912213\ttotal: 232ms\tremaining: 2.75s\n",
      "78:\tlearn: 205.2585316\ttotal: 233ms\tremaining: 2.72s\n",
      "79:\tlearn: 203.8747879\ttotal: 234ms\tremaining: 2.69s\n",
      "80:\tlearn: 202.5993031\ttotal: 235ms\tremaining: 2.67s\n",
      "81:\tlearn: 201.4719061\ttotal: 236ms\tremaining: 2.64s\n",
      "82:\tlearn: 200.2871874\ttotal: 237ms\tremaining: 2.62s\n",
      "83:\tlearn: 199.1074683\ttotal: 238ms\tremaining: 2.59s\n",
      "84:\tlearn: 197.8511342\ttotal: 239ms\tremaining: 2.57s\n",
      "85:\tlearn: 196.8788042\ttotal: 240ms\tremaining: 2.55s\n",
      "86:\tlearn: 195.9815130\ttotal: 241ms\tremaining: 2.52s\n",
      "87:\tlearn: 195.0807956\ttotal: 241ms\tremaining: 2.5s\n",
      "88:\tlearn: 193.9775466\ttotal: 242ms\tremaining: 2.48s\n",
      "89:\tlearn: 192.8810426\ttotal: 243ms\tremaining: 2.46s\n",
      "90:\tlearn: 192.5363626\ttotal: 244ms\tremaining: 2.44s\n",
      "91:\tlearn: 191.3259849\ttotal: 245ms\tremaining: 2.42s\n",
      "92:\tlearn: 190.3650025\ttotal: 247ms\tremaining: 2.41s\n",
      "93:\tlearn: 189.3255643\ttotal: 248ms\tremaining: 2.39s\n",
      "94:\tlearn: 188.2433480\ttotal: 249ms\tremaining: 2.37s\n",
      "95:\tlearn: 187.2786096\ttotal: 250ms\tremaining: 2.35s\n",
      "96:\tlearn: 186.1284681\ttotal: 251ms\tremaining: 2.34s\n",
      "97:\tlearn: 185.0190872\ttotal: 252ms\tremaining: 2.32s\n",
      "98:\tlearn: 184.2888024\ttotal: 253ms\tremaining: 2.3s\n",
      "99:\tlearn: 183.3111217\ttotal: 254ms\tremaining: 2.29s\n",
      "100:\tlearn: 182.2519940\ttotal: 255ms\tremaining: 2.27s\n",
      "101:\tlearn: 181.0186200\ttotal: 256ms\tremaining: 2.25s\n",
      "102:\tlearn: 179.9672344\ttotal: 258ms\tremaining: 2.24s\n",
      "103:\tlearn: 178.9776753\ttotal: 258ms\tremaining: 2.23s\n",
      "104:\tlearn: 178.2445101\ttotal: 259ms\tremaining: 2.21s\n",
      "105:\tlearn: 177.4055906\ttotal: 260ms\tremaining: 2.2s\n",
      "106:\tlearn: 176.2405445\ttotal: 261ms\tremaining: 2.18s\n",
      "107:\tlearn: 175.1813091\ttotal: 262ms\tremaining: 2.17s\n",
      "108:\tlearn: 174.5537682\ttotal: 263ms\tremaining: 2.15s\n",
      "109:\tlearn: 173.8231890\ttotal: 264ms\tremaining: 2.14s\n",
      "110:\tlearn: 172.9324461\ttotal: 265ms\tremaining: 2.12s\n",
      "111:\tlearn: 172.0019421\ttotal: 266ms\tremaining: 2.11s\n",
      "112:\tlearn: 171.2945678\ttotal: 267ms\tremaining: 2.1s\n",
      "113:\tlearn: 170.4815313\ttotal: 268ms\tremaining: 2.08s\n",
      "114:\tlearn: 169.9491294\ttotal: 269ms\tremaining: 2.07s\n",
      "115:\tlearn: 169.2483859\ttotal: 270ms\tremaining: 2.06s\n",
      "116:\tlearn: 168.7342383\ttotal: 271ms\tremaining: 2.04s\n",
      "117:\tlearn: 168.1837140\ttotal: 272ms\tremaining: 2.03s\n",
      "118:\tlearn: 167.1222358\ttotal: 273ms\tremaining: 2.02s\n",
      "119:\tlearn: 166.3472734\ttotal: 274ms\tremaining: 2.01s\n",
      "120:\tlearn: 165.5330342\ttotal: 275ms\tremaining: 2s\n",
      "121:\tlearn: 164.8476246\ttotal: 275ms\tremaining: 1.98s\n",
      "122:\tlearn: 164.2399797\ttotal: 276ms\tremaining: 1.97s\n",
      "123:\tlearn: 164.0121571\ttotal: 277ms\tremaining: 1.96s\n",
      "124:\tlearn: 162.9794212\ttotal: 278ms\tremaining: 1.95s\n",
      "125:\tlearn: 162.2095741\ttotal: 279ms\tremaining: 1.94s\n",
      "126:\tlearn: 161.1695920\ttotal: 280ms\tremaining: 1.92s\n",
      "127:\tlearn: 160.3516612\ttotal: 281ms\tremaining: 1.91s\n",
      "128:\tlearn: 159.1596356\ttotal: 282ms\tremaining: 1.9s\n",
      "129:\tlearn: 158.5354394\ttotal: 283ms\tremaining: 1.89s\n",
      "130:\tlearn: 157.5922383\ttotal: 283ms\tremaining: 1.88s\n",
      "131:\tlearn: 156.9689796\ttotal: 284ms\tremaining: 1.87s\n",
      "132:\tlearn: 156.4170623\ttotal: 285ms\tremaining: 1.86s\n",
      "133:\tlearn: 156.1222595\ttotal: 286ms\tremaining: 1.85s\n",
      "134:\tlearn: 155.5996569\ttotal: 287ms\tremaining: 1.84s\n",
      "135:\tlearn: 154.8990155\ttotal: 288ms\tremaining: 1.83s\n",
      "136:\tlearn: 154.3704896\ttotal: 289ms\tremaining: 1.82s\n",
      "137:\tlearn: 153.8560012\ttotal: 290ms\tremaining: 1.81s\n",
      "138:\tlearn: 153.2399938\ttotal: 291ms\tremaining: 1.8s\n",
      "139:\tlearn: 152.2142414\ttotal: 291ms\tremaining: 1.79s\n",
      "140:\tlearn: 151.5976950\ttotal: 292ms\tremaining: 1.78s\n",
      "141:\tlearn: 151.4426506\ttotal: 293ms\tremaining: 1.77s\n",
      "142:\tlearn: 150.8467135\ttotal: 294ms\tremaining: 1.76s\n",
      "143:\tlearn: 150.0175883\ttotal: 295ms\tremaining: 1.75s\n",
      "144:\tlearn: 149.6327647\ttotal: 296ms\tremaining: 1.74s\n",
      "145:\tlearn: 148.9265718\ttotal: 297ms\tremaining: 1.74s\n",
      "146:\tlearn: 148.4460764\ttotal: 298ms\tremaining: 1.73s\n",
      "147:\tlearn: 147.8108318\ttotal: 299ms\tremaining: 1.72s\n",
      "148:\tlearn: 147.2766525\ttotal: 299ms\tremaining: 1.71s\n",
      "149:\tlearn: 146.8537279\ttotal: 300ms\tremaining: 1.7s\n",
      "150:\tlearn: 146.0227438\ttotal: 301ms\tremaining: 1.69s\n",
      "151:\tlearn: 145.5603059\ttotal: 302ms\tremaining: 1.69s\n",
      "152:\tlearn: 145.0318400\ttotal: 303ms\tremaining: 1.68s\n",
      "153:\tlearn: 144.6082188\ttotal: 304ms\tremaining: 1.67s\n",
      "154:\tlearn: 144.2070501\ttotal: 305ms\tremaining: 1.66s\n",
      "155:\tlearn: 143.8060676\ttotal: 306ms\tremaining: 1.66s\n",
      "156:\tlearn: 143.3819707\ttotal: 307ms\tremaining: 1.65s\n",
      "157:\tlearn: 143.0764402\ttotal: 308ms\tremaining: 1.64s\n",
      "158:\tlearn: 142.4609449\ttotal: 309ms\tremaining: 1.64s\n",
      "159:\tlearn: 142.3321970\ttotal: 310ms\tremaining: 1.63s\n",
      "160:\tlearn: 141.9044208\ttotal: 311ms\tremaining: 1.62s\n",
      "161:\tlearn: 141.4544471\ttotal: 312ms\tremaining: 1.61s\n",
      "162:\tlearn: 140.9391569\ttotal: 313ms\tremaining: 1.61s\n",
      "163:\tlearn: 140.3413557\ttotal: 314ms\tremaining: 1.6s\n",
      "164:\tlearn: 139.7992277\ttotal: 316ms\tremaining: 1.6s\n",
      "165:\tlearn: 139.3139418\ttotal: 317ms\tremaining: 1.59s\n",
      "166:\tlearn: 139.1617594\ttotal: 318ms\tremaining: 1.58s\n",
      "167:\tlearn: 138.8837397\ttotal: 319ms\tremaining: 1.58s\n",
      "168:\tlearn: 138.6951410\ttotal: 320ms\tremaining: 1.57s\n",
      "169:\tlearn: 138.0167618\ttotal: 321ms\tremaining: 1.56s\n",
      "170:\tlearn: 137.7020324\ttotal: 322ms\tremaining: 1.56s\n",
      "171:\tlearn: 137.1976478\ttotal: 323ms\tremaining: 1.55s\n",
      "172:\tlearn: 136.6670434\ttotal: 324ms\tremaining: 1.55s\n",
      "173:\tlearn: 136.4670074\ttotal: 325ms\tremaining: 1.54s\n",
      "174:\tlearn: 136.0663779\ttotal: 326ms\tremaining: 1.53s\n",
      "175:\tlearn: 135.9542221\ttotal: 326ms\tremaining: 1.53s\n",
      "176:\tlearn: 135.6178437\ttotal: 327ms\tremaining: 1.52s\n",
      "177:\tlearn: 134.6062854\ttotal: 328ms\tremaining: 1.52s\n",
      "178:\tlearn: 134.5063344\ttotal: 329ms\tremaining: 1.51s\n",
      "179:\tlearn: 133.9371247\ttotal: 330ms\tremaining: 1.5s\n",
      "180:\tlearn: 133.8431589\ttotal: 330ms\tremaining: 1.49s\n",
      "181:\tlearn: 133.4293648\ttotal: 331ms\tremaining: 1.49s\n",
      "182:\tlearn: 133.2065999\ttotal: 332ms\tremaining: 1.48s\n",
      "183:\tlearn: 132.9235113\ttotal: 333ms\tremaining: 1.48s\n",
      "184:\tlearn: 132.6695944\ttotal: 334ms\tremaining: 1.47s\n",
      "185:\tlearn: 132.3135234\ttotal: 335ms\tremaining: 1.47s\n",
      "186:\tlearn: 132.2233433\ttotal: 336ms\tremaining: 1.46s\n",
      "187:\tlearn: 132.0628764\ttotal: 337ms\tremaining: 1.45s\n",
      "188:\tlearn: 131.8624217\ttotal: 338ms\tremaining: 1.45s\n",
      "189:\tlearn: 131.3846390\ttotal: 339ms\tremaining: 1.44s\n",
      "190:\tlearn: 131.0638781\ttotal: 340ms\tremaining: 1.44s\n",
      "191:\tlearn: 130.4721276\ttotal: 341ms\tremaining: 1.43s\n",
      "192:\tlearn: 129.9910319\ttotal: 342ms\tremaining: 1.43s\n",
      "193:\tlearn: 129.7074214\ttotal: 343ms\tremaining: 1.42s\n",
      "194:\tlearn: 129.0491404\ttotal: 344ms\tremaining: 1.42s\n",
      "195:\tlearn: 128.6928621\ttotal: 345ms\tremaining: 1.41s\n",
      "196:\tlearn: 128.5117514\ttotal: 346ms\tremaining: 1.41s\n",
      "197:\tlearn: 128.4035709\ttotal: 347ms\tremaining: 1.41s\n",
      "198:\tlearn: 127.9924182\ttotal: 348ms\tremaining: 1.4s\n",
      "199:\tlearn: 127.7690317\ttotal: 349ms\tremaining: 1.4s\n",
      "200:\tlearn: 127.6252249\ttotal: 350ms\tremaining: 1.39s\n"
     ]
    },
    {
     "name": "stdout",
     "output_type": "stream",
     "text": [
      "201:\tlearn: 127.4951417\ttotal: 352ms\tremaining: 1.39s\n",
      "202:\tlearn: 127.0315349\ttotal: 353ms\tremaining: 1.39s\n",
      "203:\tlearn: 126.7791475\ttotal: 355ms\tremaining: 1.38s\n",
      "204:\tlearn: 126.4903107\ttotal: 357ms\tremaining: 1.38s\n",
      "205:\tlearn: 126.0664803\ttotal: 358ms\tremaining: 1.38s\n",
      "206:\tlearn: 125.3934071\ttotal: 359ms\tremaining: 1.38s\n",
      "207:\tlearn: 125.0899622\ttotal: 361ms\tremaining: 1.37s\n",
      "208:\tlearn: 124.7757310\ttotal: 362ms\tremaining: 1.37s\n",
      "209:\tlearn: 124.5475960\ttotal: 364ms\tremaining: 1.37s\n",
      "210:\tlearn: 124.1962887\ttotal: 365ms\tremaining: 1.37s\n",
      "211:\tlearn: 123.9686937\ttotal: 367ms\tremaining: 1.36s\n",
      "212:\tlearn: 123.0280048\ttotal: 369ms\tremaining: 1.36s\n",
      "213:\tlearn: 122.5447141\ttotal: 370ms\tremaining: 1.36s\n",
      "214:\tlearn: 122.1785305\ttotal: 372ms\tremaining: 1.36s\n",
      "215:\tlearn: 121.4403560\ttotal: 374ms\tremaining: 1.35s\n",
      "216:\tlearn: 120.8269584\ttotal: 375ms\tremaining: 1.35s\n",
      "217:\tlearn: 120.2399329\ttotal: 376ms\tremaining: 1.35s\n",
      "218:\tlearn: 119.4852557\ttotal: 378ms\tremaining: 1.35s\n",
      "219:\tlearn: 119.2094151\ttotal: 380ms\tremaining: 1.35s\n",
      "220:\tlearn: 119.0417229\ttotal: 384ms\tremaining: 1.35s\n",
      "221:\tlearn: 118.9557915\ttotal: 387ms\tremaining: 1.35s\n",
      "222:\tlearn: 118.3082421\ttotal: 388ms\tremaining: 1.35s\n",
      "223:\tlearn: 117.7364211\ttotal: 390ms\tremaining: 1.35s\n",
      "224:\tlearn: 117.6324235\ttotal: 391ms\tremaining: 1.35s\n",
      "225:\tlearn: 117.2879743\ttotal: 392ms\tremaining: 1.34s\n",
      "226:\tlearn: 117.0422612\ttotal: 394ms\tremaining: 1.34s\n",
      "227:\tlearn: 116.8001379\ttotal: 395ms\tremaining: 1.34s\n",
      "228:\tlearn: 116.4854978\ttotal: 396ms\tremaining: 1.33s\n",
      "229:\tlearn: 115.7559740\ttotal: 398ms\tremaining: 1.33s\n",
      "230:\tlearn: 115.1896271\ttotal: 399ms\tremaining: 1.33s\n",
      "231:\tlearn: 114.9666291\ttotal: 400ms\tremaining: 1.32s\n",
      "232:\tlearn: 114.1239318\ttotal: 402ms\tremaining: 1.32s\n",
      "233:\tlearn: 113.9964466\ttotal: 404ms\tremaining: 1.32s\n",
      "234:\tlearn: 113.8912592\ttotal: 405ms\tremaining: 1.32s\n",
      "235:\tlearn: 113.4606970\ttotal: 407ms\tremaining: 1.32s\n",
      "236:\tlearn: 113.0958922\ttotal: 411ms\tremaining: 1.32s\n",
      "237:\tlearn: 113.0091361\ttotal: 412ms\tremaining: 1.32s\n",
      "238:\tlearn: 112.7657197\ttotal: 413ms\tremaining: 1.31s\n",
      "239:\tlearn: 112.2315070\ttotal: 417ms\tremaining: 1.32s\n",
      "240:\tlearn: 111.9507125\ttotal: 418ms\tremaining: 1.32s\n",
      "241:\tlearn: 111.7384492\ttotal: 420ms\tremaining: 1.31s\n",
      "242:\tlearn: 111.0693763\ttotal: 421ms\tremaining: 1.31s\n",
      "243:\tlearn: 110.3499926\ttotal: 423ms\tremaining: 1.31s\n",
      "244:\tlearn: 110.2316231\ttotal: 425ms\tremaining: 1.31s\n",
      "245:\tlearn: 109.6985998\ttotal: 426ms\tremaining: 1.31s\n",
      "246:\tlearn: 109.4279824\ttotal: 428ms\tremaining: 1.3s\n",
      "247:\tlearn: 109.1466762\ttotal: 430ms\tremaining: 1.3s\n",
      "248:\tlearn: 108.9628542\ttotal: 431ms\tremaining: 1.3s\n",
      "249:\tlearn: 108.7268676\ttotal: 433ms\tremaining: 1.3s\n",
      "250:\tlearn: 108.0921190\ttotal: 434ms\tremaining: 1.29s\n",
      "251:\tlearn: 107.6167844\ttotal: 436ms\tremaining: 1.29s\n",
      "252:\tlearn: 106.9716563\ttotal: 437ms\tremaining: 1.29s\n",
      "253:\tlearn: 106.4272485\ttotal: 438ms\tremaining: 1.29s\n",
      "254:\tlearn: 106.2032614\ttotal: 440ms\tremaining: 1.28s\n",
      "255:\tlearn: 105.5756794\ttotal: 441ms\tremaining: 1.28s\n",
      "256:\tlearn: 105.4918649\ttotal: 443ms\tremaining: 1.28s\n",
      "257:\tlearn: 105.2466976\ttotal: 444ms\tremaining: 1.28s\n",
      "258:\tlearn: 105.0461428\ttotal: 446ms\tremaining: 1.27s\n",
      "259:\tlearn: 104.5887628\ttotal: 447ms\tremaining: 1.27s\n",
      "260:\tlearn: 104.1305873\ttotal: 449ms\tremaining: 1.27s\n",
      "261:\tlearn: 103.5527158\ttotal: 450ms\tremaining: 1.27s\n",
      "262:\tlearn: 103.0334823\ttotal: 452ms\tremaining: 1.27s\n",
      "263:\tlearn: 102.6732388\ttotal: 454ms\tremaining: 1.26s\n",
      "264:\tlearn: 102.4678728\ttotal: 455ms\tremaining: 1.26s\n",
      "265:\tlearn: 101.9608852\ttotal: 457ms\tremaining: 1.26s\n",
      "266:\tlearn: 101.4449668\ttotal: 458ms\tremaining: 1.26s\n",
      "267:\tlearn: 100.9647899\ttotal: 460ms\tremaining: 1.26s\n",
      "268:\tlearn: 100.4376357\ttotal: 461ms\tremaining: 1.25s\n",
      "269:\tlearn: 100.1038322\ttotal: 462ms\tremaining: 1.25s\n",
      "270:\tlearn: 99.8991183\ttotal: 464ms\tremaining: 1.25s\n",
      "271:\tlearn: 99.4016031\ttotal: 465ms\tremaining: 1.24s\n",
      "272:\tlearn: 98.9231252\ttotal: 466ms\tremaining: 1.24s\n",
      "273:\tlearn: 98.5734863\ttotal: 467ms\tremaining: 1.24s\n",
      "274:\tlearn: 98.3333355\ttotal: 469ms\tremaining: 1.24s\n",
      "275:\tlearn: 97.9164082\ttotal: 470ms\tremaining: 1.23s\n",
      "276:\tlearn: 97.3911203\ttotal: 471ms\tremaining: 1.23s\n",
      "277:\tlearn: 96.9317789\ttotal: 473ms\tremaining: 1.23s\n",
      "278:\tlearn: 96.6243997\ttotal: 474ms\tremaining: 1.23s\n",
      "279:\tlearn: 96.3288821\ttotal: 476ms\tremaining: 1.22s\n",
      "280:\tlearn: 95.8579534\ttotal: 477ms\tremaining: 1.22s\n",
      "281:\tlearn: 95.4136026\ttotal: 479ms\tremaining: 1.22s\n",
      "282:\tlearn: 95.3442077\ttotal: 480ms\tremaining: 1.22s\n",
      "283:\tlearn: 95.1166584\ttotal: 481ms\tremaining: 1.21s\n",
      "284:\tlearn: 94.8017360\ttotal: 483ms\tremaining: 1.21s\n",
      "285:\tlearn: 94.5863908\ttotal: 484ms\tremaining: 1.21s\n",
      "286:\tlearn: 94.4111694\ttotal: 485ms\tremaining: 1.21s\n",
      "287:\tlearn: 94.2678024\ttotal: 487ms\tremaining: 1.2s\n",
      "288:\tlearn: 93.7753419\ttotal: 488ms\tremaining: 1.2s\n",
      "289:\tlearn: 93.3772710\ttotal: 490ms\tremaining: 1.2s\n",
      "290:\tlearn: 92.8750904\ttotal: 491ms\tremaining: 1.2s\n",
      "291:\tlearn: 92.6654794\ttotal: 492ms\tremaining: 1.19s\n",
      "292:\tlearn: 92.2659876\ttotal: 493ms\tremaining: 1.19s\n",
      "293:\tlearn: 92.0282495\ttotal: 494ms\tremaining: 1.19s\n",
      "294:\tlearn: 91.8288855\ttotal: 495ms\tremaining: 1.18s\n",
      "295:\tlearn: 91.6752612\ttotal: 496ms\tremaining: 1.18s\n",
      "296:\tlearn: 91.2561883\ttotal: 497ms\tremaining: 1.18s\n",
      "297:\tlearn: 91.0227123\ttotal: 498ms\tremaining: 1.17s\n",
      "298:\tlearn: 90.8392142\ttotal: 499ms\tremaining: 1.17s\n",
      "299:\tlearn: 90.6853014\ttotal: 501ms\tremaining: 1.17s\n",
      "300:\tlearn: 90.5986761\ttotal: 502ms\tremaining: 1.17s\n",
      "301:\tlearn: 90.2180036\ttotal: 503ms\tremaining: 1.16s\n",
      "302:\tlearn: 89.8313622\ttotal: 504ms\tremaining: 1.16s\n",
      "303:\tlearn: 89.6872837\ttotal: 505ms\tremaining: 1.16s\n",
      "304:\tlearn: 89.3853276\ttotal: 506ms\tremaining: 1.15s\n",
      "305:\tlearn: 88.9459206\ttotal: 507ms\tremaining: 1.15s\n",
      "306:\tlearn: 88.7258770\ttotal: 508ms\tremaining: 1.15s\n",
      "307:\tlearn: 88.5374358\ttotal: 509ms\tremaining: 1.14s\n",
      "308:\tlearn: 88.0624447\ttotal: 510ms\tremaining: 1.14s\n",
      "309:\tlearn: 87.7942692\ttotal: 511ms\tremaining: 1.14s\n",
      "310:\tlearn: 87.6354184\ttotal: 512ms\tremaining: 1.14s\n",
      "311:\tlearn: 87.4879486\ttotal: 513ms\tremaining: 1.13s\n",
      "312:\tlearn: 87.0294739\ttotal: 515ms\tremaining: 1.13s\n",
      "313:\tlearn: 86.6746221\ttotal: 516ms\tremaining: 1.13s\n",
      "314:\tlearn: 86.2792146\ttotal: 518ms\tremaining: 1.13s\n",
      "315:\tlearn: 86.2127070\ttotal: 519ms\tremaining: 1.12s\n",
      "316:\tlearn: 86.1507368\ttotal: 520ms\tremaining: 1.12s\n",
      "317:\tlearn: 85.7089141\ttotal: 521ms\tremaining: 1.12s\n",
      "318:\tlearn: 85.6035137\ttotal: 522ms\tremaining: 1.11s\n",
      "319:\tlearn: 85.3587988\ttotal: 523ms\tremaining: 1.11s\n",
      "320:\tlearn: 84.9660906\ttotal: 524ms\tremaining: 1.11s\n",
      "321:\tlearn: 84.5474713\ttotal: 525ms\tremaining: 1.11s\n",
      "322:\tlearn: 84.1996852\ttotal: 526ms\tremaining: 1.1s\n",
      "323:\tlearn: 84.0654282\ttotal: 527ms\tremaining: 1.1s\n",
      "324:\tlearn: 83.7937327\ttotal: 528ms\tremaining: 1.1s\n",
      "325:\tlearn: 83.5064288\ttotal: 529ms\tremaining: 1.09s\n",
      "326:\tlearn: 83.3997655\ttotal: 531ms\tremaining: 1.09s\n",
      "327:\tlearn: 83.2958622\ttotal: 532ms\tremaining: 1.09s\n",
      "328:\tlearn: 82.9877578\ttotal: 533ms\tremaining: 1.09s\n",
      "329:\tlearn: 82.6286638\ttotal: 535ms\tremaining: 1.08s\n",
      "330:\tlearn: 82.2827132\ttotal: 536ms\tremaining: 1.08s\n",
      "331:\tlearn: 82.0895251\ttotal: 537ms\tremaining: 1.08s\n",
      "332:\tlearn: 82.0130649\ttotal: 538ms\tremaining: 1.08s\n",
      "333:\tlearn: 81.6771734\ttotal: 539ms\tremaining: 1.07s\n",
      "334:\tlearn: 81.3519124\ttotal: 540ms\tremaining: 1.07s\n",
      "335:\tlearn: 81.0170326\ttotal: 542ms\tremaining: 1.07s\n",
      "336:\tlearn: 80.6917886\ttotal: 543ms\tremaining: 1.07s\n",
      "337:\tlearn: 80.3455177\ttotal: 544ms\tremaining: 1.06s\n",
      "338:\tlearn: 80.0260727\ttotal: 546ms\tremaining: 1.06s\n",
      "339:\tlearn: 79.9154748\ttotal: 548ms\tremaining: 1.06s\n",
      "340:\tlearn: 79.7813079\ttotal: 549ms\tremaining: 1.06s\n",
      "341:\tlearn: 79.3513293\ttotal: 550ms\tremaining: 1.06s\n",
      "342:\tlearn: 78.8666019\ttotal: 552ms\tremaining: 1.06s\n",
      "343:\tlearn: 78.7959013\ttotal: 553ms\tremaining: 1.05s\n",
      "344:\tlearn: 78.7081334\ttotal: 555ms\tremaining: 1.05s\n",
      "345:\tlearn: 78.3354931\ttotal: 556ms\tremaining: 1.05s\n",
      "346:\tlearn: 77.9475067\ttotal: 557ms\tremaining: 1.05s\n",
      "347:\tlearn: 77.8910420\ttotal: 558ms\tremaining: 1.04s\n",
      "348:\tlearn: 77.5461672\ttotal: 560ms\tremaining: 1.04s\n",
      "349:\tlearn: 77.3717101\ttotal: 561ms\tremaining: 1.04s\n",
      "350:\tlearn: 77.0729657\ttotal: 562ms\tremaining: 1.04s\n",
      "351:\tlearn: 76.7699287\ttotal: 563ms\tremaining: 1.04s\n",
      "352:\tlearn: 76.6029759\ttotal: 564ms\tremaining: 1.03s\n",
      "353:\tlearn: 76.1642615\ttotal: 566ms\tremaining: 1.03s\n",
      "354:\tlearn: 76.1202523\ttotal: 567ms\tremaining: 1.03s\n",
      "355:\tlearn: 75.9487132\ttotal: 568ms\tremaining: 1.03s\n",
      "356:\tlearn: 75.6748479\ttotal: 569ms\tremaining: 1.02s\n",
      "357:\tlearn: 75.4290864\ttotal: 570ms\tremaining: 1.02s\n",
      "358:\tlearn: 75.0463849\ttotal: 571ms\tremaining: 1.02s\n",
      "359:\tlearn: 74.9902381\ttotal: 572ms\tremaining: 1.02s\n",
      "360:\tlearn: 74.5243875\ttotal: 574ms\tremaining: 1.01s\n",
      "361:\tlearn: 74.1913065\ttotal: 575ms\tremaining: 1.01s\n",
      "362:\tlearn: 73.8413359\ttotal: 576ms\tremaining: 1.01s\n",
      "363:\tlearn: 73.7602119\ttotal: 577ms\tremaining: 1.01s\n",
      "364:\tlearn: 73.3278135\ttotal: 578ms\tremaining: 1s\n",
      "365:\tlearn: 72.9524336\ttotal: 579ms\tremaining: 1s\n",
      "366:\tlearn: 72.6791856\ttotal: 580ms\tremaining: 1s\n",
      "367:\tlearn: 72.4333577\ttotal: 581ms\tremaining: 998ms\n",
      "368:\tlearn: 72.1672937\ttotal: 582ms\tremaining: 995ms\n",
      "369:\tlearn: 71.9070276\ttotal: 583ms\tremaining: 993ms\n",
      "370:\tlearn: 71.5496196\ttotal: 585ms\tremaining: 991ms\n",
      "371:\tlearn: 71.3161902\ttotal: 586ms\tremaining: 989ms\n",
      "372:\tlearn: 71.1259191\ttotal: 587ms\tremaining: 986ms\n",
      "373:\tlearn: 70.9889962\ttotal: 588ms\tremaining: 983ms\n",
      "374:\tlearn: 70.7417966\ttotal: 589ms\tremaining: 981ms\n",
      "375:\tlearn: 70.4931174\ttotal: 590ms\tremaining: 978ms\n",
      "376:\tlearn: 70.3300576\ttotal: 591ms\tremaining: 976ms\n",
      "377:\tlearn: 69.9233248\ttotal: 592ms\tremaining: 973ms\n",
      "378:\tlearn: 69.6261005\ttotal: 593ms\tremaining: 971ms\n",
      "379:\tlearn: 69.3989708\ttotal: 594ms\tremaining: 969ms\n",
      "380:\tlearn: 69.0085387\ttotal: 595ms\tremaining: 966ms\n",
      "381:\tlearn: 68.7604153\ttotal: 596ms\tremaining: 964ms\n",
      "382:\tlearn: 68.4602767\ttotal: 597ms\tremaining: 962ms\n",
      "383:\tlearn: 68.1005452\ttotal: 598ms\tremaining: 959ms\n",
      "384:\tlearn: 68.0540467\ttotal: 599ms\tremaining: 957ms\n",
      "385:\tlearn: 67.8972753\ttotal: 600ms\tremaining: 954ms\n",
      "386:\tlearn: 67.5389629\ttotal: 601ms\tremaining: 952ms\n",
      "387:\tlearn: 67.2390178\ttotal: 602ms\tremaining: 950ms\n",
      "388:\tlearn: 67.0279888\ttotal: 604ms\tremaining: 948ms\n",
      "389:\tlearn: 66.8375919\ttotal: 605ms\tremaining: 946ms\n",
      "390:\tlearn: 66.4118315\ttotal: 606ms\tremaining: 943ms\n",
      "391:\tlearn: 66.3642690\ttotal: 607ms\tremaining: 941ms\n",
      "392:\tlearn: 66.1673138\ttotal: 607ms\tremaining: 938ms\n",
      "393:\tlearn: 66.0177482\ttotal: 608ms\tremaining: 936ms\n",
      "394:\tlearn: 65.8018038\ttotal: 609ms\tremaining: 933ms\n",
      "395:\tlearn: 65.6886505\ttotal: 610ms\tremaining: 931ms\n",
      "396:\tlearn: 65.6120185\ttotal: 611ms\tremaining: 929ms\n",
      "397:\tlearn: 65.5746662\ttotal: 612ms\tremaining: 926ms\n",
      "398:\tlearn: 65.2974851\ttotal: 613ms\tremaining: 924ms\n",
      "399:\tlearn: 65.2464764\ttotal: 614ms\tremaining: 921ms\n",
      "400:\tlearn: 65.1241314\ttotal: 615ms\tremaining: 919ms\n",
      "401:\tlearn: 65.0515740\ttotal: 616ms\tremaining: 916ms\n",
      "402:\tlearn: 64.8089636\ttotal: 617ms\tremaining: 914ms\n",
      "403:\tlearn: 64.5992230\ttotal: 618ms\tremaining: 911ms\n",
      "404:\tlearn: 64.2907010\ttotal: 618ms\tremaining: 909ms\n",
      "405:\tlearn: 64.1568642\ttotal: 619ms\tremaining: 906ms\n",
      "406:\tlearn: 63.8279106\ttotal: 620ms\tremaining: 904ms\n",
      "407:\tlearn: 63.5558565\ttotal: 621ms\tremaining: 901ms\n",
      "408:\tlearn: 63.3865445\ttotal: 622ms\tremaining: 899ms\n",
      "409:\tlearn: 63.2752408\ttotal: 623ms\tremaining: 896ms\n",
      "410:\tlearn: 63.1070190\ttotal: 624ms\tremaining: 894ms\n",
      "411:\tlearn: 62.7868376\ttotal: 625ms\tremaining: 892ms\n",
      "412:\tlearn: 62.5345803\ttotal: 626ms\tremaining: 889ms\n",
      "413:\tlearn: 62.2729058\ttotal: 626ms\tremaining: 887ms\n",
      "414:\tlearn: 61.9850985\ttotal: 627ms\tremaining: 884ms\n",
      "415:\tlearn: 61.7784164\ttotal: 628ms\tremaining: 882ms\n",
      "416:\tlearn: 61.7431976\ttotal: 629ms\tremaining: 880ms\n",
      "417:\tlearn: 61.4309964\ttotal: 630ms\tremaining: 877ms\n",
      "418:\tlearn: 61.3513660\ttotal: 631ms\tremaining: 875ms\n",
      "419:\tlearn: 61.1253739\ttotal: 632ms\tremaining: 873ms\n",
      "420:\tlearn: 61.0742571\ttotal: 633ms\tremaining: 870ms\n",
      "421:\tlearn: 61.0390980\ttotal: 634ms\tremaining: 868ms\n",
      "422:\tlearn: 61.0095757\ttotal: 634ms\tremaining: 865ms\n",
      "423:\tlearn: 60.6843255\ttotal: 635ms\tremaining: 863ms\n",
      "424:\tlearn: 60.4045551\ttotal: 636ms\tremaining: 861ms\n",
      "425:\tlearn: 60.3649587\ttotal: 637ms\tremaining: 858ms\n",
      "426:\tlearn: 60.3315828\ttotal: 638ms\tremaining: 856ms\n",
      "427:\tlearn: 60.1047027\ttotal: 639ms\tremaining: 854ms\n",
      "428:\tlearn: 59.9170736\ttotal: 640ms\tremaining: 852ms\n",
      "429:\tlearn: 59.6875648\ttotal: 641ms\tremaining: 849ms\n",
      "430:\tlearn: 59.6662150\ttotal: 642ms\tremaining: 847ms\n",
      "431:\tlearn: 59.4208112\ttotal: 642ms\tremaining: 845ms\n",
      "432:\tlearn: 59.2358034\ttotal: 643ms\tremaining: 842ms\n",
      "433:\tlearn: 58.9818868\ttotal: 644ms\tremaining: 840ms\n",
      "434:\tlearn: 58.7089433\ttotal: 645ms\tremaining: 838ms\n",
      "435:\tlearn: 58.5898817\ttotal: 646ms\tremaining: 836ms\n",
      "436:\tlearn: 58.5425342\ttotal: 647ms\tremaining: 834ms\n",
      "437:\tlearn: 58.2884605\ttotal: 648ms\tremaining: 832ms\n",
      "438:\tlearn: 58.2643873\ttotal: 649ms\tremaining: 830ms\n",
      "439:\tlearn: 58.2330868\ttotal: 650ms\tremaining: 827ms\n",
      "440:\tlearn: 57.9676592\ttotal: 651ms\tremaining: 825ms\n",
      "441:\tlearn: 57.7670212\ttotal: 652ms\tremaining: 823ms\n",
      "442:\tlearn: 57.5322464\ttotal: 653ms\tremaining: 821ms\n",
      "443:\tlearn: 57.2771620\ttotal: 654ms\tremaining: 819ms\n",
      "444:\tlearn: 57.0227885\ttotal: 655ms\tremaining: 817ms\n",
      "445:\tlearn: 56.7616770\ttotal: 656ms\tremaining: 815ms\n",
      "446:\tlearn: 56.7367450\ttotal: 657ms\tremaining: 813ms\n",
      "447:\tlearn: 56.6715001\ttotal: 658ms\tremaining: 811ms\n",
      "448:\tlearn: 56.4881346\ttotal: 659ms\tremaining: 809ms\n",
      "449:\tlearn: 56.3749776\ttotal: 660ms\tremaining: 806ms\n",
      "450:\tlearn: 56.2172319\ttotal: 661ms\tremaining: 804ms\n",
      "451:\tlearn: 55.9461925\ttotal: 662ms\tremaining: 802ms\n",
      "452:\tlearn: 55.8884270\ttotal: 663ms\tremaining: 800ms\n",
      "453:\tlearn: 55.7987432\ttotal: 664ms\tremaining: 798ms\n",
      "454:\tlearn: 55.7376337\ttotal: 665ms\tremaining: 796ms\n",
      "455:\tlearn: 55.5150595\ttotal: 666ms\tremaining: 794ms\n",
      "456:\tlearn: 55.4819680\ttotal: 667ms\tremaining: 792ms\n",
      "457:\tlearn: 55.1719919\ttotal: 668ms\tremaining: 790ms\n",
      "458:\tlearn: 55.1295759\ttotal: 669ms\tremaining: 788ms\n",
      "459:\tlearn: 55.0856302\ttotal: 670ms\tremaining: 786ms\n",
      "460:\tlearn: 54.8056235\ttotal: 671ms\tremaining: 784ms\n",
      "461:\tlearn: 54.4030407\ttotal: 672ms\tremaining: 782ms\n",
      "462:\tlearn: 54.3308204\ttotal: 673ms\tremaining: 780ms\n",
      "463:\tlearn: 54.0283724\ttotal: 674ms\tremaining: 778ms\n",
      "464:\tlearn: 53.9962714\ttotal: 674ms\tremaining: 776ms\n",
      "465:\tlearn: 53.8149476\ttotal: 675ms\tremaining: 774ms\n",
      "466:\tlearn: 53.7806209\ttotal: 676ms\tremaining: 772ms\n",
      "467:\tlearn: 53.7585727\ttotal: 677ms\tremaining: 770ms\n",
      "468:\tlearn: 53.5042777\ttotal: 678ms\tremaining: 768ms\n",
      "469:\tlearn: 53.3257034\ttotal: 679ms\tremaining: 765ms\n",
      "470:\tlearn: 53.0801119\ttotal: 680ms\tremaining: 763ms\n",
      "471:\tlearn: 53.0136550\ttotal: 681ms\tremaining: 761ms\n",
      "472:\tlearn: 52.9408930\ttotal: 682ms\tremaining: 759ms\n",
      "473:\tlearn: 52.7089062\ttotal: 682ms\tremaining: 757ms\n",
      "474:\tlearn: 52.6819781\ttotal: 683ms\tremaining: 755ms\n",
      "475:\tlearn: 52.5065568\ttotal: 684ms\tremaining: 753ms\n"
     ]
    },
    {
     "name": "stdout",
     "output_type": "stream",
     "text": [
      "476:\tlearn: 52.3688770\ttotal: 686ms\tremaining: 752ms\n",
      "477:\tlearn: 52.2402473\ttotal: 687ms\tremaining: 751ms\n",
      "478:\tlearn: 52.1406517\ttotal: 688ms\tremaining: 749ms\n",
      "479:\tlearn: 52.1107144\ttotal: 689ms\tremaining: 746ms\n",
      "480:\tlearn: 51.9239449\ttotal: 690ms\tremaining: 744ms\n",
      "481:\tlearn: 51.7096820\ttotal: 691ms\tremaining: 742ms\n",
      "482:\tlearn: 51.6266918\ttotal: 692ms\tremaining: 740ms\n",
      "483:\tlearn: 51.5969797\ttotal: 693ms\tremaining: 738ms\n",
      "484:\tlearn: 51.4480162\ttotal: 693ms\tremaining: 736ms\n",
      "485:\tlearn: 51.2269261\ttotal: 694ms\tremaining: 734ms\n",
      "486:\tlearn: 50.9904632\ttotal: 695ms\tremaining: 732ms\n",
      "487:\tlearn: 50.9342043\ttotal: 696ms\tremaining: 730ms\n",
      "488:\tlearn: 50.8423680\ttotal: 697ms\tremaining: 729ms\n",
      "489:\tlearn: 50.7269788\ttotal: 698ms\tremaining: 727ms\n",
      "490:\tlearn: 50.5384699\ttotal: 699ms\tremaining: 725ms\n",
      "491:\tlearn: 50.5047793\ttotal: 700ms\tremaining: 723ms\n",
      "492:\tlearn: 50.3234448\ttotal: 701ms\tremaining: 721ms\n",
      "493:\tlearn: 50.1653421\ttotal: 702ms\tremaining: 719ms\n",
      "494:\tlearn: 49.9835558\ttotal: 703ms\tremaining: 717ms\n",
      "495:\tlearn: 49.8884283\ttotal: 704ms\tremaining: 715ms\n",
      "496:\tlearn: 49.6217364\ttotal: 705ms\tremaining: 714ms\n",
      "497:\tlearn: 49.5268562\ttotal: 706ms\tremaining: 712ms\n",
      "498:\tlearn: 49.3078402\ttotal: 707ms\tremaining: 710ms\n",
      "499:\tlearn: 49.2571676\ttotal: 708ms\tremaining: 708ms\n",
      "500:\tlearn: 49.2173141\ttotal: 709ms\tremaining: 706ms\n",
      "501:\tlearn: 48.9813103\ttotal: 710ms\tremaining: 704ms\n",
      "502:\tlearn: 48.8304542\ttotal: 711ms\tremaining: 703ms\n",
      "503:\tlearn: 48.7430936\ttotal: 712ms\tremaining: 701ms\n",
      "504:\tlearn: 48.5493989\ttotal: 713ms\tremaining: 699ms\n",
      "505:\tlearn: 48.5134839\ttotal: 715ms\tremaining: 698ms\n",
      "506:\tlearn: 48.3516141\ttotal: 716ms\tremaining: 696ms\n",
      "507:\tlearn: 48.0631542\ttotal: 717ms\tremaining: 695ms\n",
      "508:\tlearn: 47.8591880\ttotal: 718ms\tremaining: 693ms\n",
      "509:\tlearn: 47.7182444\ttotal: 719ms\tremaining: 691ms\n",
      "510:\tlearn: 47.6301870\ttotal: 721ms\tremaining: 690ms\n",
      "511:\tlearn: 47.4767324\ttotal: 722ms\tremaining: 688ms\n",
      "512:\tlearn: 47.2822625\ttotal: 723ms\tremaining: 686ms\n",
      "513:\tlearn: 47.1022658\ttotal: 724ms\tremaining: 685ms\n",
      "514:\tlearn: 47.0536181\ttotal: 725ms\tremaining: 683ms\n",
      "515:\tlearn: 47.0249559\ttotal: 726ms\tremaining: 681ms\n",
      "516:\tlearn: 46.8789720\ttotal: 727ms\tremaining: 679ms\n",
      "517:\tlearn: 46.7133769\ttotal: 729ms\tremaining: 678ms\n",
      "518:\tlearn: 46.5157986\ttotal: 730ms\tremaining: 677ms\n",
      "519:\tlearn: 46.3630405\ttotal: 731ms\tremaining: 675ms\n",
      "520:\tlearn: 46.1730188\ttotal: 732ms\tremaining: 673ms\n",
      "521:\tlearn: 46.1360908\ttotal: 733ms\tremaining: 672ms\n",
      "522:\tlearn: 45.9652487\ttotal: 735ms\tremaining: 670ms\n",
      "523:\tlearn: 45.8122703\ttotal: 736ms\tremaining: 669ms\n",
      "524:\tlearn: 45.4984451\ttotal: 738ms\tremaining: 667ms\n",
      "525:\tlearn: 45.3161076\ttotal: 739ms\tremaining: 666ms\n",
      "526:\tlearn: 45.2802854\ttotal: 739ms\tremaining: 664ms\n",
      "527:\tlearn: 45.2448275\ttotal: 740ms\tremaining: 662ms\n",
      "528:\tlearn: 45.0816321\ttotal: 741ms\tremaining: 660ms\n",
      "529:\tlearn: 44.9794319\ttotal: 743ms\tremaining: 659ms\n",
      "530:\tlearn: 44.6832140\ttotal: 744ms\tremaining: 658ms\n",
      "531:\tlearn: 44.4460046\ttotal: 746ms\tremaining: 656ms\n",
      "532:\tlearn: 44.2118287\ttotal: 747ms\tremaining: 654ms\n",
      "533:\tlearn: 44.0693524\ttotal: 748ms\tremaining: 653ms\n",
      "534:\tlearn: 43.7781614\ttotal: 749ms\tremaining: 651ms\n",
      "535:\tlearn: 43.5541731\ttotal: 751ms\tremaining: 650ms\n",
      "536:\tlearn: 43.5134866\ttotal: 753ms\tremaining: 649ms\n",
      "537:\tlearn: 43.3609810\ttotal: 754ms\tremaining: 648ms\n",
      "538:\tlearn: 43.1828364\ttotal: 755ms\tremaining: 646ms\n",
      "539:\tlearn: 43.1681810\ttotal: 756ms\tremaining: 644ms\n",
      "540:\tlearn: 43.0597548\ttotal: 758ms\tremaining: 643ms\n",
      "541:\tlearn: 43.0399237\ttotal: 759ms\tremaining: 641ms\n",
      "542:\tlearn: 42.7955247\ttotal: 760ms\tremaining: 640ms\n",
      "543:\tlearn: 42.5339065\ttotal: 761ms\tremaining: 638ms\n",
      "544:\tlearn: 42.4295635\ttotal: 762ms\tremaining: 636ms\n",
      "545:\tlearn: 42.2338376\ttotal: 764ms\tremaining: 635ms\n",
      "546:\tlearn: 42.0124060\ttotal: 765ms\tremaining: 634ms\n",
      "547:\tlearn: 41.8255183\ttotal: 767ms\tremaining: 633ms\n",
      "548:\tlearn: 41.6388681\ttotal: 768ms\tremaining: 631ms\n",
      "549:\tlearn: 41.4001270\ttotal: 770ms\tremaining: 630ms\n",
      "550:\tlearn: 41.1013528\ttotal: 771ms\tremaining: 629ms\n",
      "551:\tlearn: 41.0100295\ttotal: 773ms\tremaining: 627ms\n",
      "552:\tlearn: 40.9906076\ttotal: 774ms\tremaining: 625ms\n",
      "553:\tlearn: 40.8809109\ttotal: 775ms\tremaining: 624ms\n",
      "554:\tlearn: 40.7831302\ttotal: 776ms\tremaining: 622ms\n",
      "555:\tlearn: 40.7317763\ttotal: 777ms\tremaining: 621ms\n",
      "556:\tlearn: 40.6321710\ttotal: 779ms\tremaining: 619ms\n",
      "557:\tlearn: 40.4475073\ttotal: 780ms\tremaining: 618ms\n",
      "558:\tlearn: 40.2859957\ttotal: 781ms\tremaining: 616ms\n",
      "559:\tlearn: 40.0262057\ttotal: 782ms\tremaining: 615ms\n",
      "560:\tlearn: 39.9326350\ttotal: 783ms\tremaining: 613ms\n",
      "561:\tlearn: 39.8735956\ttotal: 784ms\tremaining: 611ms\n",
      "562:\tlearn: 39.7083019\ttotal: 785ms\tremaining: 610ms\n",
      "563:\tlearn: 39.5379855\ttotal: 787ms\tremaining: 608ms\n",
      "564:\tlearn: 39.3451301\ttotal: 788ms\tremaining: 607ms\n",
      "565:\tlearn: 39.2041273\ttotal: 789ms\tremaining: 605ms\n",
      "566:\tlearn: 38.9870162\ttotal: 790ms\tremaining: 603ms\n",
      "567:\tlearn: 38.8638040\ttotal: 791ms\tremaining: 602ms\n",
      "568:\tlearn: 38.7752116\ttotal: 792ms\tremaining: 600ms\n",
      "569:\tlearn: 38.6530297\ttotal: 793ms\tremaining: 598ms\n",
      "570:\tlearn: 38.5505372\ttotal: 794ms\tremaining: 597ms\n",
      "571:\tlearn: 38.5134486\ttotal: 796ms\tremaining: 595ms\n",
      "572:\tlearn: 38.3680902\ttotal: 798ms\tremaining: 594ms\n",
      "573:\tlearn: 38.1897295\ttotal: 798ms\tremaining: 593ms\n",
      "574:\tlearn: 38.1083536\ttotal: 800ms\tremaining: 591ms\n",
      "575:\tlearn: 37.9229216\ttotal: 801ms\tremaining: 589ms\n",
      "576:\tlearn: 37.8377087\ttotal: 802ms\tremaining: 588ms\n",
      "577:\tlearn: 37.7966900\ttotal: 803ms\tremaining: 586ms\n",
      "578:\tlearn: 37.6700761\ttotal: 804ms\tremaining: 585ms\n",
      "579:\tlearn: 37.6355177\ttotal: 804ms\tremaining: 583ms\n",
      "580:\tlearn: 37.4648199\ttotal: 805ms\tremaining: 581ms\n",
      "581:\tlearn: 37.2959505\ttotal: 806ms\tremaining: 579ms\n",
      "582:\tlearn: 37.1423961\ttotal: 807ms\tremaining: 577ms\n",
      "583:\tlearn: 36.9297315\ttotal: 808ms\tremaining: 576ms\n",
      "584:\tlearn: 36.8850382\ttotal: 809ms\tremaining: 574ms\n",
      "585:\tlearn: 36.7546519\ttotal: 810ms\tremaining: 572ms\n",
      "586:\tlearn: 36.7377554\ttotal: 811ms\tremaining: 571ms\n",
      "587:\tlearn: 36.6899102\ttotal: 812ms\tremaining: 569ms\n",
      "588:\tlearn: 36.5617094\ttotal: 813ms\tremaining: 567ms\n",
      "589:\tlearn: 36.4272921\ttotal: 814ms\tremaining: 565ms\n",
      "590:\tlearn: 36.2657889\ttotal: 815ms\tremaining: 564ms\n",
      "591:\tlearn: 36.2539345\ttotal: 815ms\tremaining: 562ms\n",
      "592:\tlearn: 36.2314399\ttotal: 816ms\tremaining: 560ms\n",
      "593:\tlearn: 36.0683824\ttotal: 817ms\tremaining: 558ms\n",
      "594:\tlearn: 35.9283095\ttotal: 818ms\tremaining: 557ms\n",
      "595:\tlearn: 35.7968288\ttotal: 819ms\tremaining: 555ms\n",
      "596:\tlearn: 35.7223423\ttotal: 820ms\tremaining: 553ms\n",
      "597:\tlearn: 35.5848854\ttotal: 821ms\tremaining: 552ms\n",
      "598:\tlearn: 35.4754344\ttotal: 822ms\tremaining: 550ms\n",
      "599:\tlearn: 35.3533890\ttotal: 823ms\tremaining: 548ms\n",
      "600:\tlearn: 35.2201505\ttotal: 823ms\tremaining: 547ms\n",
      "601:\tlearn: 35.0873272\ttotal: 824ms\tremaining: 545ms\n",
      "602:\tlearn: 35.0461873\ttotal: 825ms\tremaining: 543ms\n",
      "603:\tlearn: 34.9273071\ttotal: 826ms\tremaining: 542ms\n",
      "604:\tlearn: 34.8162855\ttotal: 827ms\tremaining: 540ms\n",
      "605:\tlearn: 34.7130059\ttotal: 828ms\tremaining: 538ms\n",
      "606:\tlearn: 34.5585617\ttotal: 829ms\tremaining: 537ms\n",
      "607:\tlearn: 34.4611907\ttotal: 830ms\tremaining: 535ms\n",
      "608:\tlearn: 34.4326546\ttotal: 831ms\tremaining: 533ms\n",
      "609:\tlearn: 34.2846979\ttotal: 832ms\tremaining: 532ms\n",
      "610:\tlearn: 34.1734501\ttotal: 833ms\tremaining: 530ms\n",
      "611:\tlearn: 34.0230965\ttotal: 834ms\tremaining: 529ms\n",
      "612:\tlearn: 33.8282501\ttotal: 835ms\tremaining: 527ms\n",
      "613:\tlearn: 33.7746747\ttotal: 836ms\tremaining: 525ms\n",
      "614:\tlearn: 33.7068386\ttotal: 837ms\tremaining: 524ms\n",
      "615:\tlearn: 33.5780800\ttotal: 838ms\tremaining: 522ms\n",
      "616:\tlearn: 33.4695325\ttotal: 838ms\tremaining: 520ms\n",
      "617:\tlearn: 33.3463443\ttotal: 839ms\tremaining: 519ms\n",
      "618:\tlearn: 33.2877395\ttotal: 840ms\tremaining: 517ms\n",
      "619:\tlearn: 33.2418826\ttotal: 841ms\tremaining: 516ms\n",
      "620:\tlearn: 33.1045465\ttotal: 842ms\tremaining: 514ms\n",
      "621:\tlearn: 32.9400639\ttotal: 843ms\tremaining: 512ms\n",
      "622:\tlearn: 32.8996970\ttotal: 844ms\tremaining: 511ms\n",
      "623:\tlearn: 32.7429487\ttotal: 845ms\tremaining: 509ms\n",
      "624:\tlearn: 32.6132355\ttotal: 846ms\tremaining: 507ms\n",
      "625:\tlearn: 32.4714976\ttotal: 847ms\tremaining: 506ms\n",
      "626:\tlearn: 32.4320448\ttotal: 848ms\tremaining: 504ms\n",
      "627:\tlearn: 32.2628258\ttotal: 849ms\tremaining: 503ms\n",
      "628:\tlearn: 32.2038569\ttotal: 849ms\tremaining: 501ms\n",
      "629:\tlearn: 32.0940738\ttotal: 850ms\tremaining: 499ms\n",
      "630:\tlearn: 32.0068495\ttotal: 851ms\tremaining: 498ms\n",
      "631:\tlearn: 31.9053748\ttotal: 852ms\tremaining: 496ms\n",
      "632:\tlearn: 31.7715772\ttotal: 853ms\tremaining: 495ms\n",
      "633:\tlearn: 31.6687835\ttotal: 854ms\tremaining: 493ms\n",
      "634:\tlearn: 31.6368050\ttotal: 855ms\tremaining: 491ms\n"
     ]
    },
    {
     "name": "stdout",
     "output_type": "stream",
     "text": [
      "635:\tlearn: 31.5709628\ttotal: 856ms\tremaining: 490ms\n",
      "636:\tlearn: 31.4052213\ttotal: 858ms\tremaining: 489ms\n",
      "637:\tlearn: 31.2452229\ttotal: 859ms\tremaining: 487ms\n",
      "638:\tlearn: 31.1221828\ttotal: 860ms\tremaining: 486ms\n",
      "639:\tlearn: 31.0853500\ttotal: 861ms\tremaining: 484ms\n",
      "640:\tlearn: 30.9167355\ttotal: 862ms\tremaining: 483ms\n",
      "641:\tlearn: 30.8667253\ttotal: 863ms\tremaining: 481ms\n",
      "642:\tlearn: 30.7427129\ttotal: 864ms\tremaining: 480ms\n",
      "643:\tlearn: 30.5748228\ttotal: 865ms\tremaining: 478ms\n",
      "644:\tlearn: 30.5080592\ttotal: 866ms\tremaining: 477ms\n",
      "645:\tlearn: 30.3444228\ttotal: 867ms\tremaining: 475ms\n",
      "646:\tlearn: 30.1858385\ttotal: 868ms\tremaining: 474ms\n",
      "647:\tlearn: 30.1481951\ttotal: 870ms\tremaining: 472ms\n",
      "648:\tlearn: 30.1139150\ttotal: 871ms\tremaining: 471ms\n",
      "649:\tlearn: 30.0147177\ttotal: 872ms\tremaining: 470ms\n",
      "650:\tlearn: 29.8610501\ttotal: 873ms\tremaining: 468ms\n",
      "651:\tlearn: 29.7793561\ttotal: 874ms\tremaining: 467ms\n",
      "652:\tlearn: 29.6870188\ttotal: 875ms\tremaining: 465ms\n",
      "653:\tlearn: 29.6229921\ttotal: 876ms\tremaining: 464ms\n",
      "654:\tlearn: 29.5806823\ttotal: 878ms\tremaining: 462ms\n",
      "655:\tlearn: 29.4903496\ttotal: 879ms\tremaining: 461ms\n",
      "656:\tlearn: 29.4011642\ttotal: 881ms\tremaining: 460ms\n",
      "657:\tlearn: 29.3880977\ttotal: 882ms\tremaining: 458ms\n",
      "658:\tlearn: 29.2615919\ttotal: 883ms\tremaining: 457ms\n",
      "659:\tlearn: 29.1004727\ttotal: 884ms\tremaining: 455ms\n",
      "660:\tlearn: 29.0530692\ttotal: 885ms\tremaining: 454ms\n",
      "661:\tlearn: 28.9863628\ttotal: 886ms\tremaining: 452ms\n",
      "662:\tlearn: 28.8714304\ttotal: 887ms\tremaining: 451ms\n",
      "663:\tlearn: 28.7331979\ttotal: 888ms\tremaining: 449ms\n",
      "664:\tlearn: 28.6366801\ttotal: 889ms\tremaining: 448ms\n",
      "665:\tlearn: 28.5716341\ttotal: 890ms\tremaining: 446ms\n",
      "666:\tlearn: 28.4974876\ttotal: 891ms\tremaining: 445ms\n",
      "667:\tlearn: 28.4112710\ttotal: 892ms\tremaining: 443ms\n",
      "668:\tlearn: 28.2984651\ttotal: 893ms\tremaining: 442ms\n",
      "669:\tlearn: 28.1339510\ttotal: 894ms\tremaining: 440ms\n",
      "670:\tlearn: 28.1075789\ttotal: 895ms\tremaining: 439ms\n",
      "671:\tlearn: 28.0922293\ttotal: 896ms\tremaining: 437ms\n",
      "672:\tlearn: 27.9723760\ttotal: 897ms\tremaining: 436ms\n",
      "673:\tlearn: 27.9055283\ttotal: 898ms\tremaining: 434ms\n",
      "674:\tlearn: 27.8205243\ttotal: 899ms\tremaining: 433ms\n",
      "675:\tlearn: 27.8084834\ttotal: 900ms\tremaining: 431ms\n",
      "676:\tlearn: 27.7891840\ttotal: 901ms\tremaining: 430ms\n",
      "677:\tlearn: 27.6730952\ttotal: 902ms\tremaining: 428ms\n",
      "678:\tlearn: 27.6094279\ttotal: 903ms\tremaining: 427ms\n",
      "679:\tlearn: 27.5709406\ttotal: 904ms\tremaining: 425ms\n",
      "680:\tlearn: 27.5062932\ttotal: 904ms\tremaining: 424ms\n",
      "681:\tlearn: 27.4149358\ttotal: 905ms\tremaining: 422ms\n",
      "682:\tlearn: 27.3480578\ttotal: 906ms\tremaining: 421ms\n",
      "683:\tlearn: 27.2546632\ttotal: 907ms\tremaining: 419ms\n",
      "684:\tlearn: 27.1581242\ttotal: 908ms\tremaining: 418ms\n",
      "685:\tlearn: 27.1291330\ttotal: 909ms\tremaining: 416ms\n",
      "686:\tlearn: 27.0589760\ttotal: 910ms\tremaining: 414ms\n",
      "687:\tlearn: 26.9207571\ttotal: 911ms\tremaining: 413ms\n",
      "688:\tlearn: 26.8046340\ttotal: 912ms\tremaining: 411ms\n",
      "689:\tlearn: 26.7346039\ttotal: 912ms\tremaining: 410ms\n",
      "690:\tlearn: 26.6359238\ttotal: 913ms\tremaining: 408ms\n",
      "691:\tlearn: 26.5458163\ttotal: 914ms\tremaining: 407ms\n",
      "692:\tlearn: 26.5287024\ttotal: 915ms\tremaining: 405ms\n",
      "693:\tlearn: 26.4436127\ttotal: 916ms\tremaining: 404ms\n",
      "694:\tlearn: 26.3860996\ttotal: 917ms\tremaining: 402ms\n",
      "695:\tlearn: 26.3271824\ttotal: 918ms\tremaining: 401ms\n",
      "696:\tlearn: 26.1929180\ttotal: 919ms\tremaining: 399ms\n",
      "697:\tlearn: 26.0989501\ttotal: 920ms\tremaining: 398ms\n",
      "698:\tlearn: 26.0348052\ttotal: 921ms\tremaining: 396ms\n",
      "699:\tlearn: 25.9715846\ttotal: 921ms\tremaining: 395ms\n",
      "700:\tlearn: 25.8624783\ttotal: 922ms\tremaining: 393ms\n",
      "701:\tlearn: 25.8020332\ttotal: 923ms\tremaining: 392ms\n",
      "702:\tlearn: 25.7940141\ttotal: 924ms\tremaining: 390ms\n",
      "703:\tlearn: 25.6937173\ttotal: 925ms\tremaining: 389ms\n",
      "704:\tlearn: 25.6133995\ttotal: 926ms\tremaining: 387ms\n",
      "705:\tlearn: 25.5272559\ttotal: 927ms\tremaining: 386ms\n",
      "706:\tlearn: 25.5087600\ttotal: 928ms\tremaining: 384ms\n",
      "707:\tlearn: 25.3506858\ttotal: 929ms\tremaining: 383ms\n",
      "708:\tlearn: 25.3314352\ttotal: 930ms\tremaining: 382ms\n",
      "709:\tlearn: 25.3263712\ttotal: 930ms\tremaining: 380ms\n",
      "710:\tlearn: 25.2377772\ttotal: 931ms\tremaining: 378ms\n",
      "711:\tlearn: 25.1296003\ttotal: 932ms\tremaining: 377ms\n",
      "712:\tlearn: 25.1138661\ttotal: 933ms\tremaining: 375ms\n",
      "713:\tlearn: 25.0606164\ttotal: 933ms\tremaining: 374ms\n",
      "714:\tlearn: 24.9701122\ttotal: 934ms\tremaining: 372ms\n",
      "715:\tlearn: 24.9266980\ttotal: 935ms\tremaining: 371ms\n",
      "716:\tlearn: 24.8355245\ttotal: 936ms\tremaining: 369ms\n",
      "717:\tlearn: 24.7892595\ttotal: 937ms\tremaining: 368ms\n",
      "718:\tlearn: 24.7784156\ttotal: 939ms\tremaining: 367ms\n",
      "719:\tlearn: 24.7204068\ttotal: 940ms\tremaining: 365ms\n",
      "720:\tlearn: 24.6868946\ttotal: 941ms\tremaining: 364ms\n",
      "721:\tlearn: 24.5835248\ttotal: 942ms\tremaining: 363ms\n",
      "722:\tlearn: 24.4605667\ttotal: 943ms\tremaining: 361ms\n",
      "723:\tlearn: 24.3780491\ttotal: 944ms\tremaining: 360ms\n",
      "724:\tlearn: 24.3695387\ttotal: 944ms\tremaining: 358ms\n",
      "725:\tlearn: 24.2713928\ttotal: 945ms\tremaining: 357ms\n",
      "726:\tlearn: 24.2564573\ttotal: 946ms\tremaining: 355ms\n",
      "727:\tlearn: 24.1259045\ttotal: 947ms\tremaining: 354ms\n",
      "728:\tlearn: 24.0410925\ttotal: 948ms\tremaining: 352ms\n",
      "729:\tlearn: 23.9454740\ttotal: 949ms\tremaining: 351ms\n",
      "730:\tlearn: 23.9293944\ttotal: 950ms\tremaining: 350ms\n",
      "731:\tlearn: 23.8408373\ttotal: 951ms\tremaining: 348ms\n",
      "732:\tlearn: 23.7301307\ttotal: 952ms\tremaining: 347ms\n",
      "733:\tlearn: 23.6751178\ttotal: 953ms\tremaining: 345ms\n",
      "734:\tlearn: 23.5518474\ttotal: 954ms\tremaining: 344ms\n",
      "735:\tlearn: 23.5054838\ttotal: 955ms\tremaining: 342ms\n",
      "736:\tlearn: 23.4781040\ttotal: 956ms\tremaining: 341ms\n",
      "737:\tlearn: 23.3774725\ttotal: 957ms\tremaining: 340ms\n",
      "738:\tlearn: 23.3081022\ttotal: 958ms\tremaining: 338ms\n",
      "739:\tlearn: 23.2915892\ttotal: 959ms\tremaining: 337ms\n",
      "740:\tlearn: 23.2095735\ttotal: 960ms\tremaining: 336ms\n",
      "741:\tlearn: 23.1588315\ttotal: 961ms\tremaining: 334ms\n",
      "742:\tlearn: 23.1197993\ttotal: 962ms\tremaining: 333ms\n",
      "743:\tlearn: 23.0327780\ttotal: 963ms\tremaining: 331ms\n",
      "744:\tlearn: 22.9759480\ttotal: 964ms\tremaining: 330ms\n",
      "745:\tlearn: 22.8751423\ttotal: 965ms\tremaining: 329ms\n",
      "746:\tlearn: 22.7768127\ttotal: 966ms\tremaining: 327ms\n",
      "747:\tlearn: 22.6474970\ttotal: 967ms\tremaining: 326ms\n",
      "748:\tlearn: 22.5780525\ttotal: 968ms\tremaining: 324ms\n",
      "749:\tlearn: 22.5338308\ttotal: 969ms\tremaining: 323ms\n",
      "750:\tlearn: 22.4330276\ttotal: 970ms\tremaining: 322ms\n",
      "751:\tlearn: 22.4193891\ttotal: 972ms\tremaining: 320ms\n",
      "752:\tlearn: 22.4093040\ttotal: 973ms\tremaining: 319ms\n",
      "753:\tlearn: 22.3758979\ttotal: 973ms\tremaining: 318ms\n",
      "754:\tlearn: 22.3560173\ttotal: 974ms\tremaining: 316ms\n",
      "755:\tlearn: 22.3264261\ttotal: 975ms\tremaining: 315ms\n",
      "756:\tlearn: 22.2796605\ttotal: 976ms\tremaining: 313ms\n",
      "757:\tlearn: 22.2253439\ttotal: 977ms\tremaining: 312ms\n",
      "758:\tlearn: 22.1636409\ttotal: 978ms\tremaining: 311ms\n",
      "759:\tlearn: 22.1078491\ttotal: 979ms\tremaining: 309ms\n",
      "760:\tlearn: 22.0275756\ttotal: 980ms\tremaining: 308ms\n",
      "761:\tlearn: 22.0174143\ttotal: 981ms\tremaining: 307ms\n",
      "762:\tlearn: 21.9887391\ttotal: 982ms\tremaining: 305ms\n",
      "763:\tlearn: 21.9746733\ttotal: 983ms\tremaining: 304ms\n",
      "764:\tlearn: 21.9529216\ttotal: 999ms\tremaining: 307ms\n",
      "765:\tlearn: 21.8767644\ttotal: 1s\tremaining: 306ms\n",
      "766:\tlearn: 21.8668039\ttotal: 1s\tremaining: 304ms\n",
      "767:\tlearn: 21.8008688\ttotal: 1s\tremaining: 303ms\n",
      "768:\tlearn: 21.7612208\ttotal: 1s\tremaining: 301ms\n",
      "769:\tlearn: 21.6977978\ttotal: 1s\tremaining: 300ms\n",
      "770:\tlearn: 21.6870461\ttotal: 1s\tremaining: 298ms\n",
      "771:\tlearn: 21.6599780\ttotal: 1s\tremaining: 297ms\n",
      "772:\tlearn: 21.5522064\ttotal: 1.01s\tremaining: 296ms\n",
      "773:\tlearn: 21.5426327\ttotal: 1.01s\tremaining: 294ms\n",
      "774:\tlearn: 21.4391089\ttotal: 1.01s\tremaining: 293ms\n",
      "775:\tlearn: 21.4042993\ttotal: 1.01s\tremaining: 291ms\n",
      "776:\tlearn: 21.3284836\ttotal: 1.01s\tremaining: 290ms\n",
      "777:\tlearn: 21.3163774\ttotal: 1.01s\tremaining: 289ms\n",
      "778:\tlearn: 21.2708416\ttotal: 1.01s\tremaining: 287ms\n",
      "779:\tlearn: 21.2056943\ttotal: 1.01s\tremaining: 286ms\n",
      "780:\tlearn: 21.1434774\ttotal: 1.01s\tremaining: 284ms\n",
      "781:\tlearn: 21.0672473\ttotal: 1.01s\tremaining: 283ms\n",
      "782:\tlearn: 20.9629645\ttotal: 1.01s\tremaining: 281ms\n",
      "783:\tlearn: 20.9522537\ttotal: 1.02s\tremaining: 280ms\n",
      "784:\tlearn: 20.9252425\ttotal: 1.02s\tremaining: 279ms\n",
      "785:\tlearn: 20.8576799\ttotal: 1.02s\tremaining: 277ms\n",
      "786:\tlearn: 20.7922970\ttotal: 1.02s\tremaining: 276ms\n",
      "787:\tlearn: 20.7802134\ttotal: 1.02s\tremaining: 274ms\n",
      "788:\tlearn: 20.7125213\ttotal: 1.02s\tremaining: 273ms\n",
      "789:\tlearn: 20.7000005\ttotal: 1.02s\tremaining: 272ms\n",
      "790:\tlearn: 20.6366378\ttotal: 1.02s\tremaining: 270ms\n",
      "791:\tlearn: 20.6170923\ttotal: 1.02s\tremaining: 269ms\n",
      "792:\tlearn: 20.5485950\ttotal: 1.02s\tremaining: 267ms\n",
      "793:\tlearn: 20.5212323\ttotal: 1.02s\tremaining: 266ms\n",
      "794:\tlearn: 20.5004347\ttotal: 1.03s\tremaining: 265ms\n",
      "795:\tlearn: 20.4884649\ttotal: 1.03s\tremaining: 263ms\n",
      "796:\tlearn: 20.3727007\ttotal: 1.03s\tremaining: 262ms\n"
     ]
    },
    {
     "name": "stdout",
     "output_type": "stream",
     "text": [
      "797:\tlearn: 20.2776166\ttotal: 1.03s\tremaining: 261ms\n",
      "798:\tlearn: 20.2690965\ttotal: 1.03s\tremaining: 259ms\n",
      "799:\tlearn: 20.2166634\ttotal: 1.03s\tremaining: 258ms\n",
      "800:\tlearn: 20.1160179\ttotal: 1.03s\tremaining: 257ms\n",
      "801:\tlearn: 20.0642268\ttotal: 1.03s\tremaining: 255ms\n",
      "802:\tlearn: 20.0323601\ttotal: 1.03s\tremaining: 254ms\n",
      "803:\tlearn: 19.9485334\ttotal: 1.03s\tremaining: 253ms\n",
      "804:\tlearn: 19.9071725\ttotal: 1.04s\tremaining: 251ms\n",
      "805:\tlearn: 19.8943564\ttotal: 1.04s\tremaining: 250ms\n",
      "806:\tlearn: 19.7804687\ttotal: 1.04s\tremaining: 248ms\n",
      "807:\tlearn: 19.7343406\ttotal: 1.04s\tremaining: 247ms\n",
      "808:\tlearn: 19.6963930\ttotal: 1.04s\tremaining: 246ms\n",
      "809:\tlearn: 19.6705675\ttotal: 1.04s\tremaining: 244ms\n",
      "810:\tlearn: 19.6382933\ttotal: 1.04s\tremaining: 243ms\n",
      "811:\tlearn: 19.5889191\ttotal: 1.04s\tremaining: 242ms\n",
      "812:\tlearn: 19.5638487\ttotal: 1.04s\tremaining: 240ms\n",
      "813:\tlearn: 19.4926424\ttotal: 1.05s\tremaining: 239ms\n",
      "814:\tlearn: 19.3961396\ttotal: 1.05s\tremaining: 238ms\n",
      "815:\tlearn: 19.3880242\ttotal: 1.05s\tremaining: 237ms\n",
      "816:\tlearn: 19.2808372\ttotal: 1.05s\tremaining: 235ms\n",
      "817:\tlearn: 19.1712815\ttotal: 1.05s\tremaining: 234ms\n",
      "818:\tlearn: 19.0909823\ttotal: 1.05s\tremaining: 233ms\n",
      "819:\tlearn: 18.9993504\ttotal: 1.05s\tremaining: 231ms\n",
      "820:\tlearn: 18.9773399\ttotal: 1.05s\tremaining: 230ms\n",
      "821:\tlearn: 18.8989735\ttotal: 1.05s\tremaining: 228ms\n",
      "822:\tlearn: 18.8275176\ttotal: 1.06s\tremaining: 227ms\n",
      "823:\tlearn: 18.8092278\ttotal: 1.06s\tremaining: 226ms\n",
      "824:\tlearn: 18.7938447\ttotal: 1.06s\tremaining: 224ms\n",
      "825:\tlearn: 18.7871267\ttotal: 1.06s\tremaining: 223ms\n",
      "826:\tlearn: 18.7299674\ttotal: 1.06s\tremaining: 222ms\n",
      "827:\tlearn: 18.6808264\ttotal: 1.06s\tremaining: 221ms\n",
      "828:\tlearn: 18.5984875\ttotal: 1.06s\tremaining: 219ms\n",
      "829:\tlearn: 18.5170088\ttotal: 1.06s\tremaining: 218ms\n",
      "830:\tlearn: 18.4707382\ttotal: 1.06s\tremaining: 217ms\n",
      "831:\tlearn: 18.4368619\ttotal: 1.07s\tremaining: 215ms\n",
      "832:\tlearn: 18.3683191\ttotal: 1.07s\tremaining: 214ms\n",
      "833:\tlearn: 18.3295058\ttotal: 1.07s\tremaining: 213ms\n",
      "834:\tlearn: 18.2587263\ttotal: 1.07s\tremaining: 211ms\n",
      "835:\tlearn: 18.2103679\ttotal: 1.07s\tremaining: 210ms\n",
      "836:\tlearn: 18.1781032\ttotal: 1.07s\tremaining: 209ms\n",
      "837:\tlearn: 18.0746921\ttotal: 1.07s\tremaining: 207ms\n",
      "838:\tlearn: 18.0131984\ttotal: 1.07s\tremaining: 206ms\n",
      "839:\tlearn: 17.9510877\ttotal: 1.07s\tremaining: 205ms\n",
      "840:\tlearn: 17.8893536\ttotal: 1.07s\tremaining: 203ms\n",
      "841:\tlearn: 17.8813583\ttotal: 1.08s\tremaining: 202ms\n",
      "842:\tlearn: 17.8129857\ttotal: 1.08s\tremaining: 201ms\n",
      "843:\tlearn: 17.7981202\ttotal: 1.08s\tremaining: 199ms\n",
      "844:\tlearn: 17.7414627\ttotal: 1.08s\tremaining: 198ms\n",
      "845:\tlearn: 17.7255534\ttotal: 1.08s\tremaining: 197ms\n",
      "846:\tlearn: 17.6965545\ttotal: 1.08s\tremaining: 195ms\n",
      "847:\tlearn: 17.6499397\ttotal: 1.08s\tremaining: 194ms\n",
      "848:\tlearn: 17.6133852\ttotal: 1.08s\tremaining: 193ms\n",
      "849:\tlearn: 17.5621620\ttotal: 1.08s\tremaining: 191ms\n",
      "850:\tlearn: 17.5064049\ttotal: 1.08s\tremaining: 190ms\n",
      "851:\tlearn: 17.4643467\ttotal: 1.08s\tremaining: 189ms\n",
      "852:\tlearn: 17.4569544\ttotal: 1.09s\tremaining: 187ms\n",
      "853:\tlearn: 17.3731897\ttotal: 1.09s\tremaining: 186ms\n",
      "854:\tlearn: 17.3313609\ttotal: 1.09s\tremaining: 185ms\n",
      "855:\tlearn: 17.2781582\ttotal: 1.09s\tremaining: 183ms\n",
      "856:\tlearn: 17.2283433\ttotal: 1.09s\tremaining: 182ms\n",
      "857:\tlearn: 17.1944614\ttotal: 1.09s\tremaining: 181ms\n",
      "858:\tlearn: 17.1573393\ttotal: 1.09s\tremaining: 179ms\n",
      "859:\tlearn: 17.0975067\ttotal: 1.09s\tremaining: 178ms\n",
      "860:\tlearn: 17.0462043\ttotal: 1.09s\tremaining: 177ms\n",
      "861:\tlearn: 17.0118805\ttotal: 1.1s\tremaining: 175ms\n",
      "862:\tlearn: 17.0045195\ttotal: 1.1s\tremaining: 174ms\n",
      "863:\tlearn: 16.9528999\ttotal: 1.1s\tremaining: 173ms\n",
      "864:\tlearn: 16.9270632\ttotal: 1.1s\tremaining: 172ms\n",
      "865:\tlearn: 16.8915252\ttotal: 1.1s\tremaining: 170ms\n",
      "866:\tlearn: 16.7946576\ttotal: 1.1s\tremaining: 169ms\n",
      "867:\tlearn: 16.7737222\ttotal: 1.1s\tremaining: 168ms\n",
      "868:\tlearn: 16.7192509\ttotal: 1.1s\tremaining: 166ms\n",
      "869:\tlearn: 16.7138388\ttotal: 1.1s\tremaining: 165ms\n",
      "870:\tlearn: 16.6877768\ttotal: 1.1s\tremaining: 164ms\n",
      "871:\tlearn: 16.6265748\ttotal: 1.11s\tremaining: 162ms\n",
      "872:\tlearn: 16.5641199\ttotal: 1.11s\tremaining: 161ms\n",
      "873:\tlearn: 16.4935111\ttotal: 1.11s\tremaining: 160ms\n",
      "874:\tlearn: 16.4250863\ttotal: 1.11s\tremaining: 159ms\n",
      "875:\tlearn: 16.3566947\ttotal: 1.11s\tremaining: 157ms\n",
      "876:\tlearn: 16.2731185\ttotal: 1.11s\tremaining: 156ms\n",
      "877:\tlearn: 16.2207923\ttotal: 1.11s\tremaining: 155ms\n",
      "878:\tlearn: 16.2073108\ttotal: 1.11s\tremaining: 153ms\n",
      "879:\tlearn: 16.1336576\ttotal: 1.11s\tremaining: 152ms\n",
      "880:\tlearn: 16.0994139\ttotal: 1.11s\tremaining: 151ms\n",
      "881:\tlearn: 16.0720217\ttotal: 1.12s\tremaining: 149ms\n",
      "882:\tlearn: 16.0192163\ttotal: 1.12s\tremaining: 148ms\n",
      "883:\tlearn: 16.0021989\ttotal: 1.12s\tremaining: 147ms\n",
      "884:\tlearn: 15.9003005\ttotal: 1.12s\tremaining: 145ms\n",
      "885:\tlearn: 15.8685768\ttotal: 1.12s\tremaining: 144ms\n",
      "886:\tlearn: 15.7757199\ttotal: 1.12s\tremaining: 143ms\n",
      "887:\tlearn: 15.7280015\ttotal: 1.12s\tremaining: 142ms\n",
      "888:\tlearn: 15.7037867\ttotal: 1.12s\tremaining: 140ms\n",
      "889:\tlearn: 15.6876254\ttotal: 1.12s\tremaining: 139ms\n",
      "890:\tlearn: 15.6002589\ttotal: 1.13s\tremaining: 138ms\n",
      "891:\tlearn: 15.5663914\ttotal: 1.13s\tremaining: 136ms\n",
      "892:\tlearn: 15.4827503\ttotal: 1.13s\tremaining: 135ms\n",
      "893:\tlearn: 15.4422647\ttotal: 1.13s\tremaining: 134ms\n",
      "894:\tlearn: 15.4230904\ttotal: 1.13s\tremaining: 132ms\n",
      "895:\tlearn: 15.3907978\ttotal: 1.13s\tremaining: 131ms\n",
      "896:\tlearn: 15.3022423\ttotal: 1.13s\tremaining: 130ms\n",
      "897:\tlearn: 15.2770800\ttotal: 1.13s\tremaining: 129ms\n",
      "898:\tlearn: 15.2708396\ttotal: 1.13s\tremaining: 127ms\n",
      "899:\tlearn: 15.2217814\ttotal: 1.13s\tremaining: 126ms\n",
      "900:\tlearn: 15.2150872\ttotal: 1.14s\tremaining: 125ms\n",
      "901:\tlearn: 15.1938758\ttotal: 1.14s\tremaining: 124ms\n",
      "902:\tlearn: 15.1087389\ttotal: 1.14s\tremaining: 122ms\n",
      "903:\tlearn: 15.0270836\ttotal: 1.14s\tremaining: 121ms\n",
      "904:\tlearn: 14.9579009\ttotal: 1.14s\tremaining: 120ms\n",
      "905:\tlearn: 14.9321713\ttotal: 1.14s\tremaining: 119ms\n",
      "906:\tlearn: 14.9254894\ttotal: 1.14s\tremaining: 117ms\n",
      "907:\tlearn: 14.8662999\ttotal: 1.14s\tremaining: 116ms\n",
      "908:\tlearn: 14.7969088\ttotal: 1.15s\tremaining: 115ms\n",
      "909:\tlearn: 14.7187437\ttotal: 1.15s\tremaining: 113ms\n",
      "910:\tlearn: 14.6594229\ttotal: 1.15s\tremaining: 112ms\n",
      "911:\tlearn: 14.6109629\ttotal: 1.15s\tremaining: 111ms\n",
      "912:\tlearn: 14.5833869\ttotal: 1.15s\tremaining: 110ms\n",
      "913:\tlearn: 14.5677206\ttotal: 1.15s\tremaining: 108ms\n",
      "914:\tlearn: 14.5260964\ttotal: 1.15s\tremaining: 107ms\n",
      "915:\tlearn: 14.4838792\ttotal: 1.15s\tremaining: 106ms\n",
      "916:\tlearn: 14.4614097\ttotal: 1.15s\tremaining: 104ms\n",
      "917:\tlearn: 14.4432212\ttotal: 1.15s\tremaining: 103ms\n",
      "918:\tlearn: 14.4363977\ttotal: 1.16s\tremaining: 102ms\n",
      "919:\tlearn: 14.3740822\ttotal: 1.16s\tremaining: 101ms\n",
      "920:\tlearn: 14.3363459\ttotal: 1.16s\tremaining: 99.2ms\n",
      "921:\tlearn: 14.2862425\ttotal: 1.16s\tremaining: 98ms\n",
      "922:\tlearn: 14.2195191\ttotal: 1.16s\tremaining: 96.7ms\n",
      "923:\tlearn: 14.1752422\ttotal: 1.16s\tremaining: 95.4ms\n",
      "924:\tlearn: 14.1582897\ttotal: 1.16s\tremaining: 94.1ms\n",
      "925:\tlearn: 14.0892518\ttotal: 1.16s\tremaining: 92.8ms\n",
      "926:\tlearn: 14.0163904\ttotal: 1.16s\tremaining: 91.6ms\n",
      "927:\tlearn: 13.9674906\ttotal: 1.16s\tremaining: 90.3ms\n",
      "928:\tlearn: 13.9421041\ttotal: 1.16s\tremaining: 89ms\n",
      "929:\tlearn: 13.9264108\ttotal: 1.17s\tremaining: 87.7ms\n",
      "930:\tlearn: 13.8953443\ttotal: 1.17s\tremaining: 86.5ms\n",
      "931:\tlearn: 13.8514821\ttotal: 1.17s\tremaining: 85.2ms\n",
      "932:\tlearn: 13.8317730\ttotal: 1.17s\tremaining: 83.9ms\n",
      "933:\tlearn: 13.7980615\ttotal: 1.17s\tremaining: 82.6ms\n",
      "934:\tlearn: 13.7252551\ttotal: 1.17s\tremaining: 81.4ms\n",
      "935:\tlearn: 13.6867475\ttotal: 1.17s\tremaining: 80.1ms\n",
      "936:\tlearn: 13.6663164\ttotal: 1.17s\tremaining: 78.8ms\n",
      "937:\tlearn: 13.6108173\ttotal: 1.17s\tremaining: 77.6ms\n",
      "938:\tlearn: 13.5827380\ttotal: 1.17s\tremaining: 76.3ms\n",
      "939:\tlearn: 13.5211246\ttotal: 1.18s\tremaining: 75ms\n",
      "940:\tlearn: 13.4752089\ttotal: 1.18s\tremaining: 73.8ms\n",
      "941:\tlearn: 13.4283115\ttotal: 1.18s\tremaining: 72.5ms\n",
      "942:\tlearn: 13.3912327\ttotal: 1.18s\tremaining: 71.2ms\n",
      "943:\tlearn: 13.3593766\ttotal: 1.18s\tremaining: 70ms\n",
      "944:\tlearn: 13.3015250\ttotal: 1.18s\tremaining: 68.7ms\n",
      "945:\tlearn: 13.2587480\ttotal: 1.18s\tremaining: 67.4ms\n",
      "946:\tlearn: 13.1949436\ttotal: 1.18s\tremaining: 66.2ms\n",
      "947:\tlearn: 13.1552441\ttotal: 1.18s\tremaining: 64.9ms\n",
      "948:\tlearn: 13.0700947\ttotal: 1.18s\tremaining: 63.6ms\n",
      "949:\tlearn: 13.0460884\ttotal: 1.19s\tremaining: 62.4ms\n",
      "950:\tlearn: 13.0315972\ttotal: 1.19s\tremaining: 61.1ms\n",
      "951:\tlearn: 12.9964111\ttotal: 1.19s\tremaining: 59.9ms\n",
      "952:\tlearn: 12.9757139\ttotal: 1.19s\tremaining: 58.6ms\n",
      "953:\tlearn: 12.9120533\ttotal: 1.19s\tremaining: 57.4ms\n",
      "954:\tlearn: 12.8776679\ttotal: 1.19s\tremaining: 56.1ms\n",
      "955:\tlearn: 12.8703243\ttotal: 1.19s\tremaining: 54.8ms\n",
      "956:\tlearn: 12.8058615\ttotal: 1.19s\tremaining: 53.6ms\n",
      "957:\tlearn: 12.7637381\ttotal: 1.19s\tremaining: 52.3ms\n",
      "958:\tlearn: 12.7517063\ttotal: 1.19s\tremaining: 51ms\n",
      "959:\tlearn: 12.7382108\ttotal: 1.19s\tremaining: 49.8ms\n",
      "960:\tlearn: 12.6881713\ttotal: 1.2s\tremaining: 48.5ms\n",
      "961:\tlearn: 12.6728317\ttotal: 1.2s\tremaining: 47.3ms\n",
      "962:\tlearn: 12.6386609\ttotal: 1.2s\tremaining: 46ms\n",
      "963:\tlearn: 12.5837642\ttotal: 1.2s\tremaining: 44.8ms\n",
      "964:\tlearn: 12.5689789\ttotal: 1.2s\tremaining: 43.5ms\n",
      "965:\tlearn: 12.5362136\ttotal: 1.2s\tremaining: 42.2ms\n"
     ]
    },
    {
     "name": "stdout",
     "output_type": "stream",
     "text": [
      "966:\tlearn: 12.5186020\ttotal: 1.2s\tremaining: 41ms\n",
      "967:\tlearn: 12.4787889\ttotal: 1.2s\tremaining: 39.8ms\n",
      "968:\tlearn: 12.4463866\ttotal: 1.2s\tremaining: 38.5ms\n",
      "969:\tlearn: 12.3919484\ttotal: 1.2s\tremaining: 37.3ms\n",
      "970:\tlearn: 12.3583173\ttotal: 1.21s\tremaining: 36ms\n",
      "971:\tlearn: 12.3430204\ttotal: 1.21s\tremaining: 34.8ms\n",
      "972:\tlearn: 12.3036135\ttotal: 1.21s\tremaining: 33.5ms\n",
      "973:\tlearn: 12.2785886\ttotal: 1.21s\tremaining: 32.3ms\n",
      "974:\tlearn: 12.2424148\ttotal: 1.21s\tremaining: 31ms\n",
      "975:\tlearn: 12.2287225\ttotal: 1.21s\tremaining: 29.8ms\n",
      "976:\tlearn: 12.1894056\ttotal: 1.21s\tremaining: 28.5ms\n",
      "977:\tlearn: 12.1399699\ttotal: 1.21s\tremaining: 27.3ms\n",
      "978:\tlearn: 12.1165698\ttotal: 1.21s\tremaining: 26ms\n",
      "979:\tlearn: 12.1084930\ttotal: 1.21s\tremaining: 24.8ms\n",
      "980:\tlearn: 12.1041455\ttotal: 1.22s\tremaining: 23.6ms\n",
      "981:\tlearn: 12.0749440\ttotal: 1.22s\tremaining: 22.3ms\n",
      "982:\tlearn: 12.0676323\ttotal: 1.22s\tremaining: 21.1ms\n",
      "983:\tlearn: 12.0253491\ttotal: 1.22s\tremaining: 19.8ms\n",
      "984:\tlearn: 11.9725269\ttotal: 1.22s\tremaining: 18.6ms\n",
      "985:\tlearn: 11.9344239\ttotal: 1.22s\tremaining: 17.4ms\n",
      "986:\tlearn: 11.8870660\ttotal: 1.22s\tremaining: 16.1ms\n",
      "987:\tlearn: 11.8411099\ttotal: 1.22s\tremaining: 14.9ms\n",
      "988:\tlearn: 11.7973602\ttotal: 1.23s\tremaining: 13.6ms\n",
      "989:\tlearn: 11.7514376\ttotal: 1.23s\tremaining: 12.4ms\n",
      "990:\tlearn: 11.7232746\ttotal: 1.23s\tremaining: 11.1ms\n",
      "991:\tlearn: 11.6852796\ttotal: 1.23s\tremaining: 9.9ms\n",
      "992:\tlearn: 11.6463794\ttotal: 1.23s\tremaining: 8.66ms\n",
      "993:\tlearn: 11.6106308\ttotal: 1.23s\tremaining: 7.42ms\n",
      "994:\tlearn: 11.5731961\ttotal: 1.23s\tremaining: 6.18ms\n",
      "995:\tlearn: 11.5417359\ttotal: 1.23s\tremaining: 4.95ms\n",
      "996:\tlearn: 11.5167117\ttotal: 1.23s\tremaining: 3.71ms\n",
      "997:\tlearn: 11.4745232\ttotal: 1.23s\tremaining: 2.47ms\n",
      "998:\tlearn: 11.4604481\ttotal: 1.23s\tremaining: 1.24ms\n",
      "999:\tlearn: 11.4510502\ttotal: 1.24s\tremaining: 0us\n"
     ]
    }
   ],
   "source": [
    "catb_model=CatBoostRegressor().fit(x_train,y_train)"
   ]
  },
  {
   "cell_type": "code",
   "execution_count": 35,
   "id": "4e823da8",
   "metadata": {},
   "outputs": [],
   "source": [
    "y_pred=catb_model.predict(x_test)"
   ]
  },
  {
   "cell_type": "code",
   "execution_count": 36,
   "id": "189e2b63",
   "metadata": {},
   "outputs": [
    {
     "data": {
      "text/plain": [
       "351.194631344607"
      ]
     },
     "execution_count": 36,
     "metadata": {},
     "output_type": "execute_result"
    }
   ],
   "source": [
    "np.sqrt(mean_squared_error(y_test,y_pred))"
   ]
  },
  {
   "cell_type": "markdown",
   "id": "0f1c7f08",
   "metadata": {},
   "source": [
    "## Model Tuning"
   ]
  },
  {
   "cell_type": "code",
   "execution_count": 37,
   "id": "90985908",
   "metadata": {},
   "outputs": [],
   "source": [
    "#burda gene aynı ama catboostta\n",
    "#iterations=estimators(ağaç)\n",
    "#depth=max_depth"
   ]
  },
  {
   "cell_type": "markdown",
   "id": "2afa1a83",
   "metadata": {},
   "source": [
    "# Makine Öğrenmesi Görevlerinin Otomatikleştirilmesi"
   ]
  },
  {
   "cell_type": "code",
   "execution_count": 4,
   "id": "79c2e68a",
   "metadata": {},
   "outputs": [],
   "source": [
    "df=pd.read_csv(\"Hitters.csv\")\n",
    "df=df.dropna()\n",
    "dms=pd.get_dummies(df[[\"League\",\"Division\",\"NewLeague\"]])"
   ]
  },
  {
   "cell_type": "code",
   "execution_count": 5,
   "id": "d627584c",
   "metadata": {},
   "outputs": [],
   "source": [
    "def compML(df, y, alg):\n",
    "    \n",
    "    #train-test ayrimi\n",
    "    y = df[y] # bagimli degiskeni gelecek\n",
    "    X_ = df.drop(['Salary', 'League', 'Division', 'NewLeague'], axis=1).astype('float64')\n",
    "    X = pd.concat([X_, dms[['League_N', 'Division_W', 'NewLeague_N']]], axis=1)\n",
    "    X_train, X_test, y_train, y_test = train_test_split(X, y, \n",
    "                                                    test_size=0.25, \n",
    "                                                    random_state=42)\n",
    "    #modelleme\n",
    "    model = alg().fit(X_train,y_train)\n",
    "    y_pred = model.predict(X_test)\n",
    "    RMSE = np.sqrt(mean_squared_error(y_test, y_pred))\n",
    "    # modelin ismi alacak\n",
    "    model_ismi = alg.__name__\n",
    "    print(model_ismi, \"Modeli test hatasi:\", RMSE)"
   ]
  },
  {
   "cell_type": "code",
   "execution_count": 6,
   "id": "187b4b04",
   "metadata": {},
   "outputs": [
    {
     "name": "stdout",
     "output_type": "stream",
     "text": [
      "SVR Modeli test hatasi: 460.0032657244849\n"
     ]
    }
   ],
   "source": [
    "compML(df, \"Salary\", SVR)"
   ]
  },
  {
   "cell_type": "code",
   "execution_count": 11,
   "id": "acd0134b",
   "metadata": {},
   "outputs": [
    {
     "name": "stdout",
     "output_type": "stream",
     "text": [
      "LGBMRegressor Modeli test hatasi: 363.8712087611089\n",
      "XGBRegressor Modeli test hatasi: 355.46515176059927\n",
      "GradientBoostingRegressor Modeli test hatasi: 350.94108915338774\n",
      "RandomForestRegressor Modeli test hatasi: 345.37968989032976\n",
      "DecisionTreeRegressor Modeli test hatasi: 482.4955274080504\n",
      "MLPRegressor Modeli test hatasi: 443.5028576497631\n",
      "KNeighborsRegressor Modeli test hatasi: 426.6570764525201\n",
      "SVR Modeli test hatasi: 460.0032657244849\n"
     ]
    }
   ],
   "source": [
    "models = [LGBMRegressor, \n",
    "         XGBRegressor,\n",
    "         GradientBoostingRegressor,\n",
    "         RandomForestRegressor,\n",
    "         DecisionTreeRegressor,\n",
    "         MLPRegressor,\n",
    "         KNeighborsRegressor,\n",
    "         SVR]\n",
    "for i in models:\n",
    "    (i, \"Algrtm Test Hatası:\", compML(df, \"Salary\", i))"
   ]
  }
 ],
 "metadata": {
  "kernelspec": {
   "display_name": "Python 3",
   "language": "python",
   "name": "python3"
  },
  "language_info": {
   "codemirror_mode": {
    "name": "ipython",
    "version": 3
   },
   "file_extension": ".py",
   "mimetype": "text/x-python",
   "name": "python",
   "nbconvert_exporter": "python",
   "pygments_lexer": "ipython3",
   "version": "3.8.8"
  }
 },
 "nbformat": 4,
 "nbformat_minor": 5
}
